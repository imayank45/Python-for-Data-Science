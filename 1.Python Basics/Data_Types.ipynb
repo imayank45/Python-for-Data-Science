{
  "nbformat": 4,
  "nbformat_minor": 0,
  "metadata": {
    "colab": {
      "provenance": []
    },
    "kernelspec": {
      "name": "python3",
      "display_name": "Python 3"
    },
    "language_info": {
      "name": "python"
    }
  },
  "cells": [
    {
      "cell_type": "markdown",
      "source": [
        "## 1. Numeric Data Types in Python\n"
      ],
      "metadata": {
        "id": "ldEn7VlO4uuE"
      }
    },
    {
      "cell_type": "code",
      "execution_count": 1,
      "metadata": {
        "colab": {
          "base_uri": "https://localhost:8080/"
        },
        "id": "k7EDI3jQ4rgG",
        "outputId": "aaf1633b-f920-4fdd-971e-2fe101c82967"
      },
      "outputs": [
        {
          "output_type": "stream",
          "name": "stdout",
          "text": [
            "<class 'int'>\n",
            "<class 'float'>\n",
            "<class 'complex'>\n"
          ]
        }
      ],
      "source": [
        "a = 5\n",
        "print(type(a))\n",
        "\n",
        "b = 5.0\n",
        "print(type(b))\n",
        "\n",
        "c = 2 + 4j\n",
        "print(type(c))"
      ]
    },
    {
      "cell_type": "markdown",
      "source": [
        "## 2. Sequence Data Types in Python"
      ],
      "metadata": {
        "id": "U_-1tnNO4ztU"
      }
    },
    {
      "cell_type": "markdown",
      "source": [
        "### String Data Type\n"
      ],
      "metadata": {
        "id": "ekg3PqKs41-_"
      }
    },
    {
      "cell_type": "code",
      "source": [
        "s = 'Welcome to the Geeks World'\n",
        "print(s)\n",
        "\n",
        "# check data type\n",
        "print(type(s))\n",
        "\n",
        "# access string with index\n",
        "print(s[1])\n",
        "print(s[2])\n",
        "print(s[-1])"
      ],
      "metadata": {
        "colab": {
          "base_uri": "https://localhost:8080/"
        },
        "id": "C3MGllQM4xdD",
        "outputId": "efeff05b-d1fb-43aa-fc3d-b0c43d6573d5"
      },
      "execution_count": 2,
      "outputs": [
        {
          "output_type": "stream",
          "name": "stdout",
          "text": [
            "Welcome to the Geeks World\n",
            "<class 'str'>\n",
            "e\n",
            "l\n",
            "d\n"
          ]
        }
      ]
    },
    {
      "cell_type": "markdown",
      "source": [
        "### List Data Type\n"
      ],
      "metadata": {
        "id": "zmlsEtyy46Cz"
      }
    },
    {
      "cell_type": "code",
      "source": [
        "# Empty list\n",
        "a = []\n",
        "\n",
        "# list with int values\n",
        "a = [1, 2, 3]\n",
        "print(a)\n",
        "\n",
        "# list with mixed int and string\n",
        "b = [\"Geeks\", \"For\", \"Geeks\", 4, 5]\n",
        "print(b)"
      ],
      "metadata": {
        "colab": {
          "base_uri": "https://localhost:8080/"
        },
        "id": "uCPfU3Ie44VF",
        "outputId": "8a6201b9-8ea5-43d0-d831-6343099b2b58"
      },
      "execution_count": 3,
      "outputs": [
        {
          "output_type": "stream",
          "name": "stdout",
          "text": [
            "[1, 2, 3]\n",
            "['Geeks', 'For', 'Geeks', 4, 5]\n"
          ]
        }
      ]
    },
    {
      "cell_type": "markdown",
      "source": [
        "### Tuple Data Type\n"
      ],
      "metadata": {
        "id": "jkoBYHET4-Gr"
      }
    },
    {
      "cell_type": "code",
      "source": [
        "# initiate empty tuple\n",
        "tup1 = ()\n",
        "\n",
        "tup2 = ('Geeks', 'For')\n",
        "print(\"\\nTuple with the use of String: \", tup2)"
      ],
      "metadata": {
        "colab": {
          "base_uri": "https://localhost:8080/"
        },
        "id": "jAtLw_oP48En",
        "outputId": "86b0128b-eff5-4439-9c16-4af44e234652"
      },
      "execution_count": 4,
      "outputs": [
        {
          "output_type": "stream",
          "name": "stdout",
          "text": [
            "\n",
            "Tuple with the use of String:  ('Geeks', 'For')\n"
          ]
        }
      ]
    },
    {
      "cell_type": "markdown",
      "source": [
        "## 3. Boolean Data Type in Python\n"
      ],
      "metadata": {
        "id": "xp_3ZEPg5D82"
      }
    },
    {
      "cell_type": "code",
      "source": [
        "print(type(True))\n",
        "print(type(False))\n",
        "print(type(true))"
      ],
      "metadata": {
        "colab": {
          "base_uri": "https://localhost:8080/",
          "height": 219
        },
        "id": "E-NgM1ce5ATg",
        "outputId": "5b6f0e5f-26fb-401a-abbc-c2927472afd1"
      },
      "execution_count": 5,
      "outputs": [
        {
          "output_type": "stream",
          "name": "stdout",
          "text": [
            "<class 'bool'>\n",
            "<class 'bool'>\n"
          ]
        },
        {
          "output_type": "error",
          "ename": "NameError",
          "evalue": "name 'true' is not defined",
          "traceback": [
            "\u001b[0;31m---------------------------------------------------------------------------\u001b[0m",
            "\u001b[0;31mNameError\u001b[0m                                 Traceback (most recent call last)",
            "\u001b[0;32m<ipython-input-5-5bfe175a5f35>\u001b[0m in \u001b[0;36m<cell line: 0>\u001b[0;34m()\u001b[0m\n\u001b[1;32m      1\u001b[0m \u001b[0mprint\u001b[0m\u001b[0;34m(\u001b[0m\u001b[0mtype\u001b[0m\u001b[0;34m(\u001b[0m\u001b[0;32mTrue\u001b[0m\u001b[0;34m)\u001b[0m\u001b[0;34m)\u001b[0m\u001b[0;34m\u001b[0m\u001b[0;34m\u001b[0m\u001b[0m\n\u001b[1;32m      2\u001b[0m \u001b[0mprint\u001b[0m\u001b[0;34m(\u001b[0m\u001b[0mtype\u001b[0m\u001b[0;34m(\u001b[0m\u001b[0;32mFalse\u001b[0m\u001b[0;34m)\u001b[0m\u001b[0;34m)\u001b[0m\u001b[0;34m\u001b[0m\u001b[0;34m\u001b[0m\u001b[0m\n\u001b[0;32m----> 3\u001b[0;31m \u001b[0mprint\u001b[0m\u001b[0;34m(\u001b[0m\u001b[0mtype\u001b[0m\u001b[0;34m(\u001b[0m\u001b[0mtrue\u001b[0m\u001b[0;34m)\u001b[0m\u001b[0;34m)\u001b[0m\u001b[0;34m\u001b[0m\u001b[0;34m\u001b[0m\u001b[0m\n\u001b[0m",
            "\u001b[0;31mNameError\u001b[0m: name 'true' is not defined"
          ]
        }
      ]
    },
    {
      "cell_type": "markdown",
      "source": [
        "## 4. Set Data Type in Python\n"
      ],
      "metadata": {
        "id": "BOjsH09X5JSd"
      }
    },
    {
      "cell_type": "code",
      "source": [
        "# initializing empty set\n",
        "s1 = set()\n",
        "\n",
        "s1 = set(\"GeeksForGeeks\")\n",
        "print(\"Set with the use of String: \", s1)\n",
        "\n",
        "s2 = set([\"Geeks\", \"For\", \"Geeks\"])\n",
        "print(\"Set with the use of List: \", s2)"
      ],
      "metadata": {
        "colab": {
          "base_uri": "https://localhost:8080/"
        },
        "id": "wUMds0PE5GCc",
        "outputId": "9fd631db-9378-442a-b469-14daa829800d"
      },
      "execution_count": 6,
      "outputs": [
        {
          "output_type": "stream",
          "name": "stdout",
          "text": [
            "Set with the use of String:  {'G', 'r', 's', 'o', 'e', 'k', 'F'}\n",
            "Set with the use of List:  {'Geeks', 'For'}\n"
          ]
        }
      ]
    },
    {
      "cell_type": "markdown",
      "source": [
        "## 5. Dictionary Data Type"
      ],
      "metadata": {
        "id": "CCJ1OgSj5NLh"
      }
    },
    {
      "cell_type": "code",
      "source": [
        "# initialize empty dictionary\n",
        "d = {}\n",
        "\n",
        "\n",
        "d = {1: 'Geeks', 2: 'For', 3: 'Geeks'}\n",
        "print(d)\n",
        "\n",
        "# creating dictionary using dict() constructor\n",
        "d1 = dict({1: 'Geeks', 2: 'For', 3: 'Geeks'})\n",
        "print(d1)"
      ],
      "metadata": {
        "colab": {
          "base_uri": "https://localhost:8080/"
        },
        "id": "iyhhSkSK5Lt_",
        "outputId": "419f8461-d018-4137-b751-79c7c6690ee8"
      },
      "execution_count": 7,
      "outputs": [
        {
          "output_type": "stream",
          "name": "stdout",
          "text": [
            "{1: 'Geeks', 2: 'For', 3: 'Geeks'}\n",
            "{1: 'Geeks', 2: 'For', 3: 'Geeks'}\n"
          ]
        }
      ]
    },
    {
      "cell_type": "code",
      "source": [],
      "metadata": {
        "id": "NgDZrVkb5PcW"
      },
      "execution_count": null,
      "outputs": []
    }
  ]
}