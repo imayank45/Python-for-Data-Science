{
  "nbformat": 4,
  "nbformat_minor": 0,
  "metadata": {
    "colab": {
      "provenance": []
    },
    "kernelspec": {
      "name": "python3",
      "display_name": "Python 3"
    },
    "language_info": {
      "name": "python"
    }
  },
  "cells": [
    {
      "cell_type": "markdown",
      "source": [
        "## Taking input in python"
      ],
      "metadata": {
        "id": "iBy3p1mR8hmk"
      }
    },
    {
      "cell_type": "code",
      "execution_count": 1,
      "metadata": {
        "colab": {
          "base_uri": "https://localhost:8080/"
        },
        "id": "0_DCOnum8aWU",
        "outputId": "f61706ad-ada7-493f-9311-8119b040a09f"
      },
      "outputs": [
        {
          "output_type": "stream",
          "name": "stdout",
          "text": [
            "Enter your name: Mayank\n",
            "Hello Mayank Welcome\n"
          ]
        }
      ],
      "source": [
        "name = input(\"Enter your name: \")\n",
        "print(\"Hello\", name, \"Welcome\")"
      ]
    },
    {
      "cell_type": "markdown",
      "source": [
        "## Printing Output using print() in Python"
      ],
      "metadata": {
        "id": "-Gknxkfe83l-"
      }
    },
    {
      "cell_type": "code",
      "source": [
        "print(\"Hello World!\")"
      ],
      "metadata": {
        "colab": {
          "base_uri": "https://localhost:8080/"
        },
        "id": "YoRbkSlK8wHt",
        "outputId": "fb911f84-351b-43e3-e822-69abbe105a4e"
      },
      "execution_count": 2,
      "outputs": [
        {
          "output_type": "stream",
          "name": "stdout",
          "text": [
            "Hello World!\n"
          ]
        }
      ]
    },
    {
      "cell_type": "markdown",
      "source": [
        "## Printing Variables"
      ],
      "metadata": {
        "id": "U6YU4mzS89JZ"
      }
    },
    {
      "cell_type": "code",
      "source": [
        "# single variable\n",
        "s = \"Bob\"\n",
        "print(s)\n",
        "\n",
        "# multiple variables\n",
        "s = \"Alice\"\n",
        "age = 23\n",
        "print(s, age)"
      ],
      "metadata": {
        "colab": {
          "base_uri": "https://localhost:8080/"
        },
        "id": "fFtw9pGn87Bu",
        "outputId": "15a933d3-7563-484b-87b7-f11c9b1f7e61"
      },
      "execution_count": 3,
      "outputs": [
        {
          "output_type": "stream",
          "name": "stdout",
          "text": [
            "Bob\n",
            "Alice 23\n"
          ]
        }
      ]
    },
    {
      "cell_type": "markdown",
      "source": [
        "## Take Multiple Input in Python\n"
      ],
      "metadata": {
        "id": "FMmHlO9-9OKu"
      }
    },
    {
      "cell_type": "code",
      "source": [
        "x, y = input(\"Enter two values: \").split()\n",
        "print(\"Number of boys: \", x)\n",
        "print(\"Number of girls: \", y)\n",
        "print()"
      ],
      "metadata": {
        "colab": {
          "base_uri": "https://localhost:8080/"
        },
        "id": "QrMkaItH9J0C",
        "outputId": "2a647b8f-72f3-4ff8-e119-e3b9e93f51b2"
      },
      "execution_count": 5,
      "outputs": [
        {
          "output_type": "stream",
          "name": "stdout",
          "text": [
            "Enter two values: 10 11\n",
            "Number of boys:  10\n",
            "Number of girls:  11\n",
            "\n"
          ]
        }
      ]
    },
    {
      "cell_type": "markdown",
      "source": [
        "## Take Multiple Input in Python"
      ],
      "metadata": {
        "id": "PgYD2YiE9ziQ"
      }
    },
    {
      "cell_type": "markdown",
      "source": [
        "### 1. Print Names in Python\n"
      ],
      "metadata": {
        "id": "PBku35hO938E"
      }
    },
    {
      "cell_type": "code",
      "source": [
        "color = input(\"What is the color of Rose?: \")\n",
        "print(color)"
      ],
      "metadata": {
        "colab": {
          "base_uri": "https://localhost:8080/"
        },
        "id": "DIMgeYqT9R_M",
        "outputId": "db9042d5-9875-4422-d4eb-016d197ff2b5"
      },
      "execution_count": 6,
      "outputs": [
        {
          "output_type": "stream",
          "name": "stdout",
          "text": [
            "What is the color of Rose?: Red\n",
            "Red\n"
          ]
        }
      ]
    },
    {
      "cell_type": "markdown",
      "source": [
        "### 2. Print Float/Decimal Number in Python\n"
      ],
      "metadata": {
        "id": "vUdqtHQl-IEF"
      }
    },
    {
      "cell_type": "code",
      "source": [
        "price = float(input(\"Enter price: \"))\n",
        "print(price)"
      ],
      "metadata": {
        "colab": {
          "base_uri": "https://localhost:8080/"
        },
        "id": "09TNp2gV-B6F",
        "outputId": "829858aa-cb42-4835-bc04-762f9d32127a"
      },
      "execution_count": 7,
      "outputs": [
        {
          "output_type": "stream",
          "name": "stdout",
          "text": [
            "Enter price: 12.2\n",
            "12.2\n"
          ]
        }
      ]
    },
    {
      "cell_type": "markdown",
      "source": [
        "## Find DataType of Input in Python\n"
      ],
      "metadata": {
        "id": "V6OPQKJT_qd9"
      }
    },
    {
      "cell_type": "code",
      "source": [
        "a = \"Hello, World!\"\n",
        "b = 100\n",
        "c = 11.22\n",
        "d = (\"hi\", \"bye\", \"tata\")\n",
        "e = [\"apple\", \"mango\"]\n",
        "f = {\"age\":23, \"name\":\"mayank\"}\n",
        "\n",
        "print(type(a))\n",
        "print(type(b))\n",
        "print(type(c))\n",
        "print(type(d))\n",
        "print(type(e))\n",
        "print(type(f))"
      ],
      "metadata": {
        "colab": {
          "base_uri": "https://localhost:8080/"
        },
        "id": "9RuOETIf-PYd",
        "outputId": "4fc1f1cd-d078-4725-be5e-da653c7e1e39"
      },
      "execution_count": 8,
      "outputs": [
        {
          "output_type": "stream",
          "name": "stdout",
          "text": [
            "<class 'str'>\n",
            "<class 'int'>\n",
            "<class 'float'>\n",
            "<class 'tuple'>\n",
            "<class 'list'>\n",
            "<class 'dict'>\n"
          ]
        }
      ]
    },
    {
      "cell_type": "markdown",
      "source": [
        "## Output Formatting"
      ],
      "metadata": {
        "id": "XAXsiOAqB8fO"
      }
    },
    {
      "cell_type": "markdown",
      "source": [
        "Example 1: Using Format()"
      ],
      "metadata": {
        "id": "gz3yBIsqCD0P"
      }
    },
    {
      "cell_type": "code",
      "source": [
        "amount = 12.75\n",
        "print(\"Amount: ${:.2f}\".format(amount))"
      ],
      "metadata": {
        "colab": {
          "base_uri": "https://localhost:8080/"
        },
        "id": "-yP_9tfAAH32",
        "outputId": "9538e919-2058-4430-ec36-3df32bf2e9ef"
      },
      "execution_count": 13,
      "outputs": [
        {
          "output_type": "stream",
          "name": "stdout",
          "text": [
            "Amount: $12.75\n"
          ]
        }
      ]
    },
    {
      "cell_type": "markdown",
      "source": [
        "Example 2: Using sep and end parameter"
      ],
      "metadata": {
        "id": "Wd9k6EgrCaMA"
      }
    },
    {
      "cell_type": "code",
      "source": [
        "# end paramter with @\n",
        "print(\"Mayank\", end=\"@\")\n",
        "print(\"Kathane\")"
      ],
      "metadata": {
        "colab": {
          "base_uri": "https://localhost:8080/"
        },
        "id": "3mbt_pSXCR58",
        "outputId": "bc4005d8-e431-4a6a-d7b3-9a2d47fe56b4"
      },
      "execution_count": 14,
      "outputs": [
        {
          "output_type": "stream",
          "name": "stdout",
          "text": [
            "Mayank@Kathane\n"
          ]
        }
      ]
    },
    {
      "cell_type": "code",
      "source": [
        "# seperating with comma\n",
        "print(\"Mayank\", \"Kathane\", sep=\" \")"
      ],
      "metadata": {
        "colab": {
          "base_uri": "https://localhost:8080/"
        },
        "id": "dAprfEM3CuKG",
        "outputId": "f67d7c6c-b2e6-4273-ce52-c872efdc2ff2"
      },
      "execution_count": 17,
      "outputs": [
        {
          "output_type": "stream",
          "name": "stdout",
          "text": [
            "Mayank Kathane\n"
          ]
        }
      ]
    },
    {
      "cell_type": "code",
      "source": [
        "# formatting date\n",
        "print(\"09\", \"12\", \"2016\", sep=\"-\")"
      ],
      "metadata": {
        "colab": {
          "base_uri": "https://localhost:8080/"
        },
        "id": "aAQRXcznCzRh",
        "outputId": "1cee4c30-6063-42f0-e600-0e5c67258427"
      },
      "execution_count": 18,
      "outputs": [
        {
          "output_type": "stream",
          "name": "stdout",
          "text": [
            "09-12-2016\n"
          ]
        }
      ]
    },
    {
      "cell_type": "markdown",
      "source": [
        "Example 3: Using f-string"
      ],
      "metadata": {
        "id": "yz4qzRniDAiQ"
      }
    },
    {
      "cell_type": "code",
      "source": [
        "name = \"Mayank\"\n",
        "age = 24\n",
        "print(f\"Hello! My name is {name}, I am {age} years old.\")"
      ],
      "metadata": {
        "colab": {
          "base_uri": "https://localhost:8080/"
        },
        "id": "mKKKhj5xC7ga",
        "outputId": "a9d59016-48c4-4aec-ae07-7478c4e519ce"
      },
      "execution_count": 19,
      "outputs": [
        {
          "output_type": "stream",
          "name": "stdout",
          "text": [
            "Hello! My name is Mayank, I am 24 years old.\n"
          ]
        }
      ]
    },
    {
      "cell_type": "markdown",
      "source": [
        "Example 4: Using % Operator"
      ],
      "metadata": {
        "id": "p6pMMgvGDaJx"
      }
    },
    {
      "cell_type": "code",
      "source": [
        "num = int(input(\"Enter a value: \"))\n",
        "add = num + 5\n",
        "print(\"The sum is %d\" %add)"
      ],
      "metadata": {
        "colab": {
          "base_uri": "https://localhost:8080/"
        },
        "id": "XzMg_ZzMDOva",
        "outputId": "38f9ce13-df58-4ca9-d616-8907b60c785a"
      },
      "execution_count": 21,
      "outputs": [
        {
          "output_type": "stream",
          "name": "stdout",
          "text": [
            "Enter a value: 20\n",
            "The sum is 25\n"
          ]
        }
      ]
    },
    {
      "cell_type": "code",
      "source": [],
      "metadata": {
        "id": "gE5QbtPUDqGF"
      },
      "execution_count": null,
      "outputs": []
    }
  ]
}