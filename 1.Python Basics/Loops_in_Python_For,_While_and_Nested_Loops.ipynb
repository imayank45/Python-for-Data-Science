{
  "nbformat": 4,
  "nbformat_minor": 0,
  "metadata": {
    "colab": {
      "provenance": []
    },
    "kernelspec": {
      "name": "python3",
      "display_name": "Python 3"
    },
    "language_info": {
      "name": "python"
    }
  },
  "cells": [
    {
      "cell_type": "markdown",
      "source": [
        "## While Loop in Python\n"
      ],
      "metadata": {
        "id": "dMD3RvG5Ve7Z"
      }
    },
    {
      "cell_type": "code",
      "execution_count": 1,
      "metadata": {
        "colab": {
          "base_uri": "https://localhost:8080/"
        },
        "id": "cO7mDWAcVcMG",
        "outputId": "d36cd7a4-9cfd-4106-db16-2bbc8c8a8757"
      },
      "outputs": [
        {
          "output_type": "stream",
          "name": "stdout",
          "text": [
            "Hello Mayank\n",
            "Hello Mayank\n",
            "Hello Mayank\n"
          ]
        }
      ],
      "source": [
        "cnt = 0\n",
        "while (cnt < 3):\n",
        "  cnt += 1\n",
        "  print(\"Hello Mayank\")"
      ]
    },
    {
      "cell_type": "markdown",
      "source": [
        "## Using else statement with While Loop in Python\n"
      ],
      "metadata": {
        "id": "C-VRsSMxVxc3"
      }
    },
    {
      "cell_type": "code",
      "source": [
        "cnt = 0\n",
        "while (cnt < 3):\n",
        "  cnt += 1\n",
        "  print(\"Hello Mayank\")\n",
        "else:\n",
        "  print(\"Hello Peter\")"
      ],
      "metadata": {
        "colab": {
          "base_uri": "https://localhost:8080/"
        },
        "id": "7gQhEEk0VqI4",
        "outputId": "b6d7f106-31ab-445a-de07-c9275ac93adc"
      },
      "execution_count": 2,
      "outputs": [
        {
          "output_type": "stream",
          "name": "stdout",
          "text": [
            "Hello Mayank\n",
            "Hello Mayank\n",
            "Hello Mayank\n",
            "Hello Peter\n"
          ]
        }
      ]
    },
    {
      "cell_type": "markdown",
      "source": [
        "## For Loop in Python\n"
      ],
      "metadata": {
        "id": "hxF85Va2V7RR"
      }
    },
    {
      "cell_type": "code",
      "source": [
        "n = 4\n",
        "for i in range(0, n):\n",
        "  print(i)"
      ],
      "metadata": {
        "colab": {
          "base_uri": "https://localhost:8080/"
        },
        "id": "G5kfsI0bV3c8",
        "outputId": "ebb74c06-cc0a-44ae-ee30-53f8f85bc5cf"
      },
      "execution_count": 3,
      "outputs": [
        {
          "output_type": "stream",
          "name": "stdout",
          "text": [
            "0\n",
            "1\n",
            "2\n",
            "3\n"
          ]
        }
      ]
    },
    {
      "cell_type": "markdown",
      "source": [
        "## Example with List, Tuple, String, and Dictionary Iteration Using for Loops in Python\n"
      ],
      "metadata": {
        "id": "zQu4KvRQWHCk"
      }
    },
    {
      "cell_type": "code",
      "source": [
        "li = [\"geeks\", \"for\", \"geeks\"]\n",
        "for i in li:\n",
        "    print(i)\n",
        "\n",
        "tup = (\"geeks\", \"for\", \"geeks\")\n",
        "for i in tup:\n",
        "    print(i)\n",
        "\n",
        "s = \"Geeks\"\n",
        "for i in s:\n",
        "    print(i)\n",
        "\n",
        "d = dict({'x':123, 'y':354})\n",
        "for i in d:\n",
        "    print(\"%s  %d\" % (i, d[i]))\n",
        "\n",
        "set1 = {1, 2, 3, 4, 5, 6}\n",
        "for i in set1:\n",
        "    print(i),"
      ],
      "metadata": {
        "colab": {
          "base_uri": "https://localhost:8080/"
        },
        "id": "QLCGtm10WDKF",
        "outputId": "33157666-7b77-4df3-b177-3a1cb997ef5b"
      },
      "execution_count": 4,
      "outputs": [
        {
          "output_type": "stream",
          "name": "stdout",
          "text": [
            "geeks\n",
            "for\n",
            "geeks\n",
            "geeks\n",
            "for\n",
            "geeks\n",
            "G\n",
            "e\n",
            "e\n",
            "k\n",
            "s\n",
            "x  123\n",
            "y  354\n",
            "1\n",
            "2\n",
            "3\n",
            "4\n",
            "5\n",
            "6\n"
          ]
        }
      ]
    },
    {
      "cell_type": "markdown",
      "source": [
        "## Iterating by the Index of Sequences"
      ],
      "metadata": {
        "id": "KumQuBbtWTxe"
      }
    },
    {
      "cell_type": "code",
      "source": [
        "list = [\"geeks\", \"for\", \"geeks\"]\n",
        "for index in range(len(list)):\n",
        "    print(list[index])"
      ],
      "metadata": {
        "colab": {
          "base_uri": "https://localhost:8080/"
        },
        "id": "pHCczVQVWJ8j",
        "outputId": "1492a82f-44c8-4885-f81c-a4dbdc78d9de"
      },
      "execution_count": 5,
      "outputs": [
        {
          "output_type": "stream",
          "name": "stdout",
          "text": [
            "geeks\n",
            "for\n",
            "geeks\n"
          ]
        }
      ]
    },
    {
      "cell_type": "markdown",
      "source": [
        "## Nested Loops in Python\n"
      ],
      "metadata": {
        "id": "bpcbS9URWdNe"
      }
    },
    {
      "cell_type": "code",
      "source": [
        "from __future__ import print_function\n",
        "for i in range(1, 5):\n",
        "    for j in range(i):\n",
        "        print(i, end=' ')\n",
        "    print()"
      ],
      "metadata": {
        "colab": {
          "base_uri": "https://localhost:8080/"
        },
        "id": "pPj3_6JaWXJk",
        "outputId": "af6f427e-7394-4564-caf5-29e55d10fa6b"
      },
      "execution_count": 6,
      "outputs": [
        {
          "output_type": "stream",
          "name": "stdout",
          "text": [
            "1 \n",
            "2 2 \n",
            "3 3 3 \n",
            "4 4 4 4 \n"
          ]
        }
      ]
    },
    {
      "cell_type": "markdown",
      "source": [
        "## Loop Control Statements\n"
      ],
      "metadata": {
        "id": "GNC6Hdc1WmMv"
      }
    },
    {
      "cell_type": "markdown",
      "source": [
        "### 1. Continue Statement\n"
      ],
      "metadata": {
        "id": "Xoc_O38BWpY_"
      }
    },
    {
      "cell_type": "code",
      "source": [
        "for letter in 'geeksforgeeks':\n",
        "    if letter == 'e' or letter == 's':\n",
        "        continue\n",
        "    print('Current Letter :', letter)"
      ],
      "metadata": {
        "colab": {
          "base_uri": "https://localhost:8080/"
        },
        "id": "TMqwhyj_WgIK",
        "outputId": "bcb63c51-3003-49ab-8fa6-4a8de2bacbb9"
      },
      "execution_count": 7,
      "outputs": [
        {
          "output_type": "stream",
          "name": "stdout",
          "text": [
            "Current Letter : g\n",
            "Current Letter : k\n",
            "Current Letter : f\n",
            "Current Letter : o\n",
            "Current Letter : r\n",
            "Current Letter : g\n",
            "Current Letter : k\n"
          ]
        }
      ]
    },
    {
      "cell_type": "markdown",
      "source": [
        "### 2. Break Statement\n"
      ],
      "metadata": {
        "id": "31WsmF-HWz3b"
      }
    },
    {
      "cell_type": "code",
      "source": [
        "for letter in 'geeksforgeeks':\n",
        "    if letter == 'e' or letter == 's':\n",
        "        break\n",
        "\n",
        "print('Current Letter :', letter)"
      ],
      "metadata": {
        "colab": {
          "base_uri": "https://localhost:8080/"
        },
        "id": "mWRctj_VWsEp",
        "outputId": "cc85c5c4-e0c1-4dce-8f2f-14b62a9e9fd6"
      },
      "execution_count": 8,
      "outputs": [
        {
          "output_type": "stream",
          "name": "stdout",
          "text": [
            "Current Letter : e\n"
          ]
        }
      ]
    },
    {
      "cell_type": "markdown",
      "source": [
        "### 3. Pass Statement\n"
      ],
      "metadata": {
        "id": "n8UmEOaYW5PS"
      }
    },
    {
      "cell_type": "code",
      "source": [
        "for letter in 'geeksforgeeks':\n",
        "    pass\n",
        "print('Last Letter :', letter)"
      ],
      "metadata": {
        "colab": {
          "base_uri": "https://localhost:8080/"
        },
        "id": "YvHdUNy5W3Pb",
        "outputId": "e0183e3f-d8a9-4b1e-e5c9-ac15f241f564"
      },
      "execution_count": 9,
      "outputs": [
        {
          "output_type": "stream",
          "name": "stdout",
          "text": [
            "Last Letter : s\n"
          ]
        }
      ]
    },
    {
      "cell_type": "code",
      "source": [],
      "metadata": {
        "id": "mRDOenRXW8ce"
      },
      "execution_count": null,
      "outputs": []
    }
  ]
}