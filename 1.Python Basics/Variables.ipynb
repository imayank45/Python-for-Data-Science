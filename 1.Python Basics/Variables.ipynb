{
  "nbformat": 4,
  "nbformat_minor": 0,
  "metadata": {
    "colab": {
      "provenance": []
    },
    "kernelspec": {
      "name": "python3",
      "display_name": "Python 3"
    },
    "language_info": {
      "name": "python"
    }
  },
  "cells": [
    {
      "cell_type": "markdown",
      "source": [
        "## Python variables"
      ],
      "metadata": {
        "id": "XUR0L0pTuFqg"
      }
    },
    {
      "cell_type": "code",
      "execution_count": 1,
      "metadata": {
        "colab": {
          "base_uri": "https://localhost:8080/"
        },
        "id": "JZ9hsG67t-bA",
        "outputId": "05698149-7a92-4d68-c162-d89ca4d39ace"
      },
      "outputs": [
        {
          "output_type": "stream",
          "name": "stdout",
          "text": [
            "5\n",
            "Mayank\n"
          ]
        }
      ],
      "source": [
        "x = 5\n",
        "name = \"Mayank\"\n",
        "print(x)\n",
        "print(name)"
      ]
    },
    {
      "cell_type": "markdown",
      "source": [
        "## Assigning Values to Variables\n"
      ],
      "metadata": {
        "id": "6GNKF5E4uT0R"
      }
    },
    {
      "cell_type": "markdown",
      "source": [
        "### 1. Basic Assignment"
      ],
      "metadata": {
        "id": "X2GzqLphuXQ-"
      }
    },
    {
      "cell_type": "code",
      "source": [
        "x = 5\n",
        "y = 3.14\n",
        "z = \"Hi\"\n",
        "print(x)\n",
        "print(y)\n",
        "print(z)"
      ],
      "metadata": {
        "colab": {
          "base_uri": "https://localhost:8080/"
        },
        "id": "UYGivhM8uOMT",
        "outputId": "690ab098-a92c-4c88-8c09-15997905e84b"
      },
      "execution_count": 2,
      "outputs": [
        {
          "output_type": "stream",
          "name": "stdout",
          "text": [
            "5\n",
            "3.14\n",
            "Hi\n"
          ]
        }
      ]
    },
    {
      "cell_type": "markdown",
      "source": [
        "### 2. Dynamic Typing\n"
      ],
      "metadata": {
        "id": "QXVC97kBud2k"
      }
    },
    {
      "cell_type": "code",
      "source": [
        "x = 10\n",
        "x = \"Now a string\"\n",
        "print(x)"
      ],
      "metadata": {
        "colab": {
          "base_uri": "https://localhost:8080/"
        },
        "id": "O_vWk-6iub6A",
        "outputId": "4250de8a-1df8-4f98-b08c-f292b6fe6bf3"
      },
      "execution_count": 3,
      "outputs": [
        {
          "output_type": "stream",
          "name": "stdout",
          "text": [
            "Now a string\n"
          ]
        }
      ]
    },
    {
      "cell_type": "markdown",
      "source": [
        "## Multiple Assignments\n"
      ],
      "metadata": {
        "id": "MBUrhzemumk7"
      }
    },
    {
      "cell_type": "markdown",
      "source": [
        "### 1. Assigning the Same Value\n"
      ],
      "metadata": {
        "id": "O2HF6Z46upCS"
      }
    },
    {
      "cell_type": "code",
      "source": [
        "a = b = c = 100\n",
        "print(a, b, c)"
      ],
      "metadata": {
        "colab": {
          "base_uri": "https://localhost:8080/"
        },
        "id": "3zEZ5C4qujgO",
        "outputId": "df3597c6-2f7d-487a-af01-9f436fb8b985"
      },
      "execution_count": 4,
      "outputs": [
        {
          "output_type": "stream",
          "name": "stdout",
          "text": [
            "100 100 100\n"
          ]
        }
      ]
    },
    {
      "cell_type": "markdown",
      "source": [
        "### 2. Assigning Different Values\n"
      ],
      "metadata": {
        "id": "N581PzswuujA"
      }
    },
    {
      "cell_type": "code",
      "source": [
        "x, y, z = 1, 2.5, \"Python\"\n",
        "print(x, y, z)"
      ],
      "metadata": {
        "colab": {
          "base_uri": "https://localhost:8080/"
        },
        "id": "8dfWJ8AXusmY",
        "outputId": "daf2e55c-fb70-42af-9d91-04270e70d933"
      },
      "execution_count": 5,
      "outputs": [
        {
          "output_type": "stream",
          "name": "stdout",
          "text": [
            "1 2.5 Python\n"
          ]
        }
      ]
    },
    {
      "cell_type": "markdown",
      "source": [
        "## Type Casting a Variable\n"
      ],
      "metadata": {
        "id": "KxrWVafsu4qu"
      }
    },
    {
      "cell_type": "code",
      "source": [
        "# Casting variables\n",
        "s = \"10\"  # Initially a string\n",
        "n = int(s)  # Cast string to integer\n",
        "cnt = 5\n",
        "f = float(cnt)  # Cast integer to float\n",
        "age = 25\n",
        "s2 = str(age)  # Cast integer to string\n",
        "\n",
        "# Display results\n",
        "print(n)\n",
        "print(f)\n",
        "print(s2)"
      ],
      "metadata": {
        "colab": {
          "base_uri": "https://localhost:8080/"
        },
        "id": "Xw2-lOUYu0c5",
        "outputId": "82ccba78-c790-4356-c23c-8eeec9d999ee"
      },
      "execution_count": 6,
      "outputs": [
        {
          "output_type": "stream",
          "name": "stdout",
          "text": [
            "10\n",
            "5.0\n",
            "25\n"
          ]
        }
      ]
    },
    {
      "cell_type": "markdown",
      "source": [
        "## Scope of a Variable\n"
      ],
      "metadata": {
        "id": "23uMksGHvCS4"
      }
    },
    {
      "cell_type": "markdown",
      "source": [
        "### 1. Local Variables"
      ],
      "metadata": {
        "id": "qR5AD8ffvFuA"
      }
    },
    {
      "cell_type": "code",
      "source": [
        "def f():\n",
        "    a = \"I am local\"\n",
        "    print(a)\n",
        "\n",
        "f()\n"
      ],
      "metadata": {
        "colab": {
          "base_uri": "https://localhost:8080/"
        },
        "id": "nHrnawDlu93V",
        "outputId": "cac5d4e5-943f-477b-a0c6-8abe5e8afcfb"
      },
      "execution_count": 7,
      "outputs": [
        {
          "output_type": "stream",
          "name": "stdout",
          "text": [
            "I am local\n"
          ]
        }
      ]
    },
    {
      "cell_type": "markdown",
      "source": [
        "### 2. Global Variables"
      ],
      "metadata": {
        "id": "P-TvmqpOvM3L"
      }
    },
    {
      "cell_type": "code",
      "source": [
        "a = \"I am global\"\n",
        "\n",
        "def f():\n",
        "    global a\n",
        "    a = \"Modified globally\"\n",
        "    print(a)\n",
        "\n",
        "f()\n",
        "print(a)"
      ],
      "metadata": {
        "colab": {
          "base_uri": "https://localhost:8080/"
        },
        "id": "cMyFU_jDvKUC",
        "outputId": "cf7a9309-a6b1-4b79-8b4a-2c3b975217bf"
      },
      "execution_count": 8,
      "outputs": [
        {
          "output_type": "stream",
          "name": "stdout",
          "text": [
            "Modified globally\n",
            "Modified globally\n"
          ]
        }
      ]
    },
    {
      "cell_type": "markdown",
      "source": [
        "## Delete a Variable Using del Keyword\n"
      ],
      "metadata": {
        "id": "AXefvtO1vjxW"
      }
    },
    {
      "cell_type": "code",
      "source": [
        "# Assigning value to variable\n",
        "x = 10\n",
        "print(x)\n",
        "\n",
        "# Removing the variable using del\n",
        "del x"
      ],
      "metadata": {
        "colab": {
          "base_uri": "https://localhost:8080/"
        },
        "id": "FEKiVTpIvUo4",
        "outputId": "0741a332-e281-474e-b8ea-5e34f03a40ac"
      },
      "execution_count": 9,
      "outputs": [
        {
          "output_type": "stream",
          "name": "stdout",
          "text": [
            "10\n"
          ]
        }
      ]
    },
    {
      "cell_type": "code",
      "source": [],
      "metadata": {
        "id": "ApW9AU1Fvm-A"
      },
      "execution_count": null,
      "outputs": []
    }
  ]
}