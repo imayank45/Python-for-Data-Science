{
  "nbformat": 4,
  "nbformat_minor": 0,
  "metadata": {
    "colab": {
      "provenance": []
    },
    "kernelspec": {
      "name": "python3",
      "display_name": "Python 3"
    },
    "language_info": {
      "name": "python"
    }
  },
  "cells": [
    {
      "cell_type": "markdown",
      "source": [
        "## How to Create a Dictionary\n"
      ],
      "metadata": {
        "id": "EZxM85ZmQLYv"
      }
    },
    {
      "cell_type": "code",
      "execution_count": 3,
      "metadata": {
        "colab": {
          "base_uri": "https://localhost:8080/"
        },
        "id": "3ra4oVjmQCjr",
        "outputId": "308fbcbe-f825-4981-a3de-5f0d3fc9b4f9"
      },
      "outputs": [
        {
          "output_type": "stream",
          "name": "stdout",
          "text": [
            "{1: 'Mayank', 2: 'Kathane'}\n",
            "{'a': 'Mayank', 'b': 'Kathane'}\n"
          ]
        }
      ],
      "source": [
        "# create dictionary using {}\n",
        "d1 = {1:'Mayank', 2:'Kathane'}\n",
        "print(d1)\n",
        "\n",
        "# create dictionary using dict() constructor\n",
        "d2 = dict(a = 'Mayank', b = 'Kathane')\n",
        "print(d2)\n",
        "\n"
      ]
    },
    {
      "cell_type": "markdown",
      "source": [
        "## Accessing Dictionary Items\n"
      ],
      "metadata": {
        "id": "BVCF-cccQw7x"
      }
    },
    {
      "cell_type": "code",
      "source": [
        "d = {'name':'Mayank', 'age':24}\n",
        "\n",
        "# access using key\n",
        "print(d['name'])\n",
        "\n",
        "# access using get() method\n",
        "print(d.get('age'))"
      ],
      "metadata": {
        "colab": {
          "base_uri": "https://localhost:8080/"
        },
        "id": "rPIpPYyZQhgG",
        "outputId": "f63a1b60-2b2b-4756-f692-ecd170f3b418"
      },
      "execution_count": 4,
      "outputs": [
        {
          "output_type": "stream",
          "name": "stdout",
          "text": [
            "Mayank\n",
            "24\n"
          ]
        }
      ]
    },
    {
      "cell_type": "markdown",
      "source": [
        "## Adding and Updating Dictionary Items\n"
      ],
      "metadata": {
        "id": "W_Jlc2_hRbxY"
      }
    },
    {
      "cell_type": "code",
      "source": [
        "d = {'name':'Mayank', 'age':24}\n",
        "\n",
        "# adding new key-value pair\n",
        "d['city'] = 'Mumbai'\n",
        "print(d)\n",
        "\n",
        "# update existing value\n",
        "d['name'] = 'Batman'\n",
        "print(d)"
      ],
      "metadata": {
        "colab": {
          "base_uri": "https://localhost:8080/"
        },
        "id": "HHTLckjZQ7hS",
        "outputId": "3f4c7462-b9b7-4d68-fa9b-f61668dd30ce"
      },
      "execution_count": 7,
      "outputs": [
        {
          "output_type": "stream",
          "name": "stdout",
          "text": [
            "{'name': 'Mayank', 'age': 24, 'city': 'Mumbai'}\n",
            "{'name': 'Batman', 'age': 24, 'city': 'Mumbai'}\n"
          ]
        }
      ]
    },
    {
      "cell_type": "markdown",
      "source": [
        "## Removing Dictionary Items"
      ],
      "metadata": {
        "id": "IE1OldtLR-Lm"
      }
    },
    {
      "cell_type": "code",
      "source": [
        "d = {'name': 'Mayank', 'age': 24, 'city': 'Mumbai', 1: 'mango'}\n",
        "\n",
        "# using del to remove an item\n",
        "del d['age']\n",
        "print(d)\n",
        "\n",
        "# using pop to removw an item and return value\n",
        "res = d.pop('city')\n",
        "print(d)\n",
        "\n",
        "# using pop item to remove and return the last key value pairs\n",
        "key, val = d.popitem()\n",
        "print(key, val)\n",
        "\n",
        "# clear all items from dictionary\n",
        "d.clear()\n",
        "print(d)"
      ],
      "metadata": {
        "colab": {
          "base_uri": "https://localhost:8080/"
        },
        "id": "k55DyomiRytb",
        "outputId": "facd9613-2697-47d1-f07d-9a29a3764bbb"
      },
      "execution_count": 9,
      "outputs": [
        {
          "output_type": "stream",
          "name": "stdout",
          "text": [
            "{'name': 'Mayank', 'city': 'Mumbai', 1: 'mango'}\n",
            "{'name': 'Mayank', 1: 'mango'}\n",
            "1 mango\n",
            "{}\n"
          ]
        }
      ]
    },
    {
      "cell_type": "markdown",
      "source": [
        "## Iterating Through a Dictionary"
      ],
      "metadata": {
        "id": "9ALYurg7S0Nf"
      }
    },
    {
      "cell_type": "code",
      "source": [
        "d = {'name': 'Mayank', 'age': 24, 'city': 'Mumbai', 1: 'mango'}\n",
        "\n",
        "# iterate over keys\n",
        "for key in d:\n",
        "  print(key)\n",
        "\n",
        "# iterate over values\n",
        "for val in d.values():\n",
        "  print(val)\n",
        "\n",
        "# iterate over key-value pairs\n",
        "for key, val in d.items():\n",
        "  print(key, val)"
      ],
      "metadata": {
        "colab": {
          "base_uri": "https://localhost:8080/"
        },
        "id": "XcMS-5izSP8P",
        "outputId": "79f46684-fea8-41bb-efdb-896c106501bf"
      },
      "execution_count": 10,
      "outputs": [
        {
          "output_type": "stream",
          "name": "stdout",
          "text": [
            "name\n",
            "age\n",
            "city\n",
            "1\n",
            "Mayank\n",
            "24\n",
            "Mumbai\n",
            "mango\n",
            "name Mayank\n",
            "age 24\n",
            "city Mumbai\n",
            "1 mango\n"
          ]
        }
      ]
    },
    {
      "cell_type": "markdown",
      "source": [
        "## Nested Dictionaries"
      ],
      "metadata": {
        "id": "deWGxYMOTFY8"
      }
    },
    {
      "cell_type": "code",
      "source": [
        "d = {1: 'Geeks', 2: 'For',\n",
        "        3: {'A': 'Welcome', 'B': 'To', 'C': 'Geeks'}}\n",
        "\n",
        "print(d)"
      ],
      "metadata": {
        "colab": {
          "base_uri": "https://localhost:8080/"
        },
        "id": "1UAzaWR7TAec",
        "outputId": "368d526e-66c4-4b26-8f1a-362a69116e00"
      },
      "execution_count": 11,
      "outputs": [
        {
          "output_type": "stream",
          "name": "stdout",
          "text": [
            "{1: 'Geeks', 2: 'For', 3: {'A': 'Welcome', 'B': 'To', 'C': 'Geeks'}}\n"
          ]
        }
      ]
    },
    {
      "cell_type": "code",
      "source": [],
      "metadata": {
        "id": "npiAtV8hTHSJ"
      },
      "execution_count": null,
      "outputs": []
    }
  ]
}