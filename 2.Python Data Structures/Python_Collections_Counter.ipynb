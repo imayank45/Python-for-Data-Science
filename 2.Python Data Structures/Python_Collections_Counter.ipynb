{
  "nbformat": 4,
  "nbformat_minor": 0,
  "metadata": {
    "colab": {
      "provenance": []
    },
    "kernelspec": {
      "name": "python3",
      "display_name": "Python 3"
    },
    "language_info": {
      "name": "python"
    }
  },
  "cells": [
    {
      "cell_type": "code",
      "execution_count": 2,
      "metadata": {
        "colab": {
          "base_uri": "https://localhost:8080/"
        },
        "id": "-zP4xBwVOmAI",
        "outputId": "988276eb-d1e8-4dc3-f0c0-d206827a45d5"
      },
      "outputs": [
        {
          "output_type": "stream",
          "name": "stdout",
          "text": [
            "Counter({2: 3, 3: 2, 1: 1, 4: 1, 5: 1})\n"
          ]
        }
      ],
      "source": [
        "from collections import Counter\n",
        "\n",
        "# list of elements\n",
        "list1 = [1, 2, 2, 2, 3, 3, 4, 5]\n",
        "\n",
        "# creating a counter\n",
        "ctr = Counter(list1)\n",
        "\n",
        "print(ctr)"
      ]
    },
    {
      "cell_type": "markdown",
      "source": [
        "## Creating a Counter"
      ],
      "metadata": {
        "id": "PqFevgdVPKoi"
      }
    },
    {
      "cell_type": "code",
      "source": [
        "from collections import Counter\n",
        "\n",
        "# Creating a Counter from a list\n",
        "ctr1 = Counter([1, 2, 2, 3, 3, 3])\n",
        "\n",
        "# Creating a Counter from a dictionary\n",
        "ctr2 = Counter({1: 2, 2: 3, 3: 1})\n",
        "\n",
        "# Creating a Counter from a string\n",
        "ctr3 = Counter('hello')\n",
        "\n",
        "print(ctr1)\n",
        "print(ctr2)\n",
        "print(ctr3)"
      ],
      "metadata": {
        "colab": {
          "base_uri": "https://localhost:8080/"
        },
        "id": "0V3ciPUKO-sv",
        "outputId": "e59e6752-073c-4004-ac91-e3fddffb7d73"
      },
      "execution_count": 3,
      "outputs": [
        {
          "output_type": "stream",
          "name": "stdout",
          "text": [
            "Counter({3: 3, 2: 2, 1: 1})\n",
            "Counter({2: 3, 1: 2, 3: 1})\n",
            "Counter({'l': 2, 'h': 1, 'e': 1, 'o': 1})\n"
          ]
        }
      ]
    },
    {
      "cell_type": "markdown",
      "source": [
        "## Accessing Counter Elements\n"
      ],
      "metadata": {
        "id": "RisE7yFuPQuq"
      }
    },
    {
      "cell_type": "code",
      "source": [
        "from collections import Counter\n",
        "\n",
        "ctr = Counter([1, 2, 2, 3, 3, 3])\n",
        "\n",
        "# Accessing count of an element\n",
        "print(ctr[1])\n",
        "print(ctr[2])\n",
        "print(ctr[3])\n",
        "print(ctr[4])"
      ],
      "metadata": {
        "colab": {
          "base_uri": "https://localhost:8080/"
        },
        "id": "4eZTvkOkPOGl",
        "outputId": "e101722b-807c-4150-85ef-c1527ecbe57c"
      },
      "execution_count": 4,
      "outputs": [
        {
          "output_type": "stream",
          "name": "stdout",
          "text": [
            "1\n",
            "2\n",
            "3\n",
            "0\n"
          ]
        }
      ]
    },
    {
      "cell_type": "markdown",
      "source": [
        "## Updating counters\n"
      ],
      "metadata": {
        "id": "UTUAexwZPXD3"
      }
    },
    {
      "cell_type": "code",
      "source": [
        "from collections import Counter\n",
        "\n",
        "ctr = Counter([1, 2, 2])\n",
        "\n",
        "# Adding new elements\n",
        "ctr.update([2, 3, 3, 3])\n",
        "\n",
        "print(ctr)"
      ],
      "metadata": {
        "colab": {
          "base_uri": "https://localhost:8080/"
        },
        "id": "O6Hb-G4MPTWm",
        "outputId": "4f94d1bf-53df-49b2-aa4a-2b3241a365ae"
      },
      "execution_count": 5,
      "outputs": [
        {
          "output_type": "stream",
          "name": "stdout",
          "text": [
            "Counter({2: 3, 3: 3, 1: 1})\n"
          ]
        }
      ]
    },
    {
      "cell_type": "markdown",
      "source": [
        "## Counter Methods"
      ],
      "metadata": {
        "id": "GvPk5FdCPclJ"
      }
    },
    {
      "cell_type": "markdown",
      "source": [
        "### 1. elements()"
      ],
      "metadata": {
        "id": "9_vHYO_7Pd9j"
      }
    },
    {
      "cell_type": "code",
      "source": [
        "from collections import Counter\n",
        "\n",
        "ctr = Counter([1, 2, 2, 3, 3, 3])\n",
        "items = list(ctr.elements())\n",
        "\n",
        "print(items)"
      ],
      "metadata": {
        "colab": {
          "base_uri": "https://localhost:8080/"
        },
        "id": "eZbrMR-IPYrt",
        "outputId": "e8a48076-7268-4ba7-8e85-b26a90bcca2d"
      },
      "execution_count": 6,
      "outputs": [
        {
          "output_type": "stream",
          "name": "stdout",
          "text": [
            "[1, 2, 2, 3, 3, 3]\n"
          ]
        }
      ]
    },
    {
      "cell_type": "markdown",
      "source": [
        "## 2. most_common()\n"
      ],
      "metadata": {
        "id": "mNMo0R7HPojl"
      }
    },
    {
      "cell_type": "code",
      "source": [
        "from collections import Counter\n",
        "\n",
        "ctr = Counter([1, 2, 2, 3, 3, 3])\n",
        "common = ctr.most_common(2)\n",
        "\n",
        "print(common)"
      ],
      "metadata": {
        "colab": {
          "base_uri": "https://localhost:8080/"
        },
        "id": "KBVLnviDPiRH",
        "outputId": "1f724eed-a8d6-432c-937b-b4f4e09ac21b"
      },
      "execution_count": 7,
      "outputs": [
        {
          "output_type": "stream",
          "name": "stdout",
          "text": [
            "[(3, 3), (2, 2)]\n"
          ]
        }
      ]
    },
    {
      "cell_type": "markdown",
      "source": [
        "## 3. subtract()"
      ],
      "metadata": {
        "id": "m3hTEGWDPtw_"
      }
    },
    {
      "cell_type": "code",
      "source": [
        "from collections import Counter\n",
        "\n",
        "ctr = Counter([1, 2, 2, 3, 3, 3])\n",
        "ctr.subtract([2, 3, 3])\n",
        "\n",
        "print(ctr)"
      ],
      "metadata": {
        "colab": {
          "base_uri": "https://localhost:8080/"
        },
        "id": "meIQn0OoPqxd",
        "outputId": "8b6555d9-ebb8-49cc-a9b4-93dbd9329c4c"
      },
      "execution_count": 8,
      "outputs": [
        {
          "output_type": "stream",
          "name": "stdout",
          "text": [
            "Counter({1: 1, 2: 1, 3: 1})\n"
          ]
        }
      ]
    },
    {
      "cell_type": "markdown",
      "source": [
        "## Arithmetic Operations on Counters\n"
      ],
      "metadata": {
        "id": "uKBktp28P0o0"
      }
    },
    {
      "cell_type": "code",
      "source": [
        "from collections import Counter\n",
        "\n",
        "ctr1 = Counter([1, 2, 2, 3])\n",
        "ctr2 = Counter([2, 3, 3, 4])\n",
        "\n",
        "# Addition\n",
        "print(ctr1 + ctr2)\n",
        "# Subtraction\n",
        "print(ctr1 - ctr2)\n",
        "\n",
        "# Intersection\n",
        "print(ctr1 & ctr2)\n",
        "# Union\n",
        "print(ctr1 | ctr2)"
      ],
      "metadata": {
        "colab": {
          "base_uri": "https://localhost:8080/"
        },
        "id": "QFQUdhyFPyH-",
        "outputId": "9fdd0586-7a96-4a2e-af3b-c5d2c75bf441"
      },
      "execution_count": 9,
      "outputs": [
        {
          "output_type": "stream",
          "name": "stdout",
          "text": [
            "Counter({2: 3, 3: 3, 1: 1, 4: 1})\n",
            "Counter({1: 1, 2: 1})\n",
            "Counter({2: 1, 3: 1})\n",
            "Counter({2: 2, 3: 2, 1: 1, 4: 1})\n"
          ]
        }
      ]
    },
    {
      "cell_type": "code",
      "source": [],
      "metadata": {
        "id": "9nrEzohbP3f8"
      },
      "execution_count": null,
      "outputs": []
    }
  ]
}