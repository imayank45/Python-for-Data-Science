{
  "nbformat": 4,
  "nbformat_minor": 0,
  "metadata": {
    "colab": {
      "provenance": []
    },
    "kernelspec": {
      "name": "python3",
      "display_name": "Python 3"
    },
    "language_info": {
      "name": "python"
    }
  },
  "cells": [
    {
      "cell_type": "markdown",
      "source": [
        "## Python Lists"
      ],
      "metadata": {
        "id": "85L1vNI9HFgt"
      }
    },
    {
      "cell_type": "code",
      "execution_count": 1,
      "metadata": {
        "colab": {
          "base_uri": "https://localhost:8080/"
        },
        "id": "uvmFGpsKHEDL",
        "outputId": "2c14351e-9c41-4663-b8bd-19cc2e74a85a"
      },
      "outputs": [
        {
          "output_type": "stream",
          "name": "stdout",
          "text": [
            "10\n",
            "mayank\n",
            "True\n",
            "<class 'int'>\n",
            "<class 'str'>\n",
            "<class 'bool'>\n"
          ]
        }
      ],
      "source": [
        "lst = [10, \"mayank\", True]\n",
        "\n",
        "# accessing elements using indexing\n",
        "print(lst[0])\n",
        "print(lst[1])\n",
        "print(lst[2])\n",
        "\n",
        "# checking data types of elements\n",
        "print(type(lst[0]))\n",
        "print(type(lst[1]))\n",
        "print(type(lst[2]))"
      ]
    },
    {
      "cell_type": "markdown",
      "source": [
        "## Creating a List\n"
      ],
      "metadata": {
        "id": "FxMzz9XtHb07"
      }
    },
    {
      "cell_type": "markdown",
      "source": [
        "### 1. Using Square Brackets"
      ],
      "metadata": {
        "id": "4_b5MZyjHd1X"
      }
    },
    {
      "cell_type": "code",
      "source": [
        "# list of integers\n",
        "lst1 = [1,2,3,4,5]\n",
        "\n",
        "# list of strings\n",
        "lst2 = [\"banana\", \"apple\", \"mango\"]\n",
        "\n",
        "# list of mixed data types\n",
        "lst3 = [1, \"mayank\", True]\n",
        "\n",
        "print(lst1)\n",
        "print(lst2)\n",
        "print(lst3)"
      ],
      "metadata": {
        "colab": {
          "base_uri": "https://localhost:8080/"
        },
        "id": "d2xN859jHWnk",
        "outputId": "ab1a5d8a-324c-40f7-a238-94063539a92d"
      },
      "execution_count": 2,
      "outputs": [
        {
          "output_type": "stream",
          "name": "stdout",
          "text": [
            "[1, 2, 3, 4, 5]\n",
            "['banana', 'apple', 'mango']\n",
            "[1, 'mayank', True]\n"
          ]
        }
      ]
    },
    {
      "cell_type": "markdown",
      "source": [
        "### 2. Using list() Constructor"
      ],
      "metadata": {
        "id": "ELVg-i5dH5cf"
      }
    },
    {
      "cell_type": "code",
      "source": [
        "# from tuple\n",
        "lst4 = list((1,2,3,4,5))\n",
        "\n",
        "# from string\n",
        "lst5 = list(\"mayank\")\n",
        "\n",
        "print(lst4)\n",
        "print(lst5)"
      ],
      "metadata": {
        "colab": {
          "base_uri": "https://localhost:8080/"
        },
        "id": "YNWfsxnYH2p2",
        "outputId": "a5d818a4-eadf-4eb7-93e1-ed3d2ee2d109"
      },
      "execution_count": 3,
      "outputs": [
        {
          "output_type": "stream",
          "name": "stdout",
          "text": [
            "[1, 2, 3, 4, 5]\n",
            "['m', 'a', 'y', 'a', 'n', 'k']\n"
          ]
        }
      ]
    },
    {
      "cell_type": "markdown",
      "source": [
        "## Creating List with Repeated Elements"
      ],
      "metadata": {
        "id": "9owVqNTNIFIl"
      }
    },
    {
      "cell_type": "code",
      "source": [
        "a = [2] * 5\n",
        "b = [10] * 5\n",
        "print(a)\n",
        "print(b)"
      ],
      "metadata": {
        "colab": {
          "base_uri": "https://localhost:8080/"
        },
        "id": "ORzhrQigIA5H",
        "outputId": "ae506e25-42c2-48ff-f0df-45b681ae9dac"
      },
      "execution_count": 5,
      "outputs": [
        {
          "output_type": "stream",
          "name": "stdout",
          "text": [
            "[2, 2, 2, 2, 2]\n",
            "[10, 10, 10, 10, 10]\n"
          ]
        }
      ]
    },
    {
      "cell_type": "markdown",
      "source": [
        "## Accessing List Elements"
      ],
      "metadata": {
        "id": "ETeJKXuoIPP8"
      }
    },
    {
      "cell_type": "code",
      "source": [
        "l = [10,20,30,40,50,60]\n",
        "print(l[0])\n",
        "print(l[3])"
      ],
      "metadata": {
        "colab": {
          "base_uri": "https://localhost:8080/"
        },
        "id": "T4-vRpVpILi6",
        "outputId": "009142d6-9e9e-49a5-f392-04d01b1eb67a"
      },
      "execution_count": 6,
      "outputs": [
        {
          "output_type": "stream",
          "name": "stdout",
          "text": [
            "10\n",
            "40\n"
          ]
        }
      ]
    },
    {
      "cell_type": "markdown",
      "source": [
        "## Adding Elements into List"
      ],
      "metadata": {
        "id": "dUcVgq1UIe0I"
      }
    },
    {
      "cell_type": "code",
      "source": [
        "a = []\n",
        "\n",
        "# append 10\n",
        "a.append(10)\n",
        "print(a)\n",
        "\n",
        "# insert 20 at index 1\n",
        "a.insert(0,20)\n",
        "print(b)\n",
        "\n",
        "# add multiple elements\n",
        "a.extend([30,40,50])\n",
        "print(a)"
      ],
      "metadata": {
        "colab": {
          "base_uri": "https://localhost:8080/"
        },
        "id": "c524ldbKIWxi",
        "outputId": "07058afb-1ab1-497b-f61d-6e490137f0f7"
      },
      "execution_count": 8,
      "outputs": [
        {
          "output_type": "stream",
          "name": "stdout",
          "text": [
            "[10]\n",
            "[10, 10, 10, 10, 10]\n",
            "[20, 10, 30, 40, 50]\n"
          ]
        }
      ]
    },
    {
      "cell_type": "markdown",
      "source": [
        "## Updating Elements into List"
      ],
      "metadata": {
        "id": "dBsX3KB6I-rp"
      }
    },
    {
      "cell_type": "code",
      "source": [
        "l = [10,20,30,40,50,60]\n",
        "\n",
        "# change the second element\n",
        "l[1] = 90\n",
        "\n",
        "print(l)"
      ],
      "metadata": {
        "colab": {
          "base_uri": "https://localhost:8080/"
        },
        "id": "EPops7PAIx7x",
        "outputId": "cc2c6750-715c-4ff6-e5c9-0051d8be0909"
      },
      "execution_count": 9,
      "outputs": [
        {
          "output_type": "stream",
          "name": "stdout",
          "text": [
            "[10, 90, 30, 40, 50, 60]\n"
          ]
        }
      ]
    },
    {
      "cell_type": "markdown",
      "source": [
        "## Removing Elements from List"
      ],
      "metadata": {
        "id": "xru2nIMjJOfh"
      }
    },
    {
      "cell_type": "code",
      "source": [
        "l = [10,20,30,40,50,60]\n",
        "\n",
        "# remove 20\n",
        "l.remove(20)\n",
        "print(l)\n",
        "\n",
        "# remove element at index 1\n",
        "l.pop(1)\n",
        "print(l)\n",
        "\n",
        "# delete first element\n",
        "del l[0]\n",
        "print(l)"
      ],
      "metadata": {
        "colab": {
          "base_uri": "https://localhost:8080/"
        },
        "id": "bkPPaTQDJGBZ",
        "outputId": "ef4f6351-5581-49db-a0cc-24f31c4bffae"
      },
      "execution_count": 10,
      "outputs": [
        {
          "output_type": "stream",
          "name": "stdout",
          "text": [
            "[10, 30, 40, 50, 60]\n",
            "[10, 40, 50, 60]\n",
            "[40, 50, 60]\n"
          ]
        }
      ]
    },
    {
      "cell_type": "markdown",
      "source": [
        "## Iterating Over Lists\n"
      ],
      "metadata": {
        "id": "zCSrg86YJnIP"
      }
    },
    {
      "cell_type": "code",
      "source": [
        "a = ['hi', 'hello', 'bye']\n",
        "\n",
        "for i in a:\n",
        "    print(i)"
      ],
      "metadata": {
        "colab": {
          "base_uri": "https://localhost:8080/"
        },
        "id": "sYEzt3KeJh-I",
        "outputId": "08de4f38-edc4-441f-d51b-95dfc8823f8c"
      },
      "execution_count": 11,
      "outputs": [
        {
          "output_type": "stream",
          "name": "stdout",
          "text": [
            "hi\n",
            "hello\n",
            "bye\n"
          ]
        }
      ]
    },
    {
      "cell_type": "markdown",
      "source": [
        "## Nested Lists in Python\n"
      ],
      "metadata": {
        "id": "mZOTfC2kJxUN"
      }
    },
    {
      "cell_type": "code",
      "source": [
        "matrix = [\n",
        "    [1, 2, 3],\n",
        "    [4, 5, 6],\n",
        "    [7, 8, 9]\n",
        "]\n",
        "\n",
        "print(matrix)\n",
        "print(matrix[0])\n",
        "print(matrix[1])\n",
        "print(matrix[2])"
      ],
      "metadata": {
        "colab": {
          "base_uri": "https://localhost:8080/"
        },
        "id": "6_ihD1LhJsl4",
        "outputId": "8ffafd18-e64e-493a-eeb5-c0f68e778f88"
      },
      "execution_count": 12,
      "outputs": [
        {
          "output_type": "stream",
          "name": "stdout",
          "text": [
            "[[1, 2, 3], [4, 5, 6], [7, 8, 9]]\n",
            "[1, 2, 3]\n",
            "[4, 5, 6]\n",
            "[7, 8, 9]\n"
          ]
        }
      ]
    },
    {
      "cell_type": "code",
      "source": [],
      "metadata": {
        "id": "_yGmG2LmJ_le"
      },
      "execution_count": null,
      "outputs": []
    }
  ]
}