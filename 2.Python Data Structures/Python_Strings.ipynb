{
  "nbformat": 4,
  "nbformat_minor": 0,
  "metadata": {
    "colab": {
      "provenance": []
    },
    "kernelspec": {
      "name": "python3",
      "display_name": "Python 3"
    },
    "language_info": {
      "name": "python"
    }
  },
  "cells": [
    {
      "cell_type": "markdown",
      "source": [
        "## Python String"
      ],
      "metadata": {
        "id": "jie-xtgTkBWh"
      }
    },
    {
      "cell_type": "code",
      "execution_count": 2,
      "metadata": {
        "colab": {
          "base_uri": "https://localhost:8080/"
        },
        "id": "oDy-T93ZjVFz",
        "outputId": "41df5d54-94b8-426b-e536-de1f589caea6"
      },
      "outputs": [
        {
          "output_type": "stream",
          "name": "stdout",
          "text": [
            "Mayank\n",
            "a\n",
            "Mayanky\n"
          ]
        }
      ],
      "source": [
        "s = \"Mayank\"\n",
        "print(s)\n",
        "print(s[1])\n",
        "s1 = s + s[2]\n",
        "print(s1)"
      ]
    },
    {
      "cell_type": "markdown",
      "source": [
        "## Creating a String"
      ],
      "metadata": {
        "id": "O-mYnn2TmcxG"
      }
    },
    {
      "cell_type": "code",
      "source": [
        "s1 = 'Mayank'\n",
        "s2 = \"Kathane\"\n",
        "print(s1)\n",
        "print(s2)"
      ],
      "metadata": {
        "colab": {
          "base_uri": "https://localhost:8080/"
        },
        "id": "SK4WPbFxkN8m",
        "outputId": "3b594cc7-252f-4e78-91fb-bdd0ac2faab7"
      },
      "execution_count": 4,
      "outputs": [
        {
          "output_type": "stream",
          "name": "stdout",
          "text": [
            "Mayank\n",
            "Kathane\n"
          ]
        }
      ]
    },
    {
      "cell_type": "markdown",
      "source": [
        "## Multi-line Strings\n"
      ],
      "metadata": {
        "id": "UYXWcnltmpZW"
      }
    },
    {
      "cell_type": "code",
      "source": [
        "s = \"\"\"\n",
        "Good Better Best\n",
        "Love Is Waste\n",
        "\"\"\"\n",
        "print(s)"
      ],
      "metadata": {
        "colab": {
          "base_uri": "https://localhost:8080/"
        },
        "id": "4y6nKUtFmgNH",
        "outputId": "fe32229f-f080-4a7c-e32b-1ca4b42ca7cc"
      },
      "execution_count": 6,
      "outputs": [
        {
          "output_type": "stream",
          "name": "stdout",
          "text": [
            "\n",
            "Good Better Best\n",
            "Love Is Waste\n",
            "\n"
          ]
        }
      ]
    },
    {
      "cell_type": "markdown",
      "source": [
        "## Accessing characters in Python String"
      ],
      "metadata": {
        "id": "-AaaGCeqm5AO"
      }
    },
    {
      "cell_type": "code",
      "source": [
        "s = \"Mayank\"\n",
        "print(s[1])\n",
        "print(s[5])"
      ],
      "metadata": {
        "colab": {
          "base_uri": "https://localhost:8080/"
        },
        "id": "FCRqnZK2mzN4",
        "outputId": "879dcb47-4e83-4d7a-f172-a36d939c71c1"
      },
      "execution_count": 7,
      "outputs": [
        {
          "output_type": "stream",
          "name": "stdout",
          "text": [
            "a\n",
            "k\n"
          ]
        }
      ]
    },
    {
      "cell_type": "markdown",
      "source": [
        "## Access string with Negative Indexing\n"
      ],
      "metadata": {
        "id": "n9L9SvScnBBj"
      }
    },
    {
      "cell_type": "code",
      "source": [
        "s = \"Mayank\"\n",
        "print(s[-1])\n",
        "print(s[-5])"
      ],
      "metadata": {
        "colab": {
          "base_uri": "https://localhost:8080/"
        },
        "id": "MNl5rRa8m96S",
        "outputId": "42233ff3-7dc7-41b4-9650-22c4cea7b46c"
      },
      "execution_count": 8,
      "outputs": [
        {
          "output_type": "stream",
          "name": "stdout",
          "text": [
            "k\n",
            "a\n"
          ]
        }
      ]
    },
    {
      "cell_type": "markdown",
      "source": [
        "## String Slicing"
      ],
      "metadata": {
        "id": "pakjTbGpnM6a"
      }
    },
    {
      "cell_type": "code",
      "source": [
        "s = \"Mayank\"\n",
        "\n",
        "# retrieve characters from 1 to 3\n",
        "print(s[1:4])\n",
        "\n",
        "# retrieve characters from beginning of index 2\n",
        "print(s[:2])\n",
        "\n",
        "# retrieve characters from end of index 2\n",
        "print(s[2:])\n",
        "\n",
        "# reverse a string\n",
        "print(s[::-1])"
      ],
      "metadata": {
        "colab": {
          "base_uri": "https://localhost:8080/"
        },
        "id": "BDxiT1FfnGaB",
        "outputId": "5d5af7b3-4e34-48f6-f344-82229b53d2d5"
      },
      "execution_count": 9,
      "outputs": [
        {
          "output_type": "stream",
          "name": "stdout",
          "text": [
            "aya\n",
            "Ma\n",
            "yank\n",
            "knayaM\n"
          ]
        }
      ]
    },
    {
      "cell_type": "markdown",
      "source": [
        "## String Immutability"
      ],
      "metadata": {
        "id": "Bi9Cx7rNn8HI"
      }
    },
    {
      "cell_type": "code",
      "source": [
        "s = \"Mayank\"\n",
        "\n",
        "# create a new string\n",
        "s = \"T\" + s[1:]\n",
        "print(s)"
      ],
      "metadata": {
        "colab": {
          "base_uri": "https://localhost:8080/"
        },
        "id": "Rw1DEB4wnwDj",
        "outputId": "41a41fd2-04d4-431e-c1c6-bc81d35ef522"
      },
      "execution_count": 10,
      "outputs": [
        {
          "output_type": "stream",
          "name": "stdout",
          "text": [
            "Tayank\n"
          ]
        }
      ]
    },
    {
      "cell_type": "markdown",
      "source": [
        "## Deleting a String"
      ],
      "metadata": {
        "id": "x54RcF13oOoG"
      }
    },
    {
      "cell_type": "code",
      "source": [
        "s = \"Mayank\"\n",
        "\n",
        "del s"
      ],
      "metadata": {
        "id": "GKcW28fGoJc6"
      },
      "execution_count": 11,
      "outputs": []
    },
    {
      "cell_type": "markdown",
      "source": [
        "## Updating a String\n"
      ],
      "metadata": {
        "id": "RigfGnbSpcqN"
      }
    },
    {
      "cell_type": "code",
      "source": [
        "s = \"hello ram\"\n",
        "s1 = \"H\" + s[1:]\n",
        "s2 = s.replace(\"ram\", \"sham\")\n",
        "print(s)\n",
        "print(s1)\n",
        "print(s2)"
      ],
      "metadata": {
        "colab": {
          "base_uri": "https://localhost:8080/"
        },
        "id": "dKOSAtCxpSOk",
        "outputId": "0a0317d9-061b-4cb5-cc93-202d5261ab28"
      },
      "execution_count": 12,
      "outputs": [
        {
          "output_type": "stream",
          "name": "stdout",
          "text": [
            "hello ram\n",
            "Hello ram\n",
            "hello sham\n"
          ]
        }
      ]
    },
    {
      "cell_type": "markdown",
      "source": [
        "## Common String Methods\n"
      ],
      "metadata": {
        "id": "BBf_z5pkp1NC"
      }
    },
    {
      "cell_type": "markdown",
      "source": [
        "### 1. len()"
      ],
      "metadata": {
        "id": "aFpXwF10p3CL"
      }
    },
    {
      "cell_type": "code",
      "source": [
        "s = \"Mayank\"\n",
        "\n",
        "print(len(s))"
      ],
      "metadata": {
        "colab": {
          "base_uri": "https://localhost:8080/"
        },
        "id": "V-gn5SD6pvvE",
        "outputId": "dcc83cba-04e8-4984-9ffb-49433e3ad0ba"
      },
      "execution_count": 13,
      "outputs": [
        {
          "output_type": "stream",
          "name": "stdout",
          "text": [
            "6\n"
          ]
        }
      ]
    },
    {
      "cell_type": "markdown",
      "source": [
        "### 2. upper() and lower()"
      ],
      "metadata": {
        "id": "dTnhg7ECqEb7"
      }
    },
    {
      "cell_type": "code",
      "source": [
        "s = \"Mayank\"\n",
        "\n",
        "print(s.upper())\n",
        "print(s.lower())"
      ],
      "metadata": {
        "colab": {
          "base_uri": "https://localhost:8080/"
        },
        "id": "MyjooZ0_qBy8",
        "outputId": "c27c7921-a0c0-4e2e-cdc7-c22a5359405b"
      },
      "execution_count": 14,
      "outputs": [
        {
          "output_type": "stream",
          "name": "stdout",
          "text": [
            "MAYANK\n",
            "mayank\n"
          ]
        }
      ]
    },
    {
      "cell_type": "markdown",
      "source": [
        "### 3. strip() and replace()"
      ],
      "metadata": {
        "id": "_WR5yoVJqO0F"
      }
    },
    {
      "cell_type": "code",
      "source": [
        "s = \"  Mayank         \"\n",
        "\n",
        "# removes spaces from both ends\n",
        "print(s.strip())\n",
        "\n",
        "# replaces Mayank with Ram\n",
        "print(s.replace(\"Mayank\", \"Ram\"))\n"
      ],
      "metadata": {
        "colab": {
          "base_uri": "https://localhost:8080/"
        },
        "id": "uH7uTx3tqI5N",
        "outputId": "ae731c33-c7c8-488e-f4cf-919dd76756c8"
      },
      "execution_count": 15,
      "outputs": [
        {
          "output_type": "stream",
          "name": "stdout",
          "text": [
            "Mayank\n",
            "  Ram         \n"
          ]
        }
      ]
    },
    {
      "cell_type": "markdown",
      "source": [
        "## Concatenating and Repeating Strings"
      ],
      "metadata": {
        "id": "N86ky1tpqlpo"
      }
    },
    {
      "cell_type": "code",
      "source": [
        "s1 = \"Hello\"\n",
        "s2 = \"World \"\n",
        "\n",
        "s3 = s1 + \" \" + s2\n",
        "print(s3)\n",
        "print(s3*3)"
      ],
      "metadata": {
        "colab": {
          "base_uri": "https://localhost:8080/"
        },
        "id": "ChbFWtLeqf_7",
        "outputId": "9bb12ddd-62d3-404d-e169-dc66a3b491e9"
      },
      "execution_count": 18,
      "outputs": [
        {
          "output_type": "stream",
          "name": "stdout",
          "text": [
            "Hello World \n",
            "Hello World Hello World Hello World \n"
          ]
        }
      ]
    },
    {
      "cell_type": "markdown",
      "source": [
        "## Formatting Strings"
      ],
      "metadata": {
        "id": "Dq7cfNEDq92O"
      }
    },
    {
      "cell_type": "markdown",
      "source": [
        "### 1. Using f-strings"
      ],
      "metadata": {
        "id": "paT6-HDPq_7H"
      }
    },
    {
      "cell_type": "code",
      "source": [
        "name = \"Mayank\"\n",
        "age = 24\n",
        "print(f\"Name: {name}, Age: {age}\")"
      ],
      "metadata": {
        "colab": {
          "base_uri": "https://localhost:8080/"
        },
        "id": "Y-2__8SPqvJa",
        "outputId": "2d4d5b52-c06b-40dd-ef88-670d2b9beedf"
      },
      "execution_count": 20,
      "outputs": [
        {
          "output_type": "stream",
          "name": "stdout",
          "text": [
            "Name: Mayank, Age: 24\n"
          ]
        }
      ]
    },
    {
      "cell_type": "markdown",
      "source": [
        "### 2. Using format()"
      ],
      "metadata": {
        "id": "e8v_61aVrTNL"
      }
    },
    {
      "cell_type": "code",
      "source": [
        "s = \"My name is {} and I am {} years old.\".format(\"Mayank\", 24)\n",
        "print(s)"
      ],
      "metadata": {
        "colab": {
          "base_uri": "https://localhost:8080/"
        },
        "id": "uGbECyZcrNaC",
        "outputId": "5b5c3faf-ac3a-4e78-c5dc-c03eedc5374e"
      },
      "execution_count": 21,
      "outputs": [
        {
          "output_type": "stream",
          "name": "stdout",
          "text": [
            "My name is Mayank and I am 24 years old.\n"
          ]
        }
      ]
    },
    {
      "cell_type": "markdown",
      "source": [
        "## Using in for String Membership Testing\n"
      ],
      "metadata": {
        "id": "DcmC9xqmroux"
      }
    },
    {
      "cell_type": "code",
      "source": [
        "s = \"Mayank\"\n",
        "print(\"May\" in s)\n",
        "print(\"Kathane\" in s)"
      ],
      "metadata": {
        "colab": {
          "base_uri": "https://localhost:8080/"
        },
        "id": "wWQ9BgFBrk_w",
        "outputId": "8f10a803-a810-4820-8ddb-b1e3fc08e0e4"
      },
      "execution_count": 22,
      "outputs": [
        {
          "output_type": "stream",
          "name": "stdout",
          "text": [
            "True\n",
            "False\n"
          ]
        }
      ]
    },
    {
      "cell_type": "code",
      "source": [],
      "metadata": {
        "id": "zbLQZ_6Urwu8"
      },
      "execution_count": null,
      "outputs": []
    }
  ]
}