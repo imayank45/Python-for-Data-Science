{
  "nbformat": 4,
  "nbformat_minor": 0,
  "metadata": {
    "colab": {
      "provenance": []
    },
    "kernelspec": {
      "name": "python3",
      "display_name": "Python 3"
    },
    "language_info": {
      "name": "python"
    }
  },
  "cells": [
    {
      "cell_type": "markdown",
      "source": [
        "## Creating a Tuple"
      ],
      "metadata": {
        "id": "nb5PV0VmEmWf"
      }
    },
    {
      "cell_type": "code",
      "execution_count": 1,
      "metadata": {
        "colab": {
          "base_uri": "https://localhost:8080/"
        },
        "id": "Mpb0jq0rEc3k",
        "outputId": "a95fba1e-be6c-4cd9-e13d-b418969b5b31"
      },
      "outputs": [
        {
          "output_type": "stream",
          "name": "stdout",
          "text": [
            "()\n",
            "('apple', 'banana')\n",
            "(10, 20, 30, 40, 50)\n",
            "(1, 2, 3, 4, 5, 6, 7, 8, 9, 10)\n"
          ]
        }
      ],
      "source": [
        "tup = ()\n",
        "print(tup)\n",
        "\n",
        "# using string\n",
        "tup = (\"apple\", \"banana\")\n",
        "print(tup)\n",
        "\n",
        "# using list\n",
        "li = [10, 20, 30, 40, 50]\n",
        "print(tuple(li))\n",
        "\n",
        "# using built-in function\n",
        "tup = tuple(range(1, 11))\n",
        "print(tup)"
      ]
    },
    {
      "cell_type": "markdown",
      "source": [
        "## Creating a Tuple with Mixed Datatypes"
      ],
      "metadata": {
        "id": "Ux11la1fFFZ1"
      }
    },
    {
      "cell_type": "code",
      "source": [
        "tup = ('mayank', 24, 'kathane')\n",
        "print(tup)\n",
        "\n",
        "# creating a tuple with nested tuples\n",
        "tup1 = (1,2,3,4,5)\n",
        "tup2 = ('mayank', 'kathane')\n",
        "tup3 = (tup1, tup2)\n",
        "print(tup3)\n",
        "\n",
        "# creating a tuple with repetition\n",
        "tup = ('mayank',)*3\n",
        "print(tup)\n",
        "\n",
        "# creating a tuple with use of loops\n",
        "tup = ('Mayank')\n",
        "\n",
        "for i in range(6):\n",
        "  tup = (tup,)\n",
        "  print(tup)"
      ],
      "metadata": {
        "colab": {
          "base_uri": "https://localhost:8080/"
        },
        "id": "eyi8hsX4E_pv",
        "outputId": "39a1c276-3ed7-444e-fcd2-c53e541208b5"
      },
      "execution_count": 4,
      "outputs": [
        {
          "output_type": "stream",
          "name": "stdout",
          "text": [
            "('mayank', 24, 'kathane')\n",
            "((1, 2, 3, 4, 5), ('mayank', 'kathane'))\n",
            "('mayank', 'mayank', 'mayank')\n",
            "('Mayank',)\n",
            "(('Mayank',),)\n",
            "((('Mayank',),),)\n",
            "(((('Mayank',),),),)\n",
            "((((('Mayank',),),),),)\n",
            "(((((('Mayank',),),),),),)\n"
          ]
        }
      ]
    },
    {
      "cell_type": "markdown",
      "source": [
        "## Accessing of Tuples"
      ],
      "metadata": {
        "id": "JmLQgx19GQL9"
      }
    },
    {
      "cell_type": "code",
      "source": [
        "# accessing tuple with indexing\n",
        "tup = tuple(\"Mayank\")\n",
        "print(tup[0])\n",
        "print(tup[1])\n",
        "print(tup[2])\n",
        "print(tup[3])\n",
        "print(tup[4])\n",
        "print(tup[5])\n",
        "\n",
        "# accessing range of elements using slicing\n",
        "print(tup[1:4])\n",
        "print(tup[:3])\n",
        "\n",
        "# tuple unpacking\n",
        "tup = (\"hello\", 'hi', 'bye')\n",
        "a, b, c = tup\n",
        "print(a)\n",
        "print(b)\n",
        "print(c)"
      ],
      "metadata": {
        "colab": {
          "base_uri": "https://localhost:8080/"
        },
        "id": "j2wmnCRoFhB0",
        "outputId": "e05da2da-bb92-4613-ae50-a74a78d4e16c"
      },
      "execution_count": 8,
      "outputs": [
        {
          "output_type": "stream",
          "name": "stdout",
          "text": [
            "M\n",
            "a\n",
            "y\n",
            "a\n",
            "n\n",
            "k\n",
            "('a', 'y', 'a')\n",
            "('M', 'a', 'y')\n",
            "hello\n",
            "hi\n",
            "bye\n"
          ]
        }
      ]
    },
    {
      "cell_type": "markdown",
      "source": [
        "## Concatenation of Tuples"
      ],
      "metadata": {
        "id": "FXzLJNF7HAUl"
      }
    },
    {
      "cell_type": "code",
      "source": [
        "tup1 = (1,2,3,4,5)\n",
        "tup2 = ('mayank', 'kathane')\n",
        "tup3 = tup1 + tup2\n",
        "print(tup3)"
      ],
      "metadata": {
        "colab": {
          "base_uri": "https://localhost:8080/"
        },
        "id": "ukKxiLnNGlC0",
        "outputId": "6f638603-1126-4a1b-94e0-709b1a9981fa"
      },
      "execution_count": 9,
      "outputs": [
        {
          "output_type": "stream",
          "name": "stdout",
          "text": [
            "(1, 2, 3, 4, 5, 'mayank', 'kathane')\n"
          ]
        }
      ]
    },
    {
      "cell_type": "markdown",
      "source": [
        "## Slicing of Tuple"
      ],
      "metadata": {
        "id": "jB8egCmXHL8w"
      }
    },
    {
      "cell_type": "code",
      "source": [
        "tup = tuple('ELEPHANT')\n",
        "\n",
        "# removing first element\n",
        "print(tup[1:])\n",
        "\n",
        "# rversing tuple\n",
        "print(tup[::-1])\n",
        "\n",
        "# printing elements of a range\n",
        "print(tup[1:5])"
      ],
      "metadata": {
        "colab": {
          "base_uri": "https://localhost:8080/"
        },
        "id": "8VfnuTwXHGwG",
        "outputId": "94138659-d4c8-4636-dc35-e6b6c020973d"
      },
      "execution_count": 10,
      "outputs": [
        {
          "output_type": "stream",
          "name": "stdout",
          "text": [
            "('L', 'E', 'P', 'H', 'A', 'N', 'T')\n",
            "('T', 'N', 'A', 'H', 'P', 'E', 'L', 'E')\n",
            "('L', 'E', 'P', 'H')\n"
          ]
        }
      ]
    },
    {
      "cell_type": "markdown",
      "source": [
        "## Deleting a Tuple"
      ],
      "metadata": {
        "id": "dkFojql_Hk_M"
      }
    },
    {
      "cell_type": "code",
      "source": [
        "tup = (1,2,3,4,5)\n",
        "del tup"
      ],
      "metadata": {
        "id": "LYjEjhwSHdWn"
      },
      "execution_count": 11,
      "outputs": []
    },
    {
      "cell_type": "code",
      "source": [],
      "metadata": {
        "id": "msqkD1sfHqI2"
      },
      "execution_count": null,
      "outputs": []
    }
  ]
}