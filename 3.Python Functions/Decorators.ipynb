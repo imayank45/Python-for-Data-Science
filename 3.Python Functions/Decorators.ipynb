{
  "nbformat": 4,
  "nbformat_minor": 0,
  "metadata": {
    "colab": {
      "provenance": []
    },
    "kernelspec": {
      "name": "python3",
      "display_name": "Python 3"
    },
    "language_info": {
      "name": "python"
    }
  },
  "cells": [
    {
      "cell_type": "markdown",
      "source": [
        "## Decorator Example:\n",
        "\n",
        "\n",
        "\n"
      ],
      "metadata": {
        "id": "p2iQ4ynfX4t6"
      }
    },
    {
      "cell_type": "code",
      "execution_count": 3,
      "metadata": {
        "colab": {
          "base_uri": "https://localhost:8080/"
        },
        "id": "yv7aoJVeXqTg",
        "outputId": "ac890b60-fa40-4df9-e762-98b3a0c97727"
      },
      "outputs": [
        {
          "output_type": "stream",
          "name": "stdout",
          "text": [
            "Before calling function\n",
            "Hello, World!\n",
            "After calling function\n"
          ]
        }
      ],
      "source": [
        "# decorator function\n",
        "def decorator(func):\n",
        "  def wrapper():\n",
        "    print(\"Before calling function\")\n",
        "    func()\n",
        "    print(\"After calling function\")\n",
        "\n",
        "  return wrapper\n",
        "\n",
        "\n",
        "# apply decorator to a function\n",
        "@decorator\n",
        "def greet():\n",
        "  print(\"Hello, World!\")\n",
        "\n",
        "greet()"
      ]
    },
    {
      "cell_type": "markdown",
      "source": [
        "## Types of Decorators\n"
      ],
      "metadata": {
        "id": "rMfcmLzoY9XD"
      }
    },
    {
      "cell_type": "markdown",
      "source": [
        "### 1. Function Decorators:\n"
      ],
      "metadata": {
        "id": "9_UeP9XWZAMv"
      }
    },
    {
      "cell_type": "code",
      "source": [
        "# decorator function\n",
        "def decorator(func):\n",
        "  def wrapper():\n",
        "    print(\"Before calling function\")\n",
        "    func()\n",
        "    print(\"After calling function\")\n",
        "\n",
        "  return wrapper\n",
        "\n",
        "\n",
        "# apply decorator to a function\n",
        "@decorator\n",
        "def greet():\n",
        "  print(\"Hello, World!\")\n",
        "\n",
        "greet()"
      ],
      "metadata": {
        "colab": {
          "base_uri": "https://localhost:8080/"
        },
        "id": "9Ml3woRdYmOF",
        "outputId": "06f6d24c-56a3-4581-a8dc-1c6d5ffa1f4c"
      },
      "execution_count": 4,
      "outputs": [
        {
          "output_type": "stream",
          "name": "stdout",
          "text": [
            "Before calling function\n",
            "Hello, World!\n",
            "After calling function\n"
          ]
        }
      ]
    },
    {
      "cell_type": "markdown",
      "source": [
        "### 2. Method Decorators:\n"
      ],
      "metadata": {
        "id": "UdpZQw48ZNPR"
      }
    },
    {
      "cell_type": "code",
      "source": [
        "def method_decorator(func):\n",
        "    def wrapper(self, *args, **kwargs):\n",
        "        print(\"Before method execution\")\n",
        "        res = func(self, *args, **kwargs)\n",
        "        print(\"After method execution\")\n",
        "        return res\n",
        "    return wrapper\n",
        "\n",
        "class MyClass:\n",
        "    @method_decorator\n",
        "    def say_hello(self):\n",
        "        print(\"Hello!\")\n",
        "\n",
        "obj = MyClass()\n",
        "obj.say_hello()"
      ],
      "metadata": {
        "colab": {
          "base_uri": "https://localhost:8080/"
        },
        "id": "_FT7XoAWZFTu",
        "outputId": "38207b04-dc33-4db1-fe29-c34c75572ffa"
      },
      "execution_count": 5,
      "outputs": [
        {
          "output_type": "stream",
          "name": "stdout",
          "text": [
            "Before method execution\n",
            "Hello!\n",
            "After method execution\n"
          ]
        }
      ]
    },
    {
      "cell_type": "markdown",
      "source": [
        "## 3. Class Decorators\n"
      ],
      "metadata": {
        "id": "zobqKW9nZUqB"
      }
    },
    {
      "cell_type": "code",
      "source": [
        "def fun(cls):\n",
        "    cls.class_name = cls.__name__\n",
        "    return cls\n",
        "\n",
        "@fun\n",
        "class Person:\n",
        "    pass\n",
        "\n",
        "print(Person.class_name)"
      ],
      "metadata": {
        "colab": {
          "base_uri": "https://localhost:8080/"
        },
        "id": "aKve5tmEZPEB",
        "outputId": "4fe9c5ae-f1cd-4930-961e-50761a4df642"
      },
      "execution_count": 6,
      "outputs": [
        {
          "output_type": "stream",
          "name": "stdout",
          "text": [
            "Person\n"
          ]
        }
      ]
    },
    {
      "cell_type": "markdown",
      "source": [
        "## Common Built-in Decorators in Python\n"
      ],
      "metadata": {
        "id": "80E9z_MuZkr1"
      }
    },
    {
      "cell_type": "markdown",
      "source": [
        "### 1. @staticmethod"
      ],
      "metadata": {
        "id": "1BbU31kkZmoJ"
      }
    },
    {
      "cell_type": "code",
      "source": [
        "class Operations:\n",
        "\n",
        "  @staticmethod\n",
        "  def add(x,y):\n",
        "    return x+y\n",
        "\n",
        "res = Operations.add(2,3)\n",
        "print(res)"
      ],
      "metadata": {
        "colab": {
          "base_uri": "https://localhost:8080/"
        },
        "id": "zu_X_DVSZZA2",
        "outputId": "4ae124ac-8d4f-4cfd-a34c-13c18a8a3569"
      },
      "execution_count": 8,
      "outputs": [
        {
          "output_type": "stream",
          "name": "stdout",
          "text": [
            "5\n"
          ]
        }
      ]
    },
    {
      "cell_type": "markdown",
      "source": [
        "### 2. @classmethod\n"
      ],
      "metadata": {
        "id": "N9zhoZi-w3KI"
      }
    },
    {
      "cell_type": "code",
      "source": [
        "class Employee:\n",
        "  raise_amount = 1.5\n",
        "\n",
        "  def __init__(self, name, salary):\n",
        "    self.name = name\n",
        "    self.salary = salary\n",
        "\n",
        "  @classmethod\n",
        "  def set_raise_amount(cls, amount):\n",
        "    cls.raise_amount = amount\n",
        "\n",
        "# using class method\n",
        "Employee.set_raise_amount(2.0)\n",
        "print(Employee.raise_amount)\n"
      ],
      "metadata": {
        "colab": {
          "base_uri": "https://localhost:8080/"
        },
        "id": "iILZ0EsfZzAJ",
        "outputId": "6ebd6498-3702-414c-9a81-4cf0459371f1"
      },
      "execution_count": 9,
      "outputs": [
        {
          "output_type": "stream",
          "name": "stdout",
          "text": [
            "2.0\n"
          ]
        }
      ]
    },
    {
      "cell_type": "markdown",
      "source": [
        "### 3. @property\n"
      ],
      "metadata": {
        "id": "SXNiOHTzxrQE"
      }
    },
    {
      "cell_type": "code",
      "source": [
        "class Circle:\n",
        "    def __init__(self, radius):\n",
        "        self._radius = radius\n",
        "\n",
        "    @property\n",
        "    def radius(self):\n",
        "        return self._radius\n",
        "\n",
        "    @radius.setter\n",
        "    def radius(self, value):\n",
        "        if value >= 0:\n",
        "            self._radius = value\n",
        "        else:\n",
        "            raise ValueError(\"Radius cannot be negative\")\n",
        "\n",
        "    @property\n",
        "    def area(self):\n",
        "        return 3.14159 * (self._radius ** 2)\n",
        "\n",
        "# Using the property\n",
        "c = Circle(5)\n",
        "print(c.radius)\n",
        "print(c.area)\n",
        "c.radius = 10\n",
        "print(c.area)"
      ],
      "metadata": {
        "colab": {
          "base_uri": "https://localhost:8080/"
        },
        "id": "bnkB0qODxQXi",
        "outputId": "256058f0-50cb-43bc-f127-77754db03381"
      },
      "execution_count": 10,
      "outputs": [
        {
          "output_type": "stream",
          "name": "stdout",
          "text": [
            "5\n",
            "78.53975\n",
            "314.159\n"
          ]
        }
      ]
    },
    {
      "cell_type": "markdown",
      "source": [
        "## Chaining Decorators\n"
      ],
      "metadata": {
        "id": "e5cFUcVaxzZI"
      }
    },
    {
      "cell_type": "code",
      "source": [
        "# code for testing decorator chaining\n",
        "def decor1(func):\n",
        "    def inner():\n",
        "        x = func()\n",
        "        return x * x\n",
        "    return inner\n",
        "\n",
        "def decor(func):\n",
        "    def inner():\n",
        "        x = func()\n",
        "        return 2 * x\n",
        "    return inner\n",
        "\n",
        "@decor1\n",
        "@decor\n",
        "def num():\n",
        "    return 10\n",
        "\n",
        "@decor\n",
        "@decor1\n",
        "def num2():\n",
        "    return 10\n",
        "\n",
        "print(num())\n",
        "print(num2())"
      ],
      "metadata": {
        "colab": {
          "base_uri": "https://localhost:8080/"
        },
        "id": "cGgLjgNLxucy",
        "outputId": "db474b57-9744-42e9-b62e-d7c21ca5b985"
      },
      "execution_count": 11,
      "outputs": [
        {
          "output_type": "stream",
          "name": "stdout",
          "text": [
            "400\n",
            "200\n"
          ]
        }
      ]
    },
    {
      "cell_type": "code",
      "source": [],
      "metadata": {
        "id": "AshSxXSwyCtO"
      },
      "execution_count": null,
      "outputs": []
    }
  ]
}