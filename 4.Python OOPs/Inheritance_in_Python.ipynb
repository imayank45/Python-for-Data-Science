{
  "nbformat": 4,
  "nbformat_minor": 0,
  "metadata": {
    "colab": {
      "provenance": []
    },
    "kernelspec": {
      "name": "python3",
      "display_name": "Python 3"
    },
    "language_info": {
      "name": "python"
    }
  },
  "cells": [
    {
      "cell_type": "code",
      "execution_count": 1,
      "metadata": {
        "colab": {
          "base_uri": "https://localhost:8080/"
        },
        "id": "obmEqv0MqTY1",
        "outputId": "ddf974ef-1b3c-4330-aae9-6d4550387f12"
      },
      "outputs": [
        {
          "output_type": "stream",
          "name": "stdout",
          "text": [
            "Buddy barks!\n"
          ]
        }
      ],
      "source": [
        "# parent class\n",
        "class Animal:\n",
        "  def __init__(self, name):\n",
        "    self.name = name\n",
        "\n",
        "  def speak(Self):\n",
        "    pass\n",
        "\n",
        "# child class inheriting from Animal\n",
        "class Dog(Animal):\n",
        "  def speak(self):\n",
        "    return f\"{self.name} barks!\"\n",
        "\n",
        "# creating an instance of Dog\n",
        "dog = Dog(\"Buddy\")\n",
        "print(dog.speak())"
      ]
    },
    {
      "cell_type": "markdown",
      "source": [
        "## Calling Parent’s __init__ with super()"
      ],
      "metadata": {
        "id": "WpR2snKWwKXi"
      }
    },
    {
      "cell_type": "code",
      "source": [
        "# parent class\n",
        "class Person:\n",
        "  def __init__(self, name, idnumber):\n",
        "    self.name = name\n",
        "    self.idnumber = idnumber\n",
        "\n",
        "class Employee(Person):\n",
        "  def __init__(self, name, idnumber, salary, post):\n",
        "    super().__init__(name, idnumber)\n",
        "    self.salary = salary\n",
        "    self.post = post\n",
        "\n",
        "  def details(self):\n",
        "    print(f\"Employee Name: {self.name}\")\n",
        "    print(f\"Employee ID: {self.idnumber}\")\n",
        "    print(f\"Employee Salary: {self.salary}\")\n",
        "    print(f\"Employee Post: {self.post}\")\n",
        "\n",
        "emp = Employee(\"John Doe\", 12345, 50000, \"Manager\")\n",
        "emp.details()"
      ],
      "metadata": {
        "colab": {
          "base_uri": "https://localhost:8080/"
        },
        "id": "lomtx_gRrO5e",
        "outputId": "fec5b172-fd43-4a72-f217-aeea7a4c6ac2"
      },
      "execution_count": 2,
      "outputs": [
        {
          "output_type": "stream",
          "name": "stdout",
          "text": [
            "Employee Name: John Doe\n",
            "Employee ID: 12345\n",
            "Employee Salary: 50000\n",
            "Employee Post: Manager\n"
          ]
        }
      ]
    },
    {
      "cell_type": "markdown",
      "source": [
        "## Types of Inheritance"
      ],
      "metadata": {
        "id": "FEgnUgDLy6Y7"
      }
    },
    {
      "cell_type": "markdown",
      "source": [
        "### 1. Single Inheritance"
      ],
      "metadata": {
        "id": "mNxVvpCzy9Cr"
      }
    },
    {
      "cell_type": "code",
      "source": [
        "# parent class\n",
        "class Person:\n",
        "  def __init__(self, name, idnumber):\n",
        "    self.name = name\n",
        "    self.idnumber = idnumber\n",
        "\n",
        "class Employee(Person):\n",
        "  def __init__(self, name, idnumber, salary, post):\n",
        "    super().__init__(name, idnumber)\n",
        "    self.salary = salary\n",
        "    self.post = post\n",
        "\n",
        "  def details(self):\n",
        "    print(f\"Employee Name: {self.name}\")\n",
        "    print(f\"Employee ID: {self.idnumber}\")\n",
        "    print(f\"Employee Salary: {self.salary}\")\n",
        "    print(f\"Employee Post: {self.post}\")\n",
        "\n",
        "emp = Employee(\"John Doe\", 12345, 50000, \"Manager\")\n",
        "emp.details()"
      ],
      "metadata": {
        "colab": {
          "base_uri": "https://localhost:8080/"
        },
        "id": "efYRZrnHxDae",
        "outputId": "9b6c7e09-9b59-41ef-8e8b-5eb283400b50"
      },
      "execution_count": 3,
      "outputs": [
        {
          "output_type": "stream",
          "name": "stdout",
          "text": [
            "Employee Name: John Doe\n",
            "Employee ID: 12345\n",
            "Employee Salary: 50000\n",
            "Employee Post: Manager\n"
          ]
        }
      ]
    },
    {
      "cell_type": "markdown",
      "source": [
        "### 2. Multiple Inheritance"
      ],
      "metadata": {
        "id": "jV_upVEmzCj3"
      }
    },
    {
      "cell_type": "code",
      "source": [
        "class Flyer:\n",
        "  def __init__(self):\n",
        "    self.wings = True\n",
        "\n",
        "  def fly(self):\n",
        "    return \"Flying\"\n",
        "\n",
        "class Swimmer:\n",
        "  def __init__(self):\n",
        "    self.fins = True\n",
        "\n",
        "  def swim(self):\n",
        "    return \"Swimming\"\n",
        "\n",
        "class Duck(Flyer, Swimmer):\n",
        "  def __init__(self):\n",
        "    super().__init__()\n",
        "    Swimmer.__init__(self)\n",
        "    self.name = \"Duck\"\n",
        "\n",
        "  def quack(self):\n",
        "    return \"Quack!\"\n",
        "\n",
        "duck = Duck()\n",
        "print(duck.fly())\n",
        "print(duck.swim())\n",
        "print(duck.quack())\n",
        "print(duck.name)"
      ],
      "metadata": {
        "colab": {
          "base_uri": "https://localhost:8080/"
        },
        "id": "Mio7zFSxzBdd",
        "outputId": "587ff881-078d-4936-a764-4f33734e181f"
      },
      "execution_count": 5,
      "outputs": [
        {
          "output_type": "stream",
          "name": "stdout",
          "text": [
            "Flying\n",
            "Swimming\n",
            "Quack!\n",
            "Duck\n"
          ]
        }
      ]
    },
    {
      "cell_type": "markdown",
      "source": [
        "### 3. Multilevel Inheritance"
      ],
      "metadata": {
        "id": "7dKRJVdJ11TK"
      }
    },
    {
      "cell_type": "code",
      "source": [
        "class Creature:\n",
        "  def __init__(self, species):\n",
        "    self.species = species\n",
        "\n",
        "class Animal(Creature):\n",
        "  def __init__(self, species, name):\n",
        "    super().__init__(species)\n",
        "    self.name = name\n",
        "\n",
        "class Dog(Animal):\n",
        "  def speak(self):\n",
        "    return f\"{self.name} says Woof!\"\n",
        "\n",
        "dog = Dog(\"Canine\", \"Buddy\")\n",
        "print(dog.speak())\n",
        "print(dog.species)\n",
        "print(dog.name)"
      ],
      "metadata": {
        "colab": {
          "base_uri": "https://localhost:8080/"
        },
        "id": "j5mtzIGk1q4w",
        "outputId": "3d1ece25-31d9-4942-9c89-a487d123a6ab"
      },
      "execution_count": 7,
      "outputs": [
        {
          "output_type": "stream",
          "name": "stdout",
          "text": [
            "Buddy says Woof!\n",
            "Canine\n",
            "Buddy\n"
          ]
        }
      ]
    },
    {
      "cell_type": "markdown",
      "source": [
        "### 4. Hierarchical Inheritance"
      ],
      "metadata": {
        "id": "zJkC3eWO3G6x"
      }
    },
    {
      "cell_type": "code",
      "source": [
        "class Vehicle:\n",
        "  def __init__(self, brand):\n",
        "    self.brand = brand\n",
        "\n",
        "  def move(self):\n",
        "    return f\"{self.brand} moves\"\n",
        "\n",
        "class Car(Vehicle):\n",
        "  def move(self):\n",
        "    return f\"{self.brand} car drives\"\n",
        "\n",
        "class Bike(Vehicle):\n",
        "  def move(self):\n",
        "    return f\"{self.brand} bike pedals\"\n",
        "\n",
        "car = Car(\"Toyota\")\n",
        "bike = Bike(\"Honda\")\n",
        "print(car.move())\n",
        "print(bike.move())\n",
        "print(car.brand)\n",
        "print(bike.brand)"
      ],
      "metadata": {
        "colab": {
          "base_uri": "https://localhost:8080/"
        },
        "id": "OjeQBZSU238w",
        "outputId": "25291ec5-43d6-48ba-a3c6-f1ef1fd92fa6"
      },
      "execution_count": 9,
      "outputs": [
        {
          "output_type": "stream",
          "name": "stdout",
          "text": [
            "Toyota car drives\n",
            "Honda bike pedals\n",
            "Toyota\n",
            "Honda\n"
          ]
        }
      ]
    },
    {
      "cell_type": "markdown",
      "source": [
        "### 5. Hybrid Inheritance"
      ],
      "metadata": {
        "id": "9SKlsGU54nJj"
      }
    },
    {
      "cell_type": "code",
      "source": [
        "class A:\n",
        "    def __init__(self):\n",
        "        self.value = \"A\"\n",
        "\n",
        "    def show(self):\n",
        "        return self.value\n",
        "\n",
        "class B(A):  # Hierarchical: B inherits from A\n",
        "    def __init__(self):\n",
        "        super().__init__()\n",
        "        self.value = \"B\"\n",
        "\n",
        "class C(A):  # Hierarchical: C inherits from A\n",
        "    def __init__(self):\n",
        "        super().__init__()\n",
        "        self.value = \"C\"\n",
        "\n",
        "class D(B, C):  # Multiple: D inherits from B and C\n",
        "    def __init__(self):\n",
        "        super().__init__()  # Calls B’s __init__ (per MRO)\n",
        "\n",
        "d = D()\n",
        "print(d.show())      # Output: B (from B, per MRO)\n",
        "print(D.mro())       # Output: [<class '__main__.D'>, <class '__main__.B'>, <class '__main__.C'>, <class '__main__.A'>, <class 'object'>]"
      ],
      "metadata": {
        "colab": {
          "base_uri": "https://localhost:8080/"
        },
        "id": "sGCyU99O4GdT",
        "outputId": "fea9ddda-87fa-4be8-b4c8-d07c813cfdda"
      },
      "execution_count": 12,
      "outputs": [
        {
          "output_type": "stream",
          "name": "stdout",
          "text": [
            "B\n",
            "[<class '__main__.D'>, <class '__main__.B'>, <class '__main__.C'>, <class '__main__.A'>, <class 'object'>]\n"
          ]
        }
      ]
    },
    {
      "cell_type": "code",
      "source": [],
      "metadata": {
        "id": "0sx5l4Vb5H14"
      },
      "execution_count": null,
      "outputs": []
    }
  ]
}