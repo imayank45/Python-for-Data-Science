{
  "nbformat": 4,
  "nbformat_minor": 0,
  "metadata": {
    "colab": {
      "provenance": []
    },
    "kernelspec": {
      "name": "python3",
      "display_name": "Python 3"
    },
    "language_info": {
      "name": "python"
    }
  },
  "cells": [
    {
      "cell_type": "markdown",
      "source": [
        "## 1. Polymorphism Through Inheritance and Method Overriding (Run-time Polymorphism)"
      ],
      "metadata": {
        "id": "bH9Qfto57J9w"
      }
    },
    {
      "cell_type": "code",
      "execution_count": 2,
      "metadata": {
        "colab": {
          "base_uri": "https://localhost:8080/"
        },
        "id": "vRrxsmWJ7D14",
        "outputId": "d4412b7b-fa45-41ec-cc12-676fcfd04f60"
      },
      "outputs": [
        {
          "output_type": "stream",
          "name": "stdout",
          "text": [
            "Woof!\n",
            "Meow!\n",
            "I make a sound\n"
          ]
        }
      ],
      "source": [
        "class Animal:\n",
        "  def speak(self):\n",
        "    return \"I make a sound\"\n",
        "\n",
        "class Dog(Animal):\n",
        "  def speak(self):\n",
        "    return \"Woof!\"\n",
        "\n",
        "class Cat(Animal):\n",
        "  def speak(self):\n",
        "    return \"Meow!\"\n",
        "\n",
        "animals = [Dog(), Cat(), Animal()]\n",
        "for animal in animals:\n",
        "  print(animal.speak())"
      ]
    },
    {
      "cell_type": "markdown",
      "source": [
        "## 2. Polymorphism Through Duck Typing"
      ],
      "metadata": {
        "id": "m5d5p36u834T"
      }
    },
    {
      "cell_type": "code",
      "source": [
        "class Duck:\n",
        "  def quack(self):\n",
        "    return \"Quack\"\n",
        "\n",
        "class Person:\n",
        "  def quack(self):\n",
        "    return \"I'm quacking like a duck.\"\n",
        "\n",
        "def make_quack(obj):\n",
        "  return obj.quack()\n",
        "\n",
        "duck = Duck()\n",
        "person = Person()\n",
        "\n",
        "print(make_quack(duck))\n",
        "print(make_quack(person))"
      ],
      "metadata": {
        "colab": {
          "base_uri": "https://localhost:8080/"
        },
        "id": "XlXNDYqL7iQS",
        "outputId": "96ce0e95-fc51-4ae8-f0a9-74e7d19ce774"
      },
      "execution_count": 6,
      "outputs": [
        {
          "output_type": "stream",
          "name": "stdout",
          "text": [
            "Quack\n",
            "I'm quacking like a duck.\n"
          ]
        }
      ]
    },
    {
      "cell_type": "markdown",
      "source": [
        "## 3. Polymorphism Through Function/Method Overloading (Emulated in Python)"
      ],
      "metadata": {
        "id": "GSEAMmiwAJ7J"
      }
    },
    {
      "cell_type": "code",
      "source": [
        "class Calculator:\n",
        "  def add(self, *args):\n",
        "    if len(args) == 2:\n",
        "      return args[0] + args[1]\n",
        "    elif len(args) == 3:\n",
        "      return args[0] + args[1] + args[2]\n",
        "    else:\n",
        "      raise ValueError(\"Invalid number of arguments\")\n",
        "\n",
        "calc = Calculator()\n",
        "print(calc.add(1, 2))\n",
        "print(calc.add(1, 2, 3))"
      ],
      "metadata": {
        "colab": {
          "base_uri": "https://localhost:8080/"
        },
        "id": "C48O6keC9WI1",
        "outputId": "f6d060da-a2d6-4ad9-cb46-a0d1cfbed491"
      },
      "execution_count": 7,
      "outputs": [
        {
          "output_type": "stream",
          "name": "stdout",
          "text": [
            "3\n",
            "6\n"
          ]
        }
      ]
    },
    {
      "cell_type": "markdown",
      "source": [
        "## 4. Polymorphism Through Operator Overloading"
      ],
      "metadata": {
        "id": "B6Zyf2LGCVdl"
      }
    },
    {
      "cell_type": "code",
      "source": [
        "class Vector:\n",
        "  def __init__(self, x, y):\n",
        "    self.x = x\n",
        "    self.y = y\n",
        "\n",
        "  def __add__(self, other):\n",
        "    return Vector(self.x + other.x, self.y + other.y)\n",
        "\n",
        "  def __str__(self):\n",
        "    return f\"({self.x}, {self.y})\"\n",
        "\n",
        "v1 = Vector(1, 2)\n",
        "v2 = Vector(3, 4)\n",
        "v3 = v1 + v2\n",
        "print(v3)\n"
      ],
      "metadata": {
        "colab": {
          "base_uri": "https://localhost:8080/"
        },
        "id": "6pLuVGgYAhH2",
        "outputId": "76b27f74-5e9f-44ba-93e5-fddfcea2fe6f"
      },
      "execution_count": 8,
      "outputs": [
        {
          "output_type": "stream",
          "name": "stdout",
          "text": [
            "(4, 6)\n"
          ]
        }
      ]
    },
    {
      "cell_type": "markdown",
      "source": [
        "## 5. Polymorphism with Built-in Functions"
      ],
      "metadata": {
        "id": "NeY-GeUiDouk"
      }
    },
    {
      "cell_type": "code",
      "source": [
        "class MyList:\n",
        "    def __init__(self, items):\n",
        "        self.items = items\n",
        "    def __len__(self):\n",
        "        return len(self.items)\n",
        "\n",
        "lst = [1, 2, 3]\n",
        "my_lst = MyList([4, 5])\n",
        "print(len(lst))      # Output: 3 (built-in list)\n",
        "print(len(my_lst))   # Output: 2 (custom class)"
      ],
      "metadata": {
        "colab": {
          "base_uri": "https://localhost:8080/"
        },
        "id": "FQmfuAqmCuZ0",
        "outputId": "bf16b353-79f8-4586-cee6-ae2dfc0309b4"
      },
      "execution_count": 9,
      "outputs": [
        {
          "output_type": "stream",
          "name": "stdout",
          "text": [
            "3\n",
            "2\n"
          ]
        }
      ]
    },
    {
      "cell_type": "code",
      "source": [],
      "metadata": {
        "id": "jqHfB76PECS7"
      },
      "execution_count": null,
      "outputs": []
    }
  ]
}