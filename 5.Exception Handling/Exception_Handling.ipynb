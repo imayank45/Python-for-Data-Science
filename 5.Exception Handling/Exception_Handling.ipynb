{
  "nbformat": 4,
  "nbformat_minor": 0,
  "metadata": {
    "colab": {
      "provenance": []
    },
    "kernelspec": {
      "name": "python3",
      "display_name": "Python 3"
    },
    "language_info": {
      "name": "python"
    }
  },
  "cells": [
    {
      "cell_type": "code",
      "execution_count": 5,
      "metadata": {
        "colab": {
          "base_uri": "https://localhost:8080/"
        },
        "id": "ky61VAPZA8rj",
        "outputId": "eec1fc09-0fc0-4b6f-ab67-83f5f74b8508"
      },
      "outputs": [
        {
          "output_type": "stream",
          "name": "stdout",
          "text": [
            "Enter a number: kick\n",
            "Invalid input! please enter a number\n",
            "Execution Completed\n"
          ]
        }
      ],
      "source": [
        "try:\n",
        "  num = int(input(\"Enter a number: \"))\n",
        "  result = 10/num\n",
        "\n",
        "except ValueError:\n",
        "  print('Invalid input! please enter a number')\n",
        "\n",
        "except ZeroDivisionError:\n",
        "  print('Cannot divide by zero.')\n",
        "\n",
        "else:\n",
        "  print(f'Results:{result}')\n",
        "\n",
        "finally:\n",
        "  print('Execution Completed')"
      ]
    },
    {
      "cell_type": "code",
      "source": [],
      "metadata": {
        "id": "ASIWFUWqBt0p"
      },
      "execution_count": null,
      "outputs": []
    }
  ]
}