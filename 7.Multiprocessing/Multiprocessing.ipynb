{
 "cells": [
  {
   "cell_type": "code",
   "execution_count": 8,
   "id": "8beeb9bc",
   "metadata": {},
   "outputs": [
    {
     "name": "stdout",
     "output_type": "stream",
     "text": [
      "Starting processes...\n",
      "All processes completed.\n"
     ]
    }
   ],
   "source": [
    "import multiprocessing\n",
    "import sys\n",
    "\n",
    "def print_numbers():\n",
    "    try:\n",
    "        for i in range(1, 6):\n",
    "            print(f\"Number: {i}\", flush=True)  # Force flush\n",
    "            sys.stdout.flush()  # Extra flush for reliability\n",
    "    except Exception as e:\n",
    "        print(f\"Error in print_numbers: {e}\", flush=True)\n",
    "\n",
    "def print_letters():\n",
    "    try:\n",
    "        for letter in \"abcde\":\n",
    "            print(f\"Letter: {letter}\", flush=True)\n",
    "            sys.stdout.flush()\n",
    "    except Exception as e:\n",
    "        print(f\"Error in print_letters: {e}\", flush=True)\n",
    "\n",
    "if __name__ == \"__main__\":\n",
    "    print(\"Starting processes...\", flush=True)\n",
    "    p1 = multiprocessing.Process(target=print_numbers)\n",
    "    p2 = multiprocessing.Process(target=print_letters)\n",
    "    p1.start()\n",
    "    p2.start()\n",
    "    p1.join()\n",
    "    p2.join()\n",
    "    print(\"All processes completed.\", flush=True)"
   ]
  },
  {
   "cell_type": "code",
   "execution_count": null,
   "id": "c57e2bc1",
   "metadata": {},
   "outputs": [],
   "source": []
  }
 ],
 "metadata": {
  "kernelspec": {
   "display_name": "Python 3",
   "language": "python",
   "name": "python3"
  },
  "language_info": {
   "codemirror_mode": {
    "name": "ipython",
    "version": 3
   },
   "file_extension": ".py",
   "mimetype": "text/x-python",
   "name": "python",
   "nbconvert_exporter": "python",
   "pygments_lexer": "ipython3",
   "version": "3.11.9"
  }
 },
 "nbformat": 4,
 "nbformat_minor": 5
}
