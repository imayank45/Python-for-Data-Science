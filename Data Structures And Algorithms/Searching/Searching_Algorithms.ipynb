{
  "nbformat": 4,
  "nbformat_minor": 0,
  "metadata": {
    "colab": {
      "provenance": []
    },
    "kernelspec": {
      "name": "python3",
      "display_name": "Python 3"
    },
    "language_info": {
      "name": "python"
    }
  },
  "cells": [
    {
      "cell_type": "markdown",
      "source": [
        "## 1. Linear Search"
      ],
      "metadata": {
        "id": "JGVa0xE_OYkM"
      }
    },
    {
      "cell_type": "code",
      "execution_count": null,
      "metadata": {
        "colab": {
          "base_uri": "https://localhost:8080/"
        },
        "id": "WsEvFQwvOSXa",
        "outputId": "2378c1c1-afd3-47ed-bc69-addce520fe53"
      },
      "outputs": [
        {
          "output_type": "execute_result",
          "data": {
            "text/plain": [
              "4"
            ]
          },
          "metadata": {},
          "execution_count": 1
        }
      ],
      "source": [
        "def linear_search(arr, target):\n",
        "  for i in range(len(arr)):\n",
        "    if arr[i] == target:\n",
        "      return i\n",
        "  return -1\n",
        "\n",
        "arr = [4,5,6,7,8,9]\n",
        "target = 8\n",
        "linear_search(arr, target)"
      ]
    },
    {
      "cell_type": "markdown",
      "source": [
        "## 2. Binary Search\n"
      ],
      "metadata": {
        "id": "iZDydmwgpCcw"
      }
    },
    {
      "cell_type": "code",
      "source": [
        "def binary_search(arr, target):\n",
        "  left = 0\n",
        "  right = len(arr) - 1\n",
        "  while left <= right:\n",
        "    mid = (left + right) // 2\n",
        "    if arr[mid] == target:\n",
        "      return mid\n",
        "    elif arr[mid] < target:\n",
        "      left = mid + 1\n",
        "    else:\n",
        "      right = mid - 1\n",
        "\n",
        "arr = [1,2,3,4,5,6]\n",
        "target = 6\n",
        "print(binary_search(arr, target))"
      ],
      "metadata": {
        "id": "CC3m3BKbOv9H",
        "colab": {
          "base_uri": "https://localhost:8080/"
        },
        "outputId": "8beb2c50-1f87-4d5f-9001-4cd5ebcdbc82"
      },
      "execution_count": null,
      "outputs": [
        {
          "output_type": "stream",
          "name": "stdout",
          "text": [
            "5\n"
          ]
        }
      ]
    },
    {
      "cell_type": "markdown",
      "source": [
        "## Jump Search"
      ],
      "metadata": {
        "id": "8GXXITKJxIep"
      }
    },
    {
      "cell_type": "code",
      "source": [
        "import math\n",
        "\n",
        "def jump_search(arr, target):\n",
        "  n = len(arr)\n",
        "  step = int(math.sqrt(n))\n",
        "  prev = 0\n",
        "\n",
        "  # find block where element is present\n",
        "  while prev < n and arr[min(step,n) - 1] < target:\n",
        "    prev = step\n",
        "    step += int(math.sqrt(n))\n",
        "    if prev >= n:\n",
        "      return -1\n",
        "\n",
        "  # linear search within the block\n",
        "  for i in range(prev, min(step, n)):\n",
        "    if arr[i] == target:\n",
        "      return i\n",
        "  return -1\n",
        "\n",
        "arr = [1,2,3,4,5,6,7,8,9]\n",
        "target = 7\n",
        "print(jump_search(arr, target))"
      ],
      "metadata": {
        "colab": {
          "base_uri": "https://localhost:8080/"
        },
        "id": "06psX0CjqlBd",
        "outputId": "f6aa2a85-c476-47a3-8824-3a8fdbc665f2"
      },
      "execution_count": null,
      "outputs": [
        {
          "output_type": "stream",
          "name": "stdout",
          "text": [
            "6\n"
          ]
        }
      ]
    },
    {
      "cell_type": "markdown",
      "source": [
        "## Interpolation Search"
      ],
      "metadata": {
        "id": "1sR9LChx2Sxn"
      }
    },
    {
      "cell_type": "code",
      "source": [
        "def interpolation_search(arr, target):\n",
        "  low = 0\n",
        "  high = len(arr) - 1\n",
        "\n",
        "  while low <= high and arr[low] <= target <= arr[high]:\n",
        "    if arr[low] == arr[high]:\n",
        "      if arr[low] == target:\n",
        "        return low\n",
        "      return -1\n",
        "\n",
        "    pos = low + ((target - arr[low]) * (high - low)) // (arr[high] - arr[low])\n",
        "\n",
        "    if arr[pos] == target:\n",
        "      return pos\n",
        "    elif arr[pos] < target:\n",
        "      low = pos + 1\n",
        "    else:\n",
        "      high = pos - 1\n",
        "\n",
        "    return -1\n",
        "\n",
        "arr = [1,2,3,4,5,6,7,8,9]\n",
        "target = 4\n",
        "print(jump_search(arr, target))"
      ],
      "metadata": {
        "colab": {
          "base_uri": "https://localhost:8080/"
        },
        "id": "XD62y9xxx_YJ",
        "outputId": "a689c1b1-7357-4b8c-8f71-890f5080f540"
      },
      "execution_count": null,
      "outputs": [
        {
          "output_type": "stream",
          "name": "stdout",
          "text": [
            "3\n"
          ]
        }
      ]
    },
    {
      "cell_type": "markdown",
      "source": [
        "## Fiboanacci Search"
      ],
      "metadata": {
        "id": "yGfoskxBFOjd"
      }
    },
    {
      "cell_type": "code",
      "source": [
        "def fibonacci_search(arr, target):\n",
        "  # initialize first three fibonacci numbers\n",
        "  fib2 = 0\n",
        "  fib1 = 1\n",
        "  fib = fib2 + fib1\n",
        "  n = len(arr)\n",
        "\n",
        "  # find the smallest fibonacci number greater than or equal to n\n",
        "  while fib < n:\n",
        "    fib2 = fib1\n",
        "    fib1 = fib\n",
        "    fib = fib1 + fib2\n",
        "  # marks the front portion of eliminated range\n",
        "  offset = -1\n",
        "\n",
        "  while fib > 1:\n",
        "    i = min(offset + fib2, n - 1)\n",
        "\n",
        "    # if target is greater move range to right\n",
        "    if arr[i] < target:\n",
        "      fib = fib1\n",
        "      fib1 = fib2\n",
        "      fib2 = fib - fib1\n",
        "      offset = i\n",
        "\n",
        "    # if target is lesser move range to left\n",
        "    elif arr[i] > target:\n",
        "      fib = fib2\n",
        "      fib1 = fib1 - fib2\n",
        "      fib2 = fib - fib1\n",
        "\n",
        "    # if found\n",
        "    else:\n",
        "      return i\n",
        "\n",
        "  # check if last remaining element is the target\n",
        "  if fib and offset + 1 < n and arr[offset + 1] == target:\n",
        "    return offset + 1\n",
        "\n",
        "  return -1\n",
        "\n",
        "arr = [1,2,3,4,5,6,7,8,9]\n",
        "target = 7\n",
        "print(fibonacci_search(arr, target))"
      ],
      "metadata": {
        "colab": {
          "base_uri": "https://localhost:8080/"
        },
        "id": "lvwjEmq33b_q",
        "outputId": "89a3eba8-7e49-4785-9095-6e2d7f79d8c4"
      },
      "execution_count": null,
      "outputs": [
        {
          "output_type": "stream",
          "name": "stdout",
          "text": [
            "6\n"
          ]
        }
      ]
    },
    {
      "cell_type": "markdown",
      "source": [
        "## Exponential Search"
      ],
      "metadata": {
        "id": "s5iZtyXpRrHd"
      }
    },
    {
      "cell_type": "code",
      "source": [
        "def binary_search(arr, low, high, target):\n",
        "  while low <= high:\n",
        "    mid = (low + high) // 2\n",
        "    if arr[mid] == target:\n",
        "      return mid\n",
        "\n",
        "    elif arr[mid] < target:\n",
        "      low = mid + 1\n",
        "\n",
        "    else:\n",
        "      high = mid - 1\n",
        "\n",
        "  return -1\n",
        "\n",
        "def exponential_search(arr, target):\n",
        "  if len(arr) == 0:\n",
        "    return -1\n",
        "\n",
        "  if arr[0] == target:\n",
        "    return 0\n",
        "\n",
        "  i = 1\n",
        "  while i < len(arr) and arr[i] <= target:\n",
        "    i *= 2\n",
        "\n",
        "  return binary_search(arr, i//2, min(i, len(arr)-1), target)\n",
        "\n",
        "arr = [1,2,3,4,5,6,7,8,9]\n",
        "target = 6\n",
        "print(exponential_search(arr, target))"
      ],
      "metadata": {
        "colab": {
          "base_uri": "https://localhost:8080/"
        },
        "id": "V5helC02HtgW",
        "outputId": "5f520ea5-b247-423e-8a96-504fd0bccebe"
      },
      "execution_count": null,
      "outputs": [
        {
          "output_type": "stream",
          "name": "stdout",
          "text": [
            "5\n"
          ]
        }
      ]
    },
    {
      "cell_type": "code",
      "source": [],
      "metadata": {
        "id": "jdEESLLdTqIs"
      },
      "execution_count": null,
      "outputs": []
    }
  ]
}