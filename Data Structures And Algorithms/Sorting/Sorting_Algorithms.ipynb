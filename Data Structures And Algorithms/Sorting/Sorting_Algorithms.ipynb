{
  "nbformat": 4,
  "nbformat_minor": 0,
  "metadata": {
    "colab": {
      "provenance": []
    },
    "kernelspec": {
      "name": "python3",
      "display_name": "Python 3"
    },
    "language_info": {
      "name": "python"
    }
  },
  "cells": [
    {
      "cell_type": "markdown",
      "source": [
        "## Bubble Sort"
      ],
      "metadata": {
        "id": "KvlPUytXqWzi"
      }
    },
    {
      "cell_type": "code",
      "execution_count": null,
      "metadata": {
        "colab": {
          "base_uri": "https://localhost:8080/"
        },
        "id": "4vRjCr-RqTql",
        "outputId": "4a61135e-ee5d-4a92-e754-0784a7c2637e"
      },
      "outputs": [
        {
          "output_type": "execute_result",
          "data": {
            "text/plain": [
              "[11, 12, 22, 25, 34, 64, 90]"
            ]
          },
          "metadata": {},
          "execution_count": 1
        }
      ],
      "source": [
        "def bubble_sort(arr):\n",
        "  n = len(arr)\n",
        "\n",
        "  for i in range(n):\n",
        "    swapped = False\n",
        "    for j in range(n-i-1):\n",
        "      if arr[j] > arr[j+1]:\n",
        "        arr[j], arr[j+1] = arr[j+1], arr[j]\n",
        "        swapped = True\n",
        "    if not swapped:\n",
        "      break\n",
        "  return arr\n",
        "\n",
        "arr = [64, 34, 25, 12, 22, 11, 90]\n",
        "bubble_sort(arr)"
      ]
    },
    {
      "cell_type": "markdown",
      "source": [
        "## Selection Sort"
      ],
      "metadata": {
        "id": "_6WhGZaT0RTG"
      }
    },
    {
      "cell_type": "code",
      "source": [
        "def selection_sort(arr):\n",
        "  n = len(arr)\n",
        "\n",
        "  for i in range(n):\n",
        "    min_idx = i\n",
        "    for j in range(i+1,n):\n",
        "      if arr[j] < arr[min_idx]:\n",
        "        min_idx = j\n",
        "    arr[i], arr[min_idx] = arr[min_idx], arr[i]\n",
        "  return arr\n",
        "\n",
        "arr = [64, 34, 25, 12, 22, 11, 90]\n",
        "selection_sort(arr)"
      ],
      "metadata": {
        "id": "nrDKoeQurFIF",
        "colab": {
          "base_uri": "https://localhost:8080/"
        },
        "outputId": "bf3dae2d-5aeb-48e4-ea15-c2ebeb4a11a1"
      },
      "execution_count": null,
      "outputs": [
        {
          "output_type": "execute_result",
          "data": {
            "text/plain": [
              "[11, 12, 22, 25, 34, 64, 90]"
            ]
          },
          "metadata": {},
          "execution_count": 4
        }
      ]
    },
    {
      "cell_type": "markdown",
      "source": [
        "## Insertion Sort"
      ],
      "metadata": {
        "id": "XiYJ6JuD5qXy"
      }
    },
    {
      "cell_type": "code",
      "source": [
        "def insertion_sort(arr):\n",
        "  n = len(arr)\n",
        "  for i in range(1, n):\n",
        "    key = arr[i]\n",
        "    j = i - 1\n",
        "    while j >= 0 and arr[j] > key:\n",
        "      arr[j + 1] = arr[j]\n",
        "      j -= 1\n",
        "    arr[j + 1] = key\n",
        "  return arr\n",
        "\n",
        "arr = [64, 34, 25, 12, 22, 11, 90]\n",
        "insertion_sort(arr)"
      ],
      "metadata": {
        "colab": {
          "base_uri": "https://localhost:8080/"
        },
        "id": "PkySF_UX02XB",
        "outputId": "6890dd34-f534-4170-d5f7-0716cedfd76c"
      },
      "execution_count": null,
      "outputs": [
        {
          "output_type": "execute_result",
          "data": {
            "text/plain": [
              "[11, 12, 22, 25, 34, 64, 90]"
            ]
          },
          "metadata": {},
          "execution_count": 6
        }
      ]
    },
    {
      "cell_type": "markdown",
      "source": [
        "## Merge Sort"
      ],
      "metadata": {
        "id": "CWFbkY6bDMHj"
      }
    },
    {
      "cell_type": "code",
      "source": [
        "def merge_sort(arr):\n",
        "  n = len(arr)\n",
        "  if n <= 1:\n",
        "    return arr\n",
        "\n",
        "  mid = n // 2\n",
        "  left = merge_sort(arr[:mid])\n",
        "  right = merge_sort(arr[mid:])\n",
        "\n",
        "  return merge(left, right)\n",
        "\n",
        "def merge(left, right):\n",
        "  result = []\n",
        "  i,j = 0,0\n",
        "\n",
        "  while i < len(left) and j < len(right):\n",
        "    if left[i] < right[j]:\n",
        "      result.append(left[i])\n",
        "      i += 1\n",
        "    else:\n",
        "      result.append(right[j])\n",
        "      j += 1\n",
        "\n",
        "  result.extend(left[i:])\n",
        "  result.extend(right[j:])\n",
        "  return result\n",
        "\n",
        "arr = [64, 34, 25, 12, 22, 11, 90]\n",
        "merge_sort(arr)"
      ],
      "metadata": {
        "colab": {
          "base_uri": "https://localhost:8080/"
        },
        "id": "AgKxLKS96Mvw",
        "outputId": "77488b60-a2b0-456e-fa02-7d77c013143f"
      },
      "execution_count": null,
      "outputs": [
        {
          "output_type": "execute_result",
          "data": {
            "text/plain": [
              "[11, 12, 22, 25, 34, 64, 90]"
            ]
          },
          "metadata": {},
          "execution_count": 7
        }
      ]
    },
    {
      "cell_type": "markdown",
      "source": [
        "## Quick Sort"
      ],
      "metadata": {
        "id": "k5SDXhSamY31"
      }
    },
    {
      "cell_type": "code",
      "source": [
        "def quick_sort(arr):\n",
        "  if len(arr) <= 1:\n",
        "    return arr\n",
        "\n",
        "  pivot = arr[-1]\n",
        "  left = [x for x in arr[:-1] if x <= pivot]\n",
        "  right = [x for x in arr[:-1] if x > pivot]\n",
        "\n",
        "  return quick_sort(left) + [pivot] + quick_sort(right)\n",
        "\n",
        "arr = [64, 34, 25, 12, 22, 11, 90]\n",
        "quick_sort(arr)"
      ],
      "metadata": {
        "id": "M4K38mLpEYKj",
        "colab": {
          "base_uri": "https://localhost:8080/"
        },
        "outputId": "35a5ba1b-3812-449a-a37e-6fc4a5a3cbf6"
      },
      "execution_count": null,
      "outputs": [
        {
          "output_type": "execute_result",
          "data": {
            "text/plain": [
              "[11, 12, 22, 25, 34, 64, 90]"
            ]
          },
          "metadata": {},
          "execution_count": 4
        }
      ]
    },
    {
      "cell_type": "markdown",
      "source": [
        "## Counting Sort"
      ],
      "metadata": {
        "id": "UpEPoqc44Ecl"
      }
    },
    {
      "cell_type": "code",
      "source": [
        "def counting_sort(arr):\n",
        "  if not arr:\n",
        "    return []\n",
        "\n",
        "  max_value = max(arr)\n",
        "  count = [0] * (max_value+1)\n",
        "\n",
        "  # step1: count occurances\n",
        "  for num in arr:\n",
        "    count[num] = count[num] + 1\n",
        "\n",
        "  # step2: cummulative count\n",
        "  for i in range(1, len(count)):\n",
        "    count[i] += count[i-1]\n",
        "\n",
        "  # step3: build output array\n",
        "  output = [0] * len(arr)\n",
        "  for num in reversed(arr):\n",
        "    count[num] += -1\n",
        "    output[count[num]] = num\n",
        "\n",
        "  return output\n",
        "\n",
        "arr = [64, 34, 25, 12, 22, 11, 90]\n",
        "counting_sort(arr)"
      ],
      "metadata": {
        "colab": {
          "base_uri": "https://localhost:8080/"
        },
        "id": "Ll9NgaXpm27P",
        "outputId": "ef68a76a-f6ce-420c-b840-f0a5a88c9808"
      },
      "execution_count": null,
      "outputs": [
        {
          "output_type": "execute_result",
          "data": {
            "text/plain": [
              "[11, 12, 22, 25, 34, 64, 90]"
            ]
          },
          "metadata": {},
          "execution_count": 7
        }
      ]
    },
    {
      "cell_type": "markdown",
      "source": [
        "## Radix Sort"
      ],
      "metadata": {
        "id": "UVeqvCYWLBCg"
      }
    },
    {
      "cell_type": "code",
      "source": [
        "def counting_sort_for_radix(arr, exp):\n",
        "  n = len(arr)\n",
        "  output = [0] * n\n",
        "  count = [0] * 10 # for digits 0..9\n",
        "\n",
        "  # count occurences of digits\n",
        "  for num in arr:\n",
        "    index = (num // exp) % 10\n",
        "    count[index] += 1\n",
        "\n",
        "  # cummulative count\n",
        "  for i in range(1,10):\n",
        "    count[i] += count[i-1]\n",
        "\n",
        "  # build output\n",
        "  for i in range(n - 1, -1, -1):\n",
        "    index = (arr[i] // exp) % 10\n",
        "    count[index] -= 1\n",
        "    output[count[index]] = arr[i]\n",
        "\n",
        "  # copy output to original array\n",
        "  for i in range(n):\n",
        "    arr[i] = output[i]\n",
        "\n",
        "def radix_sort(arr):\n",
        "  if not arr:\n",
        "    return arr\n",
        "\n",
        "  max_num = max(arr)\n",
        "  exp = 1\n",
        "  while max_num // exp > 0:\n",
        "    counting_sort_for_radix(arr, exp)\n",
        "    exp *= 10\n",
        "  return arr\n",
        "\n",
        "arr = [64, 34, 25, 12, 22, 11, 90]\n",
        "radix_sort(arr)"
      ],
      "metadata": {
        "colab": {
          "base_uri": "https://localhost:8080/"
        },
        "id": "fpgy4I0T5iCq",
        "outputId": "4edde073-4d7d-4267-88b7-298962df847a"
      },
      "execution_count": null,
      "outputs": [
        {
          "output_type": "execute_result",
          "data": {
            "text/plain": [
              "[11, 12, 22, 25, 34, 64, 90]"
            ]
          },
          "metadata": {},
          "execution_count": 4
        }
      ]
    },
    {
      "cell_type": "markdown",
      "source": [
        "## Heap Sort"
      ],
      "metadata": {
        "id": "Y5ooNUJgVZjM"
      }
    },
    {
      "cell_type": "code",
      "source": [
        "def heapify(arr, n, i):\n",
        "  left = 2*i + 1\n",
        "  right = 2*i + 2\n",
        "  largest = i\n",
        "\n",
        "  # if left child exists and is greater than root\n",
        "  if left < n and arr[left] > arr[i]:\n",
        "    largest = left\n",
        "\n",
        "  # if right child exists and is greater than largest so far\n",
        "  if right < n and arr[right] > arr[largest]:\n",
        "    largest = right\n",
        "\n",
        "  # if largest not in root\n",
        "  if largest != i:\n",
        "    arr[i], arr[largest] = arr[largest], arr[i]\n",
        "    heapify(arr, n, largest)\n",
        "\n",
        "def heap_sort(arr):\n",
        "  n = len(arr)\n",
        "\n",
        "  # built max-heap\n",
        "  for i in range(n // 2 - 1, -1,-1):\n",
        "    heapify(arr, n, i)\n",
        "\n",
        "  # extract elementts from heap one by one\n",
        "  for i in range(n-1, 0, -1):\n",
        "    arr[0], arr[i] = arr[i], arr[0]\n",
        "    heapify(arr, i, 0)\n",
        "\n",
        "  return arr\n",
        "\n",
        "arr = [64, 34, 25, 12, 22, 11, 90]\n",
        "heap_sort(arr)"
      ],
      "metadata": {
        "colab": {
          "base_uri": "https://localhost:8080/"
        },
        "id": "arkn1dRtNK2q",
        "outputId": "c0eb6d76-aac7-4cf8-9ae3-3720ba0631c3"
      },
      "execution_count": null,
      "outputs": [
        {
          "output_type": "execute_result",
          "data": {
            "text/plain": [
              "[11, 12, 22, 25, 34, 64, 90]"
            ]
          },
          "metadata": {},
          "execution_count": 4
        }
      ]
    },
    {
      "cell_type": "code",
      "source": [],
      "metadata": {
        "id": "AXVbMiRBXL_L"
      },
      "execution_count": null,
      "outputs": []
    }
  ]
}