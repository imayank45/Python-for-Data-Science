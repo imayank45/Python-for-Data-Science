{
 "cells": [
  {
   "cell_type": "markdown",
   "id": "cf03bc1d",
   "metadata": {},
   "source": [
    "## 560. Subarray Sum Equals K\n",
    "\n",
    "Given an array of integers nums and an integer k, return the total number of subarrays whose sum equals to k.\n",
    "\n",
    "A subarray is a contiguous non-empty sequence of elements within an array.\n",
    "\n",
    " \n",
    "\n",
    "Example 1:\n",
    "\n",
    "Input: nums = [1,1,1], k = 2\n",
    "Output: 2\n",
    "Example 2:\n",
    "\n",
    "Input: nums = [1,2,3], k = 3\n",
    "Output: 2\n",
    " \n",
    "\n",
    "Constraints:\n",
    "\n",
    "1 <= nums.length <= 2 * 104\n",
    "-1000 <= nums[i] <= 1000\n",
    "-107 <= k <= 107"
   ]
  },
  {
   "cell_type": "code",
   "execution_count": 5,
   "id": "23f5c2a6",
   "metadata": {},
   "outputs": [
    {
     "name": "stdout",
     "output_type": "stream",
     "text": [
      "2\n"
     ]
    }
   ],
   "source": [
    "from collections import defaultdict\n",
    "\n",
    "def sub_array(arr, k):\n",
    "    seen = defaultdict(int)\n",
    "    seen[0] = 1\n",
    "    prefix_sum = 0\n",
    "    count = 0\n",
    "\n",
    "    for num in arr:\n",
    "        prefix_sum += num\n",
    "        if (prefix_sum - k) in seen:\n",
    "            count += seen[prefix_sum - k]\n",
    "        \n",
    "        seen[prefix_sum] += 1\n",
    "    return count\n",
    "    \n",
    "arr = [1, 2, 3]\n",
    "k = 3\n",
    "print(sub_array(arr, k))"
   ]
  },
  {
   "cell_type": "markdown",
   "id": "5069d8f9",
   "metadata": {},
   "source": [
    "## 724. Find Pivot Index\n",
    "|\n",
    "Given an array of integers nums, calculate the pivot index of this array.\n",
    "\n",
    "The pivot index is the index where the sum of all the numbers strictly to the left of the index is equal to the sum of all the numbers strictly to the index's right.\n",
    "\n",
    "If the index is on the left edge of the array, then the left sum is 0 because there are no elements to the left. This also applies to the right edge of the array.\n",
    "\n",
    "Return the leftmost pivot index. If no such index exists, return -1.\n",
    "\n",
    " \n",
    "\n",
    "Example 1:\n",
    "\n",
    "Input: nums = [1,7,3,6,5,6]\n",
    "Output: 3\n",
    "Explanation:\n",
    "The pivot index is 3.\n",
    "Left sum = nums[0] + nums[1] + nums[2] = 1 + 7 + 3 = 11\n",
    "Right sum = nums[4] + nums[5] = 5 + 6 = 11\n",
    "Example 2:\n",
    "\n",
    "Input: nums = [1,2,3]\n",
    "Output: -1\n",
    "Explanation:\n",
    "There is no index that satisfies the conditions in the problem statement.\n",
    "Example 3:\n",
    "\n",
    "Input: nums = [2,1,-1]\n",
    "Output: 0\n",
    "Explanation:\n",
    "The pivot index is 0.\n",
    "Left sum = 0 (no elements to the left of index 0)\n",
    "Right sum = nums[1] + nums[2] = 1 + -1 = 0"
   ]
  },
  {
   "cell_type": "code",
   "execution_count": null,
   "id": "bd7cc68d",
   "metadata": {},
   "outputs": [
    {
     "name": "stdout",
     "output_type": "stream",
     "text": [
      "3\n"
     ]
    }
   ],
   "source": [
    "def pivot_index(nums):\n",
    "    l = 0\n",
    "    total = sum(arr)\n",
    "    for i in range(len(nums)):\n",
    "        r = total - l - nums[i]\n",
    "        if l == r:\n",
    "            return i\n",
    "        l += nums[i]\n",
    "\n",
    "arr = [1,7,3,6,5,6]\n",
    "print(pivot_index(arr))"
   ]
  },
  {
   "cell_type": "code",
   "execution_count": null,
   "id": "6d1cc858",
   "metadata": {},
   "outputs": [],
   "source": []
  }
 ],
 "metadata": {
  "kernelspec": {
   "display_name": "base",
   "language": "python",
   "name": "python3"
  },
  "language_info": {
   "codemirror_mode": {
    "name": "ipython",
    "version": 3
   },
   "file_extension": ".py",
   "mimetype": "text/x-python",
   "name": "python",
   "nbconvert_exporter": "python",
   "pygments_lexer": "ipython3",
   "version": "3.12.7"
  }
 },
 "nbformat": 4,
 "nbformat_minor": 5
}
