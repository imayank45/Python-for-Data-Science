{
 "cells": [
  {
   "cell_type": "markdown",
   "id": "9cba3f21",
   "metadata": {},
   "source": [
    "## 643. Maximum Average Subarray I\n",
    "\n",
    "You are given an integer array nums consisting of n elements, and an integer k.\n",
    "\n",
    "Find a contiguous subarray whose length is equal to k that has the maximum average value and return this value. Any answer with a calculation error less than 10-5 will be accepted.\n",
    "\n",
    " \n",
    "\n",
    "Example 1:\n",
    "\n",
    "Input: nums = [1,12,-5,-6,50,3], k = 4\n",
    "Output: 12.75000\n",
    "Explanation: Maximum average is (12 - 5 - 6 + 50) / 4 = 51 / 4 = 12.75\n",
    "\n",
    "\n",
    "Example 2:\n",
    "\n",
    "Input: nums = [5], k = 1\n",
    "Output: 5.00000"
   ]
  },
  {
   "cell_type": "code",
   "execution_count": 2,
   "id": "25cb8431",
   "metadata": {},
   "outputs": [
    {
     "name": "stdout",
     "output_type": "stream",
     "text": [
      "12.75\n"
     ]
    }
   ],
   "source": [
    "def max_avg_subarray(arr, k):\n",
    "    window_sum = sum(arr[:k])\n",
    "    max_sum = window_sum\n",
    "    \n",
    "    for i in range(k, len(arr)):\n",
    "        window_sum += arr[i] - arr[i-k]\n",
    "        max_sum = max(window_sum, max_sum)\n",
    "        \n",
    "    return max_sum / 4\n",
    "\n",
    "arr = [1, 12, -5, -6, 50, 3]\n",
    "k = 4\n",
    "print(max_avg_subarray(arr, k))"
   ]
  },
  {
   "cell_type": "markdown",
   "id": "30b8708c",
   "metadata": {},
   "source": [
    "## 219. Contains Duplicate II\n",
    "\n",
    "Given an integer array nums and an integer k, return true if there are two distinct indices i and j in the array such that nums[i] == nums[j] and abs(i - j) <= k.\n",
    "\n",
    " \n",
    "\n",
    "Example 1:\n",
    "\n",
    "Input: nums = [1,2,3,1], k = 3\n",
    "Output: true\n",
    "Example 2:\n",
    "\n",
    "Input: nums = [1,0,1,1], k = 1\n",
    "Output: true\n",
    "\n",
    "Example 3:\n",
    "\n",
    "Input: nums = [1,2,3,1,2,3], k = 2\n",
    "Output: false\n",
    " "
   ]
  },
  {
   "cell_type": "code",
   "execution_count": 6,
   "id": "50c98b3a",
   "metadata": {},
   "outputs": [
    {
     "name": "stdout",
     "output_type": "stream",
     "text": [
      "True\n"
     ]
    }
   ],
   "source": [
    "def contains_duplicate(arr, k):\n",
    "    seen = {}\n",
    "    \n",
    "    for i, num in enumerate(arr):\n",
    "        if num in seen and i - seen[num] <= k:\n",
    "            return True\n",
    "        seen[num] = i\n",
    "    return False\n",
    "\n",
    "arr = [1, 2, 3, 1]\n",
    "k = 3\n",
    "print(contains_duplicate(arr, k))"
   ]
  },
  {
   "cell_type": "code",
   "execution_count": null,
   "id": "152d15de",
   "metadata": {},
   "outputs": [],
   "source": []
  }
 ],
 "metadata": {
  "kernelspec": {
   "display_name": "base",
   "language": "python",
   "name": "python3"
  },
  "language_info": {
   "codemirror_mode": {
    "name": "ipython",
    "version": 3
   },
   "file_extension": ".py",
   "mimetype": "text/x-python",
   "name": "python",
   "nbconvert_exporter": "python",
   "pygments_lexer": "ipython3",
   "version": "3.12.7"
  }
 },
 "nbformat": 4,
 "nbformat_minor": 5
}
