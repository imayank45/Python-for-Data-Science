{
 "cells": [
  {
   "cell_type": "markdown",
   "id": "182ba03d",
   "metadata": {},
   "source": [
    "## 167. Two Sum II - Input Array Is Sorted\n",
    "\n",
    "Given a 1-indexed array of integers numbers that is already sorted in non-decreasing order, find two numbers such that they add up to a specific target number. Let these two numbers be numbers[index1] and numbers[index2] where 1 <= index1 < index2 <= numbers.length.\n",
    "\n",
    "Return the indices of the two numbers, index1 and index2, added by one as an integer array [index1, index2] of length 2.\n",
    "\n",
    "The tests are generated such that there is exactly one solution. You may not use the same element twice.\n",
    "\n",
    "Your solution must use only constant extra space.\n",
    "\n",
    " \n",
    "\n",
    "Example 1:\n",
    "\n",
    "Input: numbers = [2,7,11,15], target = 9\n",
    "Output: [1,2]\n",
    "Explanation: The sum of 2 and 7 is 9. Therefore, index1 = 1, index2 = 2. We return [1, 2].\n",
    "Example 2:\n",
    "\n",
    "Input: numbers = [2,3,4], target = 6\n",
    "Output: [1,3]\n",
    "Explanation: The sum of 2 and 4 is 6. Therefore index1 = 1, index2 = 3. We return [1, 3].\n",
    "Example 3:\n",
    "\n",
    "Input: numbers = [-1,0], target = -1\n",
    "Output: [1,2]\n",
    "Explanation: The sum of -1 and 0 is -1. Therefore index1 = 1, index2 = 2. We return [1, 2]."
   ]
  },
  {
   "cell_type": "code",
   "execution_count": 3,
   "id": "0c617472",
   "metadata": {},
   "outputs": [
    {
     "name": "stdout",
     "output_type": "stream",
     "text": [
      "[1, 2]\n"
     ]
    }
   ],
   "source": [
    "def two_sum(arr, target):\n",
    "    left = 0\n",
    "    right = len(arr) - 1\n",
    "    \n",
    "    while left <= right:\n",
    "        if arr[left] + arr[right] == target:\n",
    "            return [left+1, right+1]\n",
    "        elif arr[left] + arr[right] < target:\n",
    "            left += 1\n",
    "        else:\n",
    "            right -= 1\n",
    "\n",
    "arr = [2, 7, 11, 15]\n",
    "target = 9\n",
    "print(two_sum(arr, target))"
   ]
  },
  {
   "cell_type": "markdown",
   "id": "e609d396",
   "metadata": {},
   "source": [
    "## 125. Valid Palindrome\n",
    "\n",
    "A phrase is a palindrome if, after converting all uppercase letters into lowercase letters and removing all non-alphanumeric characters, it reads the same forward and backward. Alphanumeric characters include letters and numbers.\n",
    "\n",
    "Given a string s, return true if it is a palindrome, or false otherwise.\n",
    "\n",
    " \n",
    "\n",
    "Example 1:\n",
    "\n",
    "Input: s = \"A man, a plan, a canal: Panama\"\n",
    "Output: true\n",
    "Explanation: \"amanaplanacanalpanama\" is a palindrome.\n",
    "Example 2:\n",
    "\n",
    "Input: s = \"race a car\"\n",
    "Output: false\n",
    "Explanation: \"raceacar\" is not a palindrome.\n",
    "Example 3:\n",
    "\n",
    "Input: s = \" \"\n",
    "Output: true\n",
    "Explanation: s is an empty string \"\" after removing non-alphanumeric characters.\n",
    "Since an empty string reads the same forward and backward, it is a palindrome."
   ]
  },
  {
   "cell_type": "code",
   "execution_count": 5,
   "id": "6ec97b14",
   "metadata": {},
   "outputs": [
    {
     "name": "stdout",
     "output_type": "stream",
     "text": [
      "True\n"
     ]
    }
   ],
   "source": [
    "def valid_palindrome(s):\n",
    "    left = 0\n",
    "    right = len(s) - 1\n",
    "    \n",
    "    if left < right:\n",
    "        \n",
    "        while left < right and s[left].isalnum():\n",
    "            left += 1\n",
    "        \n",
    "        while left < right and s[right].isalnum():\n",
    "            right -= 1\n",
    "            \n",
    "        if s[left].lower() != s[right].lower():\n",
    "            return False\n",
    "        \n",
    "    return True\n",
    "    \n",
    "\n",
    "s = \"A man, a plan, a canal: Panama\"\n",
    "print(valid_palindrome(s))"
   ]
  },
  {
   "cell_type": "markdown",
   "id": "fba90cdc",
   "metadata": {},
   "source": [
    "## 523. Continuous Subarray Sum\n",
    "\n",
    "Given an integer array nums and an integer k, return true if nums has a good subarray or false otherwise.\n",
    "\n",
    "A good subarray is a subarray where:\n",
    "\n",
    "its length is at least two, and\n",
    "the sum of the elements of the subarray is a multiple of k.\n",
    "Note that:\n",
    "\n",
    "A subarray is a contiguous part of the array.\n",
    "An integer x is a multiple of k if there exists an integer n such that x = n * k. 0 is always a multiple of k.\n",
    " \n",
    "\n",
    "Example 1:\n",
    "\n",
    "Input: nums = [23,2,4,6,7], k = 6\n",
    "Output: true\n",
    "Explanation: [2, 4] is a continuous subarray of size 2 whose elements sum up to 6.\n",
    "\n",
    "Example 2:\n",
    "\n",
    "Input: nums = [23,2,6,4,7], k = 6\n",
    "Output: true\n",
    "Explanation: [23, 2, 6, 4, 7] is an continuous subarray of size 5 whose elements sum up to 42.\n",
    "42 is a multiple of 6 because 42 = 7 * 6 and 7 is an integer.\n",
    "\n",
    "Example 3:\n",
    "\n",
    "Input: nums = [23,2,6,4,7], k = 13\n",
    "Output: false"
   ]
  },
  {
   "cell_type": "code",
   "execution_count": 1,
   "id": "44134f2c",
   "metadata": {},
   "outputs": [
    {
     "name": "stdout",
     "output_type": "stream",
     "text": [
      "True\n"
     ]
    }
   ],
   "source": [
    "def continuous_subarray(arr, k):\n",
    "    seen = {0:-1}\n",
    "    prefix_sum = 0\n",
    "    \n",
    "    for i, num in enumerate(arr):\n",
    "        prefix_sum += num\n",
    "        remainder = prefix_sum % k if k != 0 else prefix_sum\n",
    "        if remainder in seen and i - seen[remainder] > 0:\n",
    "            return True\n",
    "        seen[remainder] = i \n",
    "\n",
    "arr = [23, 2, 4, 6, 7]\n",
    "k = 6\n",
    "print(continuous_subarray(arr, k))"
   ]
  },
  {
   "cell_type": "markdown",
   "id": "a417146a",
   "metadata": {},
   "source": [
    "## 974. Subarray Sums Divisible by K\n",
    "\n",
    "Given an integer array nums and an integer k, return the number of non-empty subarrays that have a sum divisible by k.\n",
    "\n",
    "A subarray is a contiguous part of an array.\n",
    "\n",
    " \n",
    "Example 1:\n",
    "\n",
    "Input: nums = [4,5,0,-2,-3,1], k = 5\n",
    "Output: 7\n",
    "Explanation: There are 7 subarrays with a sum divisible by k = 5:\n",
    "[4, 5, 0, -2, -3, 1], [5], [5, 0], [5, 0, -2, -3], [0], [0, -2, -3], [-2, -3]\n",
    "\n",
    "Example 2:\n",
    "\n",
    "Input: nums = [5], k = 9\n",
    "Output: 0"
   ]
  },
  {
   "cell_type": "code",
   "execution_count": 7,
   "id": "35a7181d",
   "metadata": {},
   "outputs": [
    {
     "name": "stdout",
     "output_type": "stream",
     "text": [
      "7\n"
     ]
    }
   ],
   "source": [
    "from collections import defaultdict\n",
    "def subarray_divisible_by_k(arr, k):\n",
    "    count = defaultdict(int)\n",
    "    count[0] = 1\n",
    "    result, prefix_sum = 0, 0\n",
    "    \n",
    "    for num in arr:\n",
    "        prefix_sum += num\n",
    "        remainder = prefix_sum % k\n",
    "        if remainder in count:\n",
    "            result = result + count[remainder]   \n",
    "        count[remainder] += 1\n",
    "    return result\n",
    "\n",
    "arr = [4, 5, 0, -2, -3, 1]\n",
    "k = 5\n",
    "print(subarray_divisible_by_k(arr, k))"
   ]
  },
  {
   "cell_type": "code",
   "execution_count": null,
   "id": "ffcc4206",
   "metadata": {},
   "outputs": [],
   "source": [
    " "
   ]
  }
 ],
 "metadata": {
  "kernelspec": {
   "display_name": "base",
   "language": "python",
   "name": "python3"
  },
  "language_info": {
   "codemirror_mode": {
    "name": "ipython",
    "version": 3
   },
   "file_extension": ".py",
   "mimetype": "text/x-python",
   "name": "python",
   "nbconvert_exporter": "python",
   "pygments_lexer": "ipython3",
   "version": "3.12.7"
  }
 },
 "nbformat": 4,
 "nbformat_minor": 5
}
