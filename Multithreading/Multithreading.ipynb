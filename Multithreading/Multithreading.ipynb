{
  "nbformat": 4,
  "nbformat_minor": 0,
  "metadata": {
    "colab": {
      "provenance": []
    },
    "kernelspec": {
      "name": "python3",
      "display_name": "Python 3"
    },
    "language_info": {
      "name": "python"
    }
  },
  "cells": [
    {
      "cell_type": "markdown",
      "source": [
        "## Multithreading"
      ],
      "metadata": {
        "id": "7kwMyXtksbZb"
      }
    },
    {
      "cell_type": "code",
      "execution_count": 3,
      "metadata": {
        "colab": {
          "base_uri": "https://localhost:8080/"
        },
        "id": "sM6OV81KrPAr",
        "outputId": "59b2776d-5d5b-4654-e35d-12a8e1eabe81"
      },
      "outputs": [
        {
          "output_type": "stream",
          "name": "stdout",
          "text": [
            "Number: 1\n",
            "Letter: m\n",
            "Number: 2\n",
            "Letter: a\n",
            "Number: 3\n",
            "Letter: y\n",
            "Number: 4\n",
            "Letter: a\n",
            "Number: 5\n",
            "Letter: n\n",
            "Letter: k\n",
            "Both threads have completed.\n"
          ]
        }
      ],
      "source": [
        "import threading\n",
        "import time\n",
        "\n",
        "def print_numbers():\n",
        "  for i in range(1, 6):\n",
        "    time.sleep(0.2)\n",
        "    print(f\"Number: {i}\")\n",
        "\n",
        "def print_letters():\n",
        "  for letter in \"mayank\":\n",
        "    time.sleep(0.2)\n",
        "    print(f\"Letter: {letter}\")\n",
        "\n",
        "# Create two threads\n",
        "thread1 = threading.Thread(target=print_numbers)\n",
        "thread2 = threading.Thread(target=print_letters)\n",
        "\n",
        "# Start the threads\n",
        "thread1.start()\n",
        "thread2.start()\n",
        "\n",
        "# Wait for completion\n",
        "thread1.join()\n",
        "thread2.join()\n",
        "\n",
        "print(\"Both threads have completed.\")"
      ]
    },
    {
      "cell_type": "code",
      "source": [],
      "metadata": {
        "id": "niDgsJDBrnn-"
      },
      "execution_count": null,
      "outputs": []
    }
  ]
}