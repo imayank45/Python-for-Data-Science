{
 "cells": [
  {
   "cell_type": "markdown",
   "id": "0d4d12cb",
   "metadata": {},
   "source": [
    "## 1. Question: Write a function that takes a list of numbers and returns the sum."
   ]
  },
  {
   "cell_type": "code",
   "execution_count": 1,
   "id": "2818346b",
   "metadata": {},
   "outputs": [
    {
     "data": {
      "text/plain": [
       "150"
      ]
     },
     "execution_count": 1,
     "metadata": {},
     "output_type": "execute_result"
    }
   ],
   "source": [
    "def sum_numbers(numbers):\n",
    "    \n",
    "    result = sum(numbers)\n",
    "    return result\n",
    "\n",
    "numbers = [10,20,30,40,50]\n",
    "sum_numbers(numbers)"
   ]
  },
  {
   "cell_type": "code",
   "execution_count": 2,
   "id": "c721a9a9",
   "metadata": {},
   "outputs": [
    {
     "data": {
      "text/plain": [
       "150"
      ]
     },
     "execution_count": 2,
     "metadata": {},
     "output_type": "execute_result"
    }
   ],
   "source": [
    "def sum_list(numbers):\n",
    "    sum = 0\n",
    "    for i in range(len(numbers)):\n",
    "        sum += numbers[i]\n",
    "    return sum\n",
    "\n",
    "numbers = [10,20,30,40,50]\n",
    "sum_list(numbers)"
   ]
  },
  {
   "cell_type": "markdown",
   "id": "50a19de8",
   "metadata": {},
   "source": [
    "## 2. Question: How do you reverse a string in Python?\n",
    "\n"
   ]
  },
  {
   "cell_type": "code",
   "execution_count": 2,
   "id": "0982d92a",
   "metadata": {},
   "outputs": [
    {
     "name": "stdout",
     "output_type": "stream",
     "text": [
      "enahtaK knayaM\n"
     ]
    }
   ],
   "source": [
    "name = \"Mayank Kathane\"\n",
    "print(name[::-1])"
   ]
  },
  {
   "cell_type": "markdown",
   "id": "84c548df",
   "metadata": {},
   "source": [
    "## 3. Question: What is the difference between a tuple and a list?"
   ]
  },
  {
   "cell_type": "markdown",
   "id": "f6ac72e0",
   "metadata": {},
   "source": [
    "### Ans:\n",
    "\n",
    "List are ordered sequences of elements which can hold items of any data type.\n",
    " - lists are mutable\n",
    " - list can contain duplicate items\n",
    " - accessing list can be done directly using thier position (index), starting from 0\n",
    "\n",
    "Tuples are ordered sequences of elements which can hold any data type.\n",
    " - immutable\n",
    " - ordered\n",
    " - heterogenous\n",
    " - fixed sized\n",
    " - iterable"
   ]
  },
  {
   "cell_type": "markdown",
   "id": "152d1f7f",
   "metadata": {},
   "source": [
    "## 4. Question: Write a function that checks if a given word is a palindrome.\n",
    "\n"
   ]
  },
  {
   "cell_type": "code",
   "execution_count": 2,
   "id": "2734603c",
   "metadata": {},
   "outputs": [
    {
     "data": {
      "text/plain": [
       "True"
      ]
     },
     "execution_count": 2,
     "metadata": {},
     "output_type": "execute_result"
    }
   ],
   "source": [
    "def check_palindrome(word):\n",
    "    return word == word[::-1]\n",
    "\n",
    "word = \"pop\"\n",
    "check_palindrome(word)"
   ]
  },
  {
   "cell_type": "markdown",
   "id": "f4dc3fa0",
   "metadata": {},
   "source": [
    "## 5. Question: How can you remove duplicates from a list?\n",
    "\n"
   ]
  },
  {
   "cell_type": "code",
   "execution_count": 3,
   "id": "601fa7a9",
   "metadata": {},
   "outputs": [
    {
     "data": {
      "text/plain": [
       "[1, 2, 3, 4, 5]"
      ]
     },
     "execution_count": 3,
     "metadata": {},
     "output_type": "execute_result"
    }
   ],
   "source": [
    "def remove_duplicates(word):\n",
    "    return list(set(lst))\n",
    "\n",
    "lst = [1,2,2,3,3,4,5]\n",
    "remove_duplicates(lst)"
   ]
  },
  {
   "cell_type": "markdown",
   "id": "15923cfc",
   "metadata": {},
   "source": [
    "## 6. Question: How do you handle exceptions in Python?"
   ]
  },
  {
   "cell_type": "markdown",
   "id": "ad464977",
   "metadata": {},
   "source": [
    "### Ans:\n",
    "\n",
    "Using try and catch blocks."
   ]
  },
  {
   "cell_type": "code",
   "execution_count": 1,
   "id": "658e37d0",
   "metadata": {},
   "outputs": [
    {
     "name": "stdout",
     "output_type": "stream",
     "text": [
      "Cannot divide by zero\n"
     ]
    }
   ],
   "source": [
    "try:\n",
    "    x = 1 / 0\n",
    "\n",
    "except ZeroDivisionError:\n",
    "    print(\"Cannot divide by zero\")"
   ]
  },
  {
   "cell_type": "markdown",
   "id": "87481cf5",
   "metadata": {},
   "source": [
    "## 7. Question: What is a lambda function? Provide an example."
   ]
  },
  {
   "cell_type": "markdown",
   "id": "c3b21115",
   "metadata": {},
   "source": [
    "### Ans:\n",
    "\n",
    "Lambda is a small anonymous function which can take any number of arguments but can only have one expression"
   ]
  },
  {
   "cell_type": "code",
   "execution_count": 2,
   "id": "cef79646",
   "metadata": {},
   "outputs": [
    {
     "name": "stdout",
     "output_type": "stream",
     "text": [
      "110\n"
     ]
    }
   ],
   "source": [
    "multiply = lambda x,y,z: x*y+z\n",
    "print(multiply(10,10,10))"
   ]
  },
  {
   "cell_type": "markdown",
   "id": "b7a5d25f",
   "metadata": {},
   "source": [
    "## 8. Question: Write a function that returns the n-th Fibonacci number using recursion.\n",
    "\n"
   ]
  },
  {
   "cell_type": "code",
   "execution_count": 7,
   "id": "36c03fc3",
   "metadata": {},
   "outputs": [
    {
     "name": "stdout",
     "output_type": "stream",
     "text": [
      "55\n",
      "[0, 1, 1, 2, 3, 5, 8, 13, 21, 34, 55]\n"
     ]
    }
   ],
   "source": [
    "def fibonacci_series(n):\n",
    "    series = []\n",
    "    for i in range(n+1):\n",
    "        series.append(fibonacci(i))\n",
    "    return series\n",
    "\n",
    "def fibonacci(n):\n",
    "    \n",
    "    if n<=1:\n",
    "        return n\n",
    "    else:\n",
    "        return fibonacci(n-1) + fibonacci(n-2)\n",
    "    \n",
    "print(fibonacci(10))\n",
    "print(fibonacci_series(10))"
   ]
  },
  {
   "cell_type": "markdown",
   "id": "b8ffc6a8",
   "metadata": {},
   "source": [
    "## 9. Question: What are decorators in Python and how are they used?"
   ]
  },
  {
   "cell_type": "markdown",
   "id": "55f48730",
   "metadata": {},
   "source": [
    "### Ans:\n",
    "\n",
    "Decorator in python is a powerful and flexible way to modify or extend the behavior of function or method, without changing actual code.\n",
    "\n",
    "A decorator is essentially a function that takes another function as an argument and return a new function with enhanced functionality."
   ]
  },
  {
   "cell_type": "code",
   "execution_count": 12,
   "id": "4b023b82",
   "metadata": {},
   "outputs": [
    {
     "name": "stdout",
     "output_type": "stream",
     "text": [
      "Before calling function\n",
      "Hello all\n",
      "After calling function\n"
     ]
    }
   ],
   "source": [
    "# decorator function\n",
    "def decorator(func):\n",
    "    \n",
    "    def wrapper():\n",
    "        print(\"Before calling function\")\n",
    "        func()\n",
    "        print(\"After calling function\")\\\n",
    "            \n",
    "    return wrapper()\n",
    "\n",
    "@decorator\n",
    "def greet():\n",
    "    print(\"Hello all\")\n",
    "    \n",
    "    "
   ]
  },
  {
   "cell_type": "markdown",
   "id": "749bc244",
   "metadata": {},
   "source": [
    "## 10. Question: How do you deep copy an object in Python?"
   ]
  },
  {
   "cell_type": "markdown",
   "id": "225f5dc8",
   "metadata": {},
   "source": [
    "### Ans:\n",
    "\n",
    "You can use copy module's deepcopy method."
   ]
  },
  {
   "cell_type": "code",
   "execution_count": 2,
   "id": "c36bdd1d",
   "metadata": {},
   "outputs": [
    {
     "data": {
      "text/plain": [
       "[[1, 2, 3], [4, 5, 6]]"
      ]
     },
     "execution_count": 2,
     "metadata": {},
     "output_type": "execute_result"
    }
   ],
   "source": [
    "import copy\n",
    "\n",
    "original = [[1,2,3], [4,5,6]]\n",
    "copied = copy.deepcopy(original)\n",
    "copied"
   ]
  },
  {
   "cell_type": "markdown",
   "id": "3e3a7002",
   "metadata": {},
   "source": [
    "## 11. Question: What is list comprehension and provide an example?"
   ]
  },
  {
   "cell_type": "markdown",
   "id": "6a85d502",
   "metadata": {},
   "source": [
    "### Ans:\n",
    "\n",
    "List comprehension is a way to create list using concise syntax. It allows us to generate new list by applying expression to each item in an existing iterable."
   ]
  },
  {
   "cell_type": "code",
   "execution_count": 7,
   "id": "860aa436",
   "metadata": {},
   "outputs": [
    {
     "data": {
      "text/plain": [
       "[2, 4, 6]"
      ]
     },
     "execution_count": 7,
     "metadata": {},
     "output_type": "execute_result"
    }
   ],
   "source": [
    "lst = [1,2,3,4,5,6]\n",
    "\n",
    "new_lst = [exp for exp in lst if exp%2 == 0]\n",
    "new_lst"
   ]
  },
  {
   "cell_type": "markdown",
   "id": "33f1d12c",
   "metadata": {},
   "source": [
    "## 12. Question: What is the difference between == and is?"
   ]
  },
  {
   "cell_type": "markdown",
   "id": "907a92b5",
   "metadata": {},
   "source": [
    "### Ans:\n",
    "\n",
    "== checks for equality and is checks for identity (whether two references points to the same object in memory)."
   ]
  },
  {
   "cell_type": "markdown",
   "id": "07c88372",
   "metadata": {},
   "source": [
    "## 13. Question: Explain the concept of *args and **kwargs in Python.\n"
   ]
  },
  {
   "cell_type": "markdown",
   "id": "ce9fa7fe",
   "metadata": {},
   "source": [
    "### Ans:\n",
    "\n",
    "*args:\n",
    "\n",
    "The special syntax *args in function definition is used to pass variable number of arguments to a function. It is used to pass non-keyworded variable length argument list.\n"
   ]
  },
  {
   "cell_type": "code",
   "execution_count": 8,
   "id": "47b8b912",
   "metadata": {},
   "outputs": [
    {
     "name": "stdout",
     "output_type": "stream",
     "text": [
      "1\n",
      "2\n",
      "3\n",
      "4\n",
      "5\n"
     ]
    }
   ],
   "source": [
    "def func(*args):\n",
    "    \n",
    "    for arg in args:\n",
    "        print(arg)\n",
    "\n",
    "func(1,2,3,4,5)"
   ]
  },
  {
   "cell_type": "markdown",
   "id": "5d1083ce",
   "metadata": {},
   "source": [
    "**kwargs:\n",
    "\n",
    "The special syntax **kwargs in function definition is used to pass a variable length argument list. We use the same kwargs with double **.\n",
    "\n",
    "A keyword argument is where you provide name to the variable as you pass into the function.\n",
    "\n",
    "It collects all the additional keyword arguments passed to the function nad stores them in a dictionary."
   ]
  },
  {
   "cell_type": "code",
   "execution_count": 9,
   "id": "e59a174c",
   "metadata": {},
   "outputs": [
    {
     "name": "stdout",
     "output_type": "stream",
     "text": [
      "name:Mayank\n",
      "age:23\n"
     ]
    }
   ],
   "source": [
    "def func(**kwargs):\n",
    "    \n",
    "    for k, val in kwargs.items():\n",
    "        print(f\"{k}:{val}\")\n",
    "        \n",
    "func(name = 'Mayank', age = 23)"
   ]
  },
  {
   "cell_type": "markdown",
   "id": "02f9d5ab",
   "metadata": {},
   "source": [
    "## 14. Question: What is a generator and how is it different from a list?"
   ]
  },
  {
   "cell_type": "markdown",
   "id": "315c58cf",
   "metadata": {},
   "source": [
    "### Ans:\n",
    "\n",
    "A generator is an iterable that yeilds item one at a time using yield statement, where a list holds all its items in memory.\n",
    "Generators are more memory efficient for large datasets."
   ]
  },
  {
   "cell_type": "code",
   "execution_count": 11,
   "id": "7fc002e1",
   "metadata": {},
   "outputs": [
    {
     "name": "stdout",
     "output_type": "stream",
     "text": [
      "1\n",
      "2\n",
      "3\n",
      "1\n",
      "2\n",
      "3\n"
     ]
    }
   ],
   "source": [
    "def count_up_to(n):\n",
    "    for i in range(1, n + 1):\n",
    "        yield i  # Yield one value at a time\n",
    "\n",
    "# Create a generator object\n",
    "gen = count_up_to(3)\n",
    "print(next(gen))  # Output: 1\n",
    "print(next(gen))  # Output: 2\n",
    "print(next(gen))  # Output: 3\n",
    "# print(next(gen))  # Raises: StopIteration\n",
    "\n",
    "# Iterate over generator\n",
    "for num in count_up_to(3):\n",
    "    print(num)  # Output: 1, 2, 3"
   ]
  },
  {
   "cell_type": "markdown",
   "id": "e339a3ed",
   "metadata": {},
   "source": [
    "## 15. Question: How can you achieve multi-threading in Python?"
   ]
  },
  {
   "cell_type": "markdown",
   "id": "f0e2b19e",
   "metadata": {},
   "source": [
    "### Ans:\n",
    "Python has threading module which can be used to achieve multi-threading.\n",
    "\n",
    "Multithreading involves running multiple threads within a single process, sharing the same memory space but executing different tasks concurrently. "
   ]
  },
  {
   "cell_type": "code",
   "execution_count": 1,
   "id": "3de6d952",
   "metadata": {},
   "outputs": [
    {
     "name": "stdout",
     "output_type": "stream",
     "text": [
      "1\n",
      "a\n",
      "b\n",
      "2\n",
      "3c\n",
      "\n",
      "d\n",
      "4\n",
      "5e\n",
      "\n"
     ]
    }
   ],
   "source": [
    "import threading\n",
    "import time\n",
    "\n",
    "def print_numbers():\n",
    "    for i in range(1,6):\n",
    "        time.sleep(0.2)\n",
    "        print(i)\n",
    "    \n",
    "def print_letters():    \n",
    "    for i in 'abcde':\n",
    "        time.sleep(0.2)\n",
    "        print(i)\n",
    "        \n",
    "t1 = threading.Thread(target=print_numbers)\n",
    "t2 = threading.Thread(target=print_letters)\n",
    "\n",
    "t1.start()\n",
    "t2.start()\n",
    "\n",
    "t1.join() \n",
    "t2.join()"
   ]
  },
  {
   "cell_type": "markdown",
   "id": "85c2345d",
   "metadata": {},
   "source": [
    "## 16. Question: What are metaclasses in Python?"
   ]
  },
  {
   "cell_type": "markdown",
   "id": "ff8b1b49",
   "metadata": {},
   "source": [
    "### Ans:\n",
    "A metaclass is a class whose instances are classes. It defines how classes are created and behave, just a class defines how its instances behave.\n",
    "\n",
    "### How Metaclasses Work\n",
    "A class is created by its metaclass, which is called when the class definition is executed.\n",
    "The metaclass can override:\n",
    "\n",
    "__new__(mcs, name, bases, namespace): Creates the class object.\n",
    "\n",
    "__init__(cls, name, bases, namespace): Initializes the class after creation.\n",
    "\n",
    "Other methods like __call__ to control instance creation."
   ]
  },
  {
   "cell_type": "code",
   "execution_count": 2,
   "id": "35044767",
   "metadata": {},
   "outputs": [
    {
     "name": "stdout",
     "output_type": "stream",
     "text": [
      "MYCLASS\n",
      "Hello!\n"
     ]
    }
   ],
   "source": [
    "# Custom metaclass\n",
    "class MyMeta(type):\n",
    "    def __new__(mcs, name, bases, namespace):\n",
    "        # Add a class attribute during creation\n",
    "        namespace['class_id'] = name.upper()\n",
    "        return super().__new__(mcs, name, bases, namespace)\n",
    "\n",
    "# Class using the metaclass\n",
    "class MyClass(metaclass=MyMeta):\n",
    "    def greet(self):\n",
    "        return \"Hello!\"\n",
    "\n",
    "# Test\n",
    "obj = MyClass()\n",
    "print(MyClass.class_id)  # Output: MYCLASS\n",
    "print(obj.greet())       # Output: Hello!"
   ]
  },
  {
   "cell_type": "markdown",
   "id": "c90e803c",
   "metadata": {},
   "source": [
    "## 17. Question: Describe the Global Interpreter Lock (GIL) and its implications."
   ]
  },
  {
   "cell_type": "markdown",
   "id": "00bae7e7",
   "metadata": {},
   "source": [
    "### Ans:\n",
    "GIL is a mutex (or a lock) that allows only one thread to execute Python bytecode at a time in CPython (standard python implemention). This means that even on multi-core systems, only one thread is executed at a time.\n",
    "\n",
    "This can be a bottleneck for CPU-bound programs, but it is not an issue for I/O bound programs."
   ]
  },
  {
   "cell_type": "code",
   "execution_count": 3,
   "id": "ea5726f2",
   "metadata": {},
   "outputs": [],
   "source": [
    "import threading\n",
    "def cpu_bound():\n",
    "    sum(range(1000000))  # GIL limits to one core\n",
    "t1 = threading.Thread(target=cpu_bound)\n",
    "t2 = threading.Thread(target=cpu_bound)\n",
    "t1.start(); t2.start(); t1.join(); t2.join()  # No speedup"
   ]
  },
  {
   "cell_type": "markdown",
   "id": "c91b18a4",
   "metadata": {},
   "source": [
    "## 18. Question: What is the difference between staticmethod, classmethod, and regular instance methods?"
   ]
  },
  {
   "cell_type": "markdown",
   "id": "0300acc9",
   "metadata": {},
   "source": [
    "### Ans:\n",
    "\n",
    "1. @staticmethod:\n",
    "The @staticmethod decorator is used to define a method that doesn't operate on instance of a class (self or cls).\n",
    "\n",
    "2. @classmethod:\n",
    "The @classmethod decorator is used to define a method that operates on the class itself (i.e., cls).\n",
    "\n",
    "3. instance method:\n",
    "It takes the instance (object) as its first parameter (usually self) and operates on it."
   ]
  },
  {
   "cell_type": "markdown",
   "id": "ca6297eb",
   "metadata": {},
   "source": [
    "## 19. Question: How do you sort a dictionary by its values?\n",
    "\n"
   ]
  },
  {
   "cell_type": "code",
   "execution_count": 4,
   "id": "5586e759",
   "metadata": {},
   "outputs": [
    {
     "name": "stdout",
     "output_type": "stream",
     "text": [
      "Sorted Dictionary:  {'banana': 7, 'carrot': 9, 'apple': 10}\n"
     ]
    }
   ],
   "source": [
    "dictionary = {'apple': 10, 'banana':7, 'carrot':9}\n",
    "\n",
    "sorted_dictionary = dict(sorted(dictionary.items(), key=lambda x: x[1]))\n",
    "\n",
    "print('Sorted Dictionary: ', sorted_dictionary)"
   ]
  },
  {
   "cell_type": "markdown",
   "id": "24e49afb",
   "metadata": {},
   "source": [
    "## 20. Question: How is string interpolation done in Python?\n",
    "\n"
   ]
  },
  {
   "cell_type": "markdown",
   "id": "77ba6660",
   "metadata": {},
   "source": [
    "### Ans:\n",
    "There are several ways:\n",
    "\n",
    " - Using % formatting\n",
    " - Using .format() method\n",
    " - Using f-strings"
   ]
  },
  {
   "cell_type": "code",
   "execution_count": 6,
   "id": "2a59a608",
   "metadata": {},
   "outputs": [
    {
     "name": "stdout",
     "output_type": "stream",
     "text": [
      "Hello, Mayank!\n",
      "Hello, Mayank!\n",
      "Hello, Mayank!\n"
     ]
    }
   ],
   "source": [
    "name = 'Mayank'\n",
    "# Using % formatting\n",
    "print(\"Hello, %s!\" % name)\n",
    "\n",
    "# Using .format()\n",
    "print(\"Hello, {}!\".format(name))\n",
    "\n",
    "# Using f-strings\n",
    "print(f\"Hello, {name}!\")\n"
   ]
  },
  {
   "cell_type": "markdown",
   "id": "cc903606",
   "metadata": {},
   "source": [
    "## 21. Question: What is singleton pattern? How can you implement a singleton pattern in Python?"
   ]
  },
  {
   "cell_type": "markdown",
   "id": "91c3cc49",
   "metadata": {},
   "source": [
    "### Ans:\n",
    "The singleton pattern is a design pattern that ensures a class has only one instance and provides a global point to access it.\n",
    "\n",
    "Implementation of singleton pattern:\n",
    "\n",
    " - Using a Class with a Static Instance\n",
    " - Using a Decorator"
   ]
  },
  {
   "cell_type": "code",
   "execution_count": 1,
   "id": "21cb7da4",
   "metadata": {},
   "outputs": [
    {
     "name": "stdout",
     "output_type": "stream",
     "text": [
      "True\n",
      "True\n"
     ]
    }
   ],
   "source": [
    "class Singleton:\n",
    "    _instance = None\n",
    "\n",
    "    def __new__(cls):\n",
    "        if cls._instance is None:\n",
    "            cls._instance = super().__new__(cls)\n",
    "        return cls._instance\n",
    "    \n",
    "def singleton(cls):\n",
    "    instances = {}\n",
    "    def get_instance(*args, **kwargs):\n",
    "        if cls not in instances:\n",
    "            instances[cls] = cls(*args, **kwargs)\n",
    "        return instances[cls]\n",
    "    return get_instance\n",
    "\n",
    "@singleton\n",
    "class MyClass:\n",
    "    pass\n",
    "\n",
    "# Using the class-based Singleton\n",
    "s1 = Singleton()\n",
    "s2 = Singleton()\n",
    "print(s1 is s2)  # True (same instance)\n",
    "\n",
    "# Using the decorator\n",
    "m1 = MyClass()\n",
    "m2 = MyClass()\n",
    "print(m1 is m2)  # True (same instance)"
   ]
  },
  {
   "cell_type": "markdown",
   "id": "bde175ab",
   "metadata": {},
   "source": [
    "## 22. Question: What is the difference between shallow copy and deep copy?"
   ]
  },
  {
   "cell_type": "markdown",
   "id": "e0f55eaa",
   "metadata": {},
   "source": [
    "### Ans:\n",
    "Shallow Copy:\n",
    "\n",
    "A shallow copy creates a new object but copies only references to nested objects, so the changes to nested affects both the original and the copy.\n",
    "\n",
    "Deep Copy:\n",
    "\n",
    "A deep copy creates a new object and recursively copies all nested objects, so the changes to the copy does not affect original."
   ]
  },
  {
   "cell_type": "markdown",
   "id": "ad2e1c23",
   "metadata": {},
   "source": [
    "## 23. Question: How do you swap two variables in Python?"
   ]
  },
  {
   "cell_type": "code",
   "execution_count": 2,
   "id": "13a24c77",
   "metadata": {},
   "outputs": [
    {
     "name": "stdout",
     "output_type": "stream",
     "text": [
      "20 10\n"
     ]
    }
   ],
   "source": [
    "a, b = 10, 20\n",
    "a, b = b, a\n",
    "print(a,b)"
   ]
  },
  {
   "cell_type": "markdown",
   "id": "6207d295",
   "metadata": {},
   "source": [
    "## 24. Question: Explain Python's garbage collection process."
   ]
  },
  {
   "cell_type": "markdown",
   "id": "6733471a",
   "metadata": {},
   "source": [
    "### Ans:\n",
    "Python uses reference counting and a cyclic garbage collector. Reference counting means objects are automatically deallocated once their reference count drops to zero. The cyclic garbage collector finds and cleans up reference cycles, which are situations where a group of objects reference each other but are not referenced anywhere else.\n",
    "\n",
    "Why it's necessary:\n",
    " - memory management - automatically frees memory occupied by unused objects, preventing memory leaks.\n",
    " - developer productivity - eliminates the need of manual memory management, reducing erros and simplifying coding.\n",
    " - handling cycles - ensures memory is reclaimed even in complex scenarios involving circular references."
   ]
  },
  {
   "cell_type": "markdown",
   "id": "6bbc2a10",
   "metadata": {},
   "source": [
    "## 25. Question: What are Python's magic (dunder) methods, and how are they used? Provide an example.\n",
    "\n"
   ]
  },
  {
   "cell_type": "markdown",
   "id": "0af2fb22",
   "metadata": {},
   "source": [
    "### Ans:\n",
    "Python's magic methods, also known as dunder (double underscore) methods, are special methods with names like __method__ that define how objects behave with Python's built-in operations. They allow customization of object behavior for operations like initialization, string representation, arithmetic, comparison, and more."
   ]
  },
  {
   "cell_type": "code",
   "execution_count": 3,
   "id": "77bf0716",
   "metadata": {},
   "outputs": [
    {
     "name": "stdout",
     "output_type": "stream",
     "text": [
      "Point(4, 6)\n"
     ]
    }
   ],
   "source": [
    "class Point:\n",
    "    def __init__(self, x, y):  # Initialize object\n",
    "        self.x = x\n",
    "        self.y = y\n",
    "    \n",
    "    def __add__(self, other):  # Define behavior for `+` operator\n",
    "        return Point(self.x + other.x, self.y + other.y)\n",
    "    \n",
    "    def __str__(self):  # Define string representation\n",
    "        return f\"Point({self.x}, {self.y})\"\n",
    "\n",
    "# Usage\n",
    "p1 = Point(1, 2)\n",
    "p2 = Point(3, 4)\n",
    "p3 = p1 + p2  # Calls __add__\n",
    "print(p3)  # Calls __str__, outputs: Point(4, 6)"
   ]
  },
  {
   "cell_type": "markdown",
   "id": "86c13360",
   "metadata": {},
   "source": [
    "## 26. Question: How do you check if a variable is an instance of a particular type?"
   ]
  },
  {
   "cell_type": "markdown",
   "metadata": {},
   "source": [
    "### Ans:\n",
    "You can use the isinstance() function to check if a variable is an instance of a particular type."
   ]
  },
  {
   "cell_type": "code",
   "execution_count": 1,
   "id": "62a6be7c",
   "metadata": {},
   "outputs": [
    {
     "name": "stdout",
     "output_type": "stream",
     "text": [
      "x is list\n"
     ]
    }
   ],
   "source": [
    "x = [1,2,3]\n",
    "if isinstance(x, list):\n",
    "    print('x is list')"
   ]
  },
  {
   "cell_type": "markdown",
   "id": "916db126",
   "metadata": {},
   "source": [
    "## 27. Question: What does the else clause in a loop do?\n",
    "\n"
   ]
  },
  {
   "cell_type": "markdown",
   "id": "02c9bf1b",
   "metadata": {},
   "source": [
    "### Ans:\n",
    "The else clause in a loop is executed when the loop finishes execution (i.e., when the condition becomes false). It won't execute if the loop was exited using a break statement."
   ]
  },
  {
   "cell_type": "code",
   "execution_count": 3,
   "id": "95e49b7b",
   "metadata": {},
   "outputs": [
    {
     "name": "stdout",
     "output_type": "stream",
     "text": [
      "0\n",
      "1\n",
      "2\n",
      "3\n",
      "4\n",
      "Loop finishes\n"
     ]
    }
   ],
   "source": [
    "for i in range(5):\n",
    "    print(i)\n",
    "else:\n",
    "    print('Loop finishes')"
   ]
  },
  {
   "cell_type": "markdown",
   "id": "716963ce",
   "metadata": {},
   "source": [
    "## 28. Question: What is the purpose of the pass statement in Python?\n",
    "\n"
   ]
  },
  {
   "cell_type": "markdown",
   "id": "7bb97b22",
   "metadata": {},
   "source": [
    "### Ans:\n",
    "The pass statement does nothing, it is used as placeholder where syntactically some code is required, but you don't want to execute any command or code."
   ]
  },
  {
   "cell_type": "markdown",
   "id": "89de8588",
   "metadata": {},
   "source": [
    "## 29. Question: How do you retrieve all the keys, values, and items from a dictionary?\n",
    "\n"
   ]
  },
  {
   "cell_type": "markdown",
   "id": "13d121ef",
   "metadata": {},
   "source": [
    "### Ans:\n",
    "You can use the methods keys(), values() and items()."
   ]
  },
  {
   "cell_type": "code",
   "execution_count": 4,
   "id": "567f5ab4",
   "metadata": {},
   "outputs": [
    {
     "name": "stdout",
     "output_type": "stream",
     "text": [
      "dict_keys(['a', 'b'])\n",
      "dict_values([1, 2])\n",
      "dict_items([('a', 1), ('b', 2)])\n"
     ]
    }
   ],
   "source": [
    "d = {'a':1, 'b':2}\n",
    "print(d.keys())\n",
    "print(d.values())\n",
    "print(d.items())"
   ]
  },
  {
   "cell_type": "markdown",
   "id": "5c097805",
   "metadata": {},
   "source": [
    "## 30. Question: What is the difference between __new__ and __init__ in a class?\n",
    "\n"
   ]
  },
  {
   "cell_type": "markdown",
   "id": "cc4dce7a",
   "metadata": {},
   "source": [
    "### Ans:\n",
    "__new__ is responsible for creating and returning a new instance of a class, while __init__ is responsible for initializing the created object"
   ]
  },
  {
   "cell_type": "markdown",
   "id": "cc24684b",
   "metadata": {},
   "source": [
    "## 31. Question: What is the difference between an Iterable and an Iterator?"
   ]
  },
  {
   "cell_type": "markdown",
   "id": "279f4276",
   "metadata": {},
   "source": [
    "### Ans:\n",
    "Iterable:\n",
    "An iterable is an object that be iterated over, meaning you can loop through its elements.(__iter__)\n",
    "\n",
    "Iterator:\n",
    "An iterator is an object that defines how to traverse through the elements of iterable, one at a time.(__next__)"
   ]
  },
  {
   "cell_type": "markdown",
   "id": "89ff4e21",
   "metadata": {},
   "source": [
    "## 32. Question: How does the map function work in Python?\n",
    "\n"
   ]
  },
  {
   "cell_type": "markdown",
   "id": "ebfb27cb",
   "metadata": {},
   "source": [
    "### Ans:\n",
    "The map() function is a builtin function that applies a given function to each item in an iterable (like list, tuple or string) and return iterator with results."
   ]
  },
  {
   "cell_type": "code",
   "execution_count": 1,
   "id": "64a6b9f1",
   "metadata": {},
   "outputs": [
    {
     "name": "stdout",
     "output_type": "stream",
     "text": [
      "[1, 4, 9, 16]\n"
     ]
    }
   ],
   "source": [
    "nums = [1,2,3,4]\n",
    "squared = map(lambda x: x**2,nums)\n",
    "print(list(squared))"
   ]
  },
  {
   "cell_type": "markdown",
   "id": "b2d8cb09",
   "metadata": {},
   "source": [
    "## 33. Question: What are context managers in Python? Provide an example.\n",
    "\n"
   ]
  },
  {
   "cell_type": "markdown",
   "id": "4df248d0",
   "metadata": {},
   "source": [
    "### Ans:\n",
    "A context manager in Python is a constructor that allows you to properly manage resources, such as opening and closing files, acquiring and releasing locks, setting up and tearing down connections.\n",
    "You use it with the 'with' statement."
   ]
  },
  {
   "cell_type": "code",
   "execution_count": 5,
   "id": "2f08756f",
   "metadata": {},
   "outputs": [],
   "source": [
    "file = open(\"example.txt\", \"r\")\n",
    "try:\n",
    "    content = file.read()\n",
    "finally:\n",
    "    file.close()\n"
   ]
  },
  {
   "cell_type": "markdown",
   "id": "9ae44373",
   "metadata": {},
   "source": [
    "## 34. Question: How can you dynamically create a new class at runtime?\n",
    "\n"
   ]
  },
  {
   "cell_type": "markdown",
   "id": "900f8c92",
   "metadata": {},
   "source": [
    "### Ans:\n",
    "You can use the type() function."
   ]
  },
  {
   "cell_type": "code",
   "execution_count": 7,
   "id": "057650ea",
   "metadata": {},
   "outputs": [
    {
     "name": "stdout",
     "output_type": "stream",
     "text": [
      "10\n"
     ]
    }
   ],
   "source": [
    "MyClass = type('MyClass', (object,), {'x':10})\n",
    "obj = MyClass()\n",
    "print(obj.x)"
   ]
  },
  {
   "cell_type": "markdown",
   "id": "b597ffbf",
   "metadata": {},
   "source": [
    "## 35. Question: What does the zip function do in Python?\n",
    "\n"
   ]
  },
  {
   "cell_type": "markdown",
   "id": "f7977018",
   "metadata": {},
   "source": [
    "### Ans:\n",
    "The zip function takes two or more iterables as arguments and returns an iterator that generates tuples containing elements from the input iterables. Elements are paired based on their order."
   ]
  },
  {
   "cell_type": "code",
   "execution_count": 8,
   "id": "05794d48",
   "metadata": {},
   "outputs": [
    {
     "name": "stdout",
     "output_type": "stream",
     "text": [
      "[('Alice', 25), ('Bob', 30), ('Charlie', 35)]\n"
     ]
    }
   ],
   "source": [
    "names = ['Alice', 'Bob', 'Charlie']\n",
    "ages = [25, 30, 35]\n",
    "result = zip(names, ages)\n",
    "print(list(result)) \n"
   ]
  },
  {
   "cell_type": "markdown",
   "id": "1d437646",
   "metadata": {},
   "source": [
    "## 36. Question: How can you merge two dictionaries?\n",
    "\n"
   ]
  },
  {
   "cell_type": "code",
   "execution_count": 2,
   "id": "9f5669e1",
   "metadata": {},
   "outputs": [
    {
     "name": "stdout",
     "output_type": "stream",
     "text": [
      "{'a': 1, 'b': 2, 'c': 3, 'd': 4}\n"
     ]
    }
   ],
   "source": [
    "d1 = {'a':1, 'b':2}\n",
    "d2 = {'c':3, 'd':4}\n",
    "merged = {**d1,**d2}\n",
    "print(merged)"
   ]
  },
  {
   "cell_type": "markdown",
   "id": "b4489241",
   "metadata": {},
   "source": [
    "## 37. Question: What does the @property decorator do in Python?\n",
    "\n"
   ]
  },
  {
   "cell_type": "markdown",
   "id": "d87efbc1",
   "metadata": {},
   "source": [
    "### Ans:\n",
    "The @property method allows you to define methods in a class that can be accessed like attributes, without calling them as method."
   ]
  },
  {
   "cell_type": "code",
   "execution_count": 3,
   "id": "fdaa8db7",
   "metadata": {},
   "outputs": [
    {
     "name": "stdout",
     "output_type": "stream",
     "text": [
      "10\n"
     ]
    }
   ],
   "source": [
    "class Circle:\n",
    "    def __init__(self, radius):\n",
    "        self._radius = radius\n",
    "        \n",
    "    @property\n",
    "    def diameter(self):\n",
    "        return self._radius*2\n",
    "\n",
    "circle = Circle(5)\n",
    "print(circle.diameter)"
   ]
  },
  {
   "cell_type": "markdown",
   "id": "492020f5",
   "metadata": {},
   "source": [
    "## 38. Question: What is the difference between asyncio and multi-threading?\n",
    "\n"
   ]
  },
  {
   "cell_type": "markdown",
   "id": "7faf5b79",
   "metadata": {},
   "source": [
    "### Ans:\n",
    "asyncio is a python library used for writing concurrent code using the async/await syntax. It's single threaded and uses cooperative multitasking. On the other hand, multi-threading involves multiple threads of single process, with each thread executing independently and possibly concurrently."
   ]
  },
  {
   "cell_type": "markdown",
   "id": "ed7d35e4",
   "metadata": {},
   "source": [
    "## 39. Question: How can you make an immutable class in Python?\n",
    "\n"
   ]
  },
  {
   "cell_type": "markdown",
   "id": "c38c775c",
   "metadata": {},
   "source": [
    "### Ans:\n",
    "By ensuring all of its attributes are immutable and preventing any modification to its state after initialization. This often involves overriding methods that modify state or using private attributes."
   ]
  },
  {
   "cell_type": "code",
   "execution_count": 4,
   "id": "4f7f605f",
   "metadata": {},
   "outputs": [],
   "source": [
    "class ImmutableClass:\n",
    "    def __init__(self, value):\n",
    "        self.__value = value\n",
    "\n",
    "    @property\n",
    "    def value(self):\n",
    "        return self.__value\n"
   ]
  },
  {
   "cell_type": "markdown",
   "id": "02f0991d",
   "metadata": {},
   "source": [
    "## 40. Question: What is the purpose of the __slots__ attribute in a Python class?\n",
    "\n"
   ]
  },
  {
   "cell_type": "markdown",
   "id": "a02024c8",
   "metadata": {},
   "source": [
    "### Ans:\n",
    "The __slots__ attribute is used to define static set of attributes for instance of a class, potentially reducing memory usage and attribute access time. It prevents the creation of default __dict__ for the object, which normally stores object attributes."
   ]
  },
  {
   "cell_type": "markdown",
   "id": "bbfb8467",
   "metadata": {},
   "source": [
    "## 41. Question: What are Python descriptors?\n",
    "\n"
   ]
  },
  {
   "cell_type": "markdown",
   "id": "2ce0b69e",
   "metadata": {},
   "source": [
    "Ans:\n",
    "Descriptors are objects that define the behavior of the attributes in other objects when they are accessed, set or delete. Descriptors are defined using at least one of the methods __get__, __set__ or __delete__. "
   ]
  },
  {
   "cell_type": "code",
   "execution_count": 1,
   "id": "8c38da68",
   "metadata": {},
   "outputs": [
    {
     "name": "stdout",
     "output_type": "stream",
     "text": [
      "hello\n",
      "WORLD\n"
     ]
    }
   ],
   "source": [
    "class Descriptor:\n",
    "    def __get__(self, instance, owner):\n",
    "        return instance._value\n",
    "\n",
    "    def __set__(self, instance, value):\n",
    "        instance._value = value.upper()\n",
    "\n",
    "class MyClass:\n",
    "    attribute = Descriptor()\n",
    "\n",
    "    def __init__(self, value):\n",
    "        self._value = value\n",
    "\n",
    "obj = MyClass('hello')\n",
    "print(obj.attribute)  # hello\n",
    "obj.attribute = 'world'\n",
    "print(obj.attribute)  # WORLD\n"
   ]
  },
  {
   "cell_type": "markdown",
   "id": "7b5d2c7b",
   "metadata": {},
   "source": [
    "## 42. Question: How can you catch multiple exceptions in a single line?\n"
   ]
  },
  {
   "cell_type": "markdown",
   "id": "69350536",
   "metadata": {},
   "source": [
    "### Ans:\n",
    "You can use a tuple to specify multiple exception types in a single except block."
   ]
  },
  {
   "cell_type": "code",
   "execution_count": 3,
   "id": "1e4c2ff6",
   "metadata": {},
   "outputs": [],
   "source": [
    "try:\n",
    "    pass\n",
    "except (TypeError, ValueError) as e:\n",
    "    print(f\"Caught an exception: {e}\")\n"
   ]
  },
  {
   "cell_type": "markdown",
   "id": "a90a0d00",
   "metadata": {},
   "source": [
    "## 43. Question: How do you define a class method and when would you use it?\n",
    "\n"
   ]
  },
  {
   "cell_type": "markdown",
   "id": "d33a7567",
   "metadata": {},
   "source": [
    "### Ans:\n",
    "A class method is a method that's bound to the class, not the instance of the class. It can modify or access class level data rather than instance specific data.\n",
    "\n",
    "You define it using @classmethod decorator. It is typically used for factory methods or methods that are concerned with class itself rather than specific instances."
   ]
  },
  {
   "cell_type": "code",
   "execution_count": 1,
   "id": "260705f1",
   "metadata": {},
   "outputs": [],
   "source": [
    "class MyClass:\n",
    "    count = 0\n",
    "\n",
    "    @classmethod\n",
    "    def increment_count(cls, value):\n",
    "        cls.count += value\n"
   ]
  },
  {
   "cell_type": "markdown",
   "id": "5fd4698b",
   "metadata": {},
   "source": [
    "## 44. What is the __str__ method in a class and when is it used?"
   ]
  },
  {
   "cell_type": "markdown",
   "id": "8f88e5cf",
   "metadata": {},
   "source": [
    "### Ans:\n",
    "The __str__ method is a special method taht should return a string representation of the object. It's invoked by built-in str() function and by print() function when outputting the object."
   ]
  },
  {
   "cell_type": "code",
   "execution_count": 2,
   "id": "0f01681e",
   "metadata": {},
   "outputs": [
    {
     "name": "stdout",
     "output_type": "stream",
     "text": [
      "Hi, my name is MAYANK\n"
     ]
    }
   ],
   "source": [
    "class Person:\n",
    "    def __init__(self, name):\n",
    "        self.name = name\n",
    "    \n",
    "    def __str__(self):\n",
    "        return f\"Hi, my name is {self.name}\"\n",
    "    \n",
    "p = Person('MAYANK')\n",
    "print(p)"
   ]
  },
  {
   "cell_type": "markdown",
   "id": "091aaf89",
   "metadata": {},
   "source": [
    "## 45. Question: How can you implement a stack in Python?"
   ]
  },
  {
   "cell_type": "markdown",
   "id": "1ba37aec",
   "metadata": {},
   "source": [
    "### Ans:\n",
    "You can use list to implement a stack, utilizing append() method for push operations and pop() method for pop operation"
   ]
  },
  {
   "cell_type": "code",
   "execution_count": 1,
   "id": "757ce3fe",
   "metadata": {},
   "outputs": [
    {
     "name": "stdout",
     "output_type": "stream",
     "text": [
      "[10, 20]\n"
     ]
    }
   ],
   "source": [
    "# stack using list\n",
    "stack = []\n",
    "stack.append(10)\n",
    "stack.append(20)\n",
    "stack.append(30)\n",
    "stack.pop()\n",
    "print(stack)"
   ]
  },
  {
   "cell_type": "markdown",
   "id": "ec901321",
   "metadata": {},
   "source": [
    "## 46. Question: What is NumPy and when might you use it?"
   ]
  },
  {
   "cell_type": "markdown",
   "id": "0b3216ca",
   "metadata": {},
   "source": [
    "### Ans:\n",
    "NumPy is a library for python programming language, adding support for large, multi-dimensional arrays and matrices, along with the mathematical functions to operate on these arrays. \n",
    "\n",
    "It's often used in scientific computing, data analysis, machine learning for tasks that require mathematical operations on large datasets."
   ]
  },
  {
   "cell_type": "markdown",
   "id": "7eb5582b",
   "metadata": {},
   "source": [
    "## 47. Question: What are virtual environments in Python, and why are they useful?\n",
    "\n"
   ]
  },
  {
   "cell_type": "markdown",
   "id": "bcfafa07",
   "metadata": {},
   "source": [
    "### Ans:\n",
    "Virtual environments are tools that help to keep dependencies required by different projects seperated by creating isolated environments for them. This is especially useful when different projects have different requirements and can prevent conflicts between versions."
   ]
  },
  {
   "cell_type": "markdown",
   "id": "ae835eb0",
   "metadata": {},
   "source": [
    "## 48. Question: What is Flask?\n",
    "\n"
   ]
  },
  {
   "cell_type": "markdown",
   "id": "7c0241f9",
   "metadata": {},
   "source": [
    "### Ans:\n",
    "Flask is a micro web framework written in Python. It does not include built-in abstract tools like from validations or database integration but it is lightweight and easily extensible, making it a popular choice for small web applications or as a backend for more complex projects."
   ]
  },
  {
   "cell_type": "code",
   "execution_count": null,
   "id": "13753af5",
   "metadata": {},
   "outputs": [],
   "source": []
  },
  {
   "cell_type": "markdown",
   "id": "abfc9331",
   "metadata": {},
   "source": [
    "## 49. Question: What is unittest in Python?\n"
   ]
  },
  {
   "cell_type": "markdown",
   "id": "db77870c",
   "metadata": {},
   "source": [
    "### Ans:\n",
    "unittest is a built-in library in python used for testing python code. It supports test automation, sharing of setup and shutdown code, aggregation of tests into collections and more."
   ]
  },
  {
   "cell_type": "markdown",
   "id": "9d16de18",
   "metadata": {},
   "source": [
    "## 50. Question: How can you set a breakpoint in your code to aid debugging?"
   ]
  },
  {
   "cell_type": "markdown",
   "id": "b6ab1a1b",
   "metadata": {},
   "source": [
    "### Ans:\n",
    "You can use breaking point function to set a breaking point in your code. When the code execution eaches the breaking point(), it will stop, allowing you to inspect the current state using a debugger."
   ]
  },
  {
   "cell_type": "markdown",
   "id": "97c0cfa3",
   "metadata": {},
   "source": []
  }
 ],
 "metadata": {
  "kernelspec": {
   "display_name": "base",
   "language": "python",
   "name": "python3"
  },
  "language_info": {
   "codemirror_mode": {
    "name": "ipython",
    "version": 3
   },
   "file_extension": ".py",
   "mimetype": "text/x-python",
   "name": "python",
   "nbconvert_exporter": "python",
   "pygments_lexer": "ipython3",
   "version": "3.12.7"
  }
 },
 "nbformat": 4,
 "nbformat_minor": 5
}
