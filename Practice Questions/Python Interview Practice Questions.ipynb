{
 "cells": [
  {
   "cell_type": "markdown",
   "id": "0d4d12cb",
   "metadata": {},
   "source": [
    "## 1. Question: Write a function that takes a list of numbers and returns the sum."
   ]
  },
  {
   "cell_type": "code",
   "execution_count": 1,
   "id": "2818346b",
   "metadata": {},
   "outputs": [
    {
     "data": {
      "text/plain": [
       "150"
      ]
     },
     "execution_count": 1,
     "metadata": {},
     "output_type": "execute_result"
    }
   ],
   "source": [
    "def sum_numbers(numbers):\n",
    "    \n",
    "    result = sum(numbers)\n",
    "    return result\n",
    "\n",
    "numbers = [10,20,30,40,50]\n",
    "sum_numbers(numbers)"
   ]
  },
  {
   "cell_type": "markdown",
   "id": "50a19de8",
   "metadata": {},
   "source": [
    "## 2. Question: How do you reverse a string in Python?\n",
    "\n"
   ]
  },
  {
   "cell_type": "code",
   "execution_count": 2,
   "id": "0982d92a",
   "metadata": {},
   "outputs": [
    {
     "name": "stdout",
     "output_type": "stream",
     "text": [
      "enahtaK knayaM\n"
     ]
    }
   ],
   "source": [
    "name = \"Mayank Kathane\"\n",
    "print(name[::-1])"
   ]
  },
  {
   "cell_type": "markdown",
   "id": "84c548df",
   "metadata": {},
   "source": [
    "## 3. Question: What is the difference between a tuple and a list?"
   ]
  },
  {
   "cell_type": "markdown",
   "id": "f6ac72e0",
   "metadata": {},
   "source": [
    "### Ans:\n",
    "\n",
    "List are ordered sequences of elements which can hold items of any data type.\n",
    " - lists are mutable\n",
    " - list can contain duplicate items\n",
    " - accessing list can be done directly using thier position (index), starting from 0\n",
    "\n",
    "Tuples are ordered sequences of elements which can hold any data type.\n",
    " - immutable\n",
    " - ordered\n",
    " - heterogenous\n",
    " - fixed sized\n",
    " - iterable"
   ]
  },
  {
   "cell_type": "markdown",
   "id": "152d1f7f",
   "metadata": {},
   "source": [
    "## 4. Question: Write a function that checks if a given word is a palindrome.\n",
    "\n"
   ]
  },
  {
   "cell_type": "code",
   "execution_count": 2,
   "id": "2734603c",
   "metadata": {},
   "outputs": [
    {
     "data": {
      "text/plain": [
       "True"
      ]
     },
     "execution_count": 2,
     "metadata": {},
     "output_type": "execute_result"
    }
   ],
   "source": [
    "def check_palindrome(word):\n",
    "    return word == word[::-1]\n",
    "\n",
    "word = \"pop\"\n",
    "check_palindrome(word)"
   ]
  },
  {
   "cell_type": "markdown",
   "id": "f4dc3fa0",
   "metadata": {},
   "source": [
    "## 5. Question: How can you remove duplicates from a list?\n",
    "\n"
   ]
  },
  {
   "cell_type": "code",
   "execution_count": 3,
   "id": "601fa7a9",
   "metadata": {},
   "outputs": [
    {
     "data": {
      "text/plain": [
       "[1, 2, 3, 4, 5]"
      ]
     },
     "execution_count": 3,
     "metadata": {},
     "output_type": "execute_result"
    }
   ],
   "source": [
    "def remove_duplicates(word):\n",
    "    return list(set(lst))\n",
    "\n",
    "lst = [1,2,2,3,3,4,5]\n",
    "remove_duplicates(lst)"
   ]
  },
  {
   "cell_type": "markdown",
   "id": "15923cfc",
   "metadata": {},
   "source": [
    "## 6. Question: How do you handle exceptions in Python?"
   ]
  },
  {
   "cell_type": "markdown",
   "id": "ad464977",
   "metadata": {},
   "source": [
    "### Ans:\n",
    "\n",
    "Using try and catch blocks."
   ]
  },
  {
   "cell_type": "code",
   "execution_count": 1,
   "id": "658e37d0",
   "metadata": {},
   "outputs": [
    {
     "name": "stdout",
     "output_type": "stream",
     "text": [
      "Cannot divide by zero\n"
     ]
    }
   ],
   "source": [
    "try:\n",
    "    x = 1 / 0\n",
    "\n",
    "except ZeroDivisionError:\n",
    "    print(\"Cannot divide by zero\")"
   ]
  },
  {
   "cell_type": "markdown",
   "id": "87481cf5",
   "metadata": {},
   "source": [
    "## 7. Question: What is a lambda function? Provide an example."
   ]
  },
  {
   "cell_type": "markdown",
   "id": "c3b21115",
   "metadata": {},
   "source": [
    "### Ans:\n",
    "\n",
    "Lambda is a small anonymous function which can take any number of arguments but can only have one expression"
   ]
  },
  {
   "cell_type": "code",
   "execution_count": 2,
   "id": "cef79646",
   "metadata": {},
   "outputs": [
    {
     "name": "stdout",
     "output_type": "stream",
     "text": [
      "110\n"
     ]
    }
   ],
   "source": [
    "multiply = lambda x,y,z: x*y+z\n",
    "print(multiply(10,10,10))"
   ]
  },
  {
   "cell_type": "markdown",
   "id": "b7a5d25f",
   "metadata": {},
   "source": [
    "## 8. Question: Write a function that returns the n-th Fibonacci number using recursion.\n",
    "\n"
   ]
  },
  {
   "cell_type": "code",
   "execution_count": 7,
   "id": "36c03fc3",
   "metadata": {},
   "outputs": [
    {
     "name": "stdout",
     "output_type": "stream",
     "text": [
      "55\n",
      "[0, 1, 1, 2, 3, 5, 8, 13, 21, 34, 55]\n"
     ]
    }
   ],
   "source": [
    "def fibonacci_series(n):\n",
    "    series = []\n",
    "    for i in range(n+1):\n",
    "        series.append(fibonacci(i))\n",
    "    return series\n",
    "\n",
    "def fibonacci(n):\n",
    "    \n",
    "    if n<=1:\n",
    "        return n\n",
    "    else:\n",
    "        return fibonacci(n-1) + fibonacci(n-2)\n",
    "    \n",
    "print(fibonacci(10))\n",
    "print(fibonacci_series(10))"
   ]
  },
  {
   "cell_type": "markdown",
   "id": "b8ffc6a8",
   "metadata": {},
   "source": [
    "## 9. Question: What are decorators in Python and how are they used?"
   ]
  },
  {
   "cell_type": "markdown",
   "id": "55f48730",
   "metadata": {},
   "source": [
    "### Ans:\n",
    "\n",
    "Decorator in python is a powerful and flexible way to modify or extend the behavior of function or method, without changing actual code.\n",
    "\n",
    "A decorator is essentially a function that takes another function as an argument and return a new function with enhanced functionality."
   ]
  },
  {
   "cell_type": "code",
   "execution_count": 12,
   "id": "4b023b82",
   "metadata": {},
   "outputs": [
    {
     "name": "stdout",
     "output_type": "stream",
     "text": [
      "Before calling function\n",
      "Hello all\n",
      "After calling function\n"
     ]
    }
   ],
   "source": [
    "# decorator function\n",
    "def decorator(func):\n",
    "    \n",
    "    def wrapper():\n",
    "        print(\"Before calling function\")\n",
    "        func()\n",
    "        print(\"After calling function\")\\\n",
    "            \n",
    "    return wrapper()\n",
    "\n",
    "@decorator\n",
    "def greet():\n",
    "    print(\"Hello all\")\n",
    "    \n",
    "    "
   ]
  },
  {
   "cell_type": "markdown",
   "id": "749bc244",
   "metadata": {},
   "source": [
    "## 10. Question: How do you deep copy an object in Python?"
   ]
  },
  {
   "cell_type": "markdown",
   "id": "225f5dc8",
   "metadata": {},
   "source": [
    "### Ans:\n",
    "\n",
    "You can use copy module's deepcopy method."
   ]
  },
  {
   "cell_type": "code",
   "execution_count": 2,
   "id": "c36bdd1d",
   "metadata": {},
   "outputs": [
    {
     "data": {
      "text/plain": [
       "[[1, 2, 3], [4, 5, 6]]"
      ]
     },
     "execution_count": 2,
     "metadata": {},
     "output_type": "execute_result"
    }
   ],
   "source": [
    "import copy\n",
    "\n",
    "original = [[1,2,3], [4,5,6]]\n",
    "copied = copy.deepcopy(original)\n",
    "copied"
   ]
  },
  {
   "cell_type": "markdown",
   "id": "3e3a7002",
   "metadata": {},
   "source": [
    "## 11. Question: What is list comprehension and provide an example?"
   ]
  },
  {
   "cell_type": "markdown",
   "id": "6a85d502",
   "metadata": {},
   "source": [
    "### Ans:\n",
    "\n",
    "List comprehension is a way to create list using concise syntax. It allows us to generate new list by applying expression to each item in an existing iterable."
   ]
  },
  {
   "cell_type": "code",
   "execution_count": 7,
   "id": "860aa436",
   "metadata": {},
   "outputs": [
    {
     "data": {
      "text/plain": [
       "[2, 4, 6]"
      ]
     },
     "execution_count": 7,
     "metadata": {},
     "output_type": "execute_result"
    }
   ],
   "source": [
    "lst = [1,2,3,4,5,6]\n",
    "\n",
    "new_lst = [exp for exp in lst if exp%2 == 0]\n",
    "new_lst"
   ]
  },
  {
   "cell_type": "markdown",
   "id": "33f1d12c",
   "metadata": {},
   "source": [
    "## 12. Question: What is the difference between == and is?"
   ]
  },
  {
   "cell_type": "markdown",
   "id": "907a92b5",
   "metadata": {},
   "source": [
    "### Ans:\n",
    "\n",
    "== checks for equality and is checks for identity (whether two references points to the same object in memory)."
   ]
  },
  {
   "cell_type": "markdown",
   "id": "07c88372",
   "metadata": {},
   "source": [
    "## 13. Question: Explain the concept of *args and **kwargs in Python.\n"
   ]
  },
  {
   "cell_type": "markdown",
   "id": "ce9fa7fe",
   "metadata": {},
   "source": [
    "### Ans:\n",
    "\n",
    "*args:\n",
    "\n",
    "The special syntax *args in function definition is used to pass variable number of arguments to a function. It is used to pass non-keyworded variable length argument list.\n"
   ]
  },
  {
   "cell_type": "code",
   "execution_count": 8,
   "id": "47b8b912",
   "metadata": {},
   "outputs": [
    {
     "name": "stdout",
     "output_type": "stream",
     "text": [
      "1\n",
      "2\n",
      "3\n",
      "4\n",
      "5\n"
     ]
    }
   ],
   "source": [
    "def func(*args):\n",
    "    \n",
    "    for arg in args:\n",
    "        print(arg)\n",
    "\n",
    "func(1,2,3,4,5)"
   ]
  },
  {
   "cell_type": "markdown",
   "id": "5d1083ce",
   "metadata": {},
   "source": [
    "**kwargs:\n",
    "\n",
    "The special syntax **kwargs in function definition is used to pass a variable length argument list. We use the same kwargs with double **.\n",
    "\n",
    "A keyword argument is where you provide name to the variable as you pass into the function.\n",
    "\n",
    "It collects all the additional keyword arguments passed to the function nad stores them in a dictionary."
   ]
  },
  {
   "cell_type": "code",
   "execution_count": 9,
   "id": "e59a174c",
   "metadata": {},
   "outputs": [
    {
     "name": "stdout",
     "output_type": "stream",
     "text": [
      "name:Mayank\n",
      "age:23\n"
     ]
    }
   ],
   "source": [
    "def func(**kwargs):\n",
    "    \n",
    "    for k, val in kwargs.items():\n",
    "        print(f\"{k}:{val}\")\n",
    "        \n",
    "func(name = 'Mayank', age = 23)"
   ]
  },
  {
   "cell_type": "markdown",
   "id": "02f9d5ab",
   "metadata": {},
   "source": [
    "## 14. Question: What is a generator and how is it different from a list?"
   ]
  },
  {
   "cell_type": "markdown",
   "id": "315c58cf",
   "metadata": {},
   "source": [
    "### Ans:\n",
    "\n",
    "A generator is an iterable that yeilds item one at a time using yield statement, where a list holds all its items in memory.\n",
    "Generators are more memory efficient for large datasets."
   ]
  },
  {
   "cell_type": "code",
   "execution_count": 11,
   "id": "7fc002e1",
   "metadata": {},
   "outputs": [
    {
     "name": "stdout",
     "output_type": "stream",
     "text": [
      "1\n",
      "2\n",
      "3\n",
      "1\n",
      "2\n",
      "3\n"
     ]
    }
   ],
   "source": [
    "def count_up_to(n):\n",
    "    for i in range(1, n + 1):\n",
    "        yield i  # Yield one value at a time\n",
    "\n",
    "# Create a generator object\n",
    "gen = count_up_to(3)\n",
    "print(next(gen))  # Output: 1\n",
    "print(next(gen))  # Output: 2\n",
    "print(next(gen))  # Output: 3\n",
    "# print(next(gen))  # Raises: StopIteration\n",
    "\n",
    "# Iterate over generator\n",
    "for num in count_up_to(3):\n",
    "    print(num)  # Output: 1, 2, 3"
   ]
  },
  {
   "cell_type": "markdown",
   "id": "e339a3ed",
   "metadata": {},
   "source": [
    "## 15. Question: How can you achieve multi-threading in Python?"
   ]
  },
  {
   "cell_type": "markdown",
   "id": "f0e2b19e",
   "metadata": {},
   "source": [
    "### Ans:\n",
    "Python has threading module which can be used to achieve multi-threading.\n",
    "\n",
    "Multithreading involves running multiple threads within a single process, sharing the same memory space but executing different tasks concurrently. "
   ]
  },
  {
   "cell_type": "code",
   "execution_count": 1,
   "id": "3de6d952",
   "metadata": {},
   "outputs": [
    {
     "name": "stdout",
     "output_type": "stream",
     "text": [
      "1\n",
      "a\n",
      "b\n",
      "2\n",
      "3c\n",
      "\n",
      "d\n",
      "4\n",
      "5e\n",
      "\n"
     ]
    }
   ],
   "source": [
    "import threading\n",
    "import time\n",
    "\n",
    "def print_numbers():\n",
    "    for i in range(1,6):\n",
    "        time.sleep(0.2)\n",
    "        print(i)\n",
    "    \n",
    "def print_letters():    \n",
    "    for i in 'abcde':\n",
    "        time.sleep(0.2)\n",
    "        print(i)\n",
    "        \n",
    "t1 = threading.Thread(target=print_numbers)\n",
    "t2 = threading.Thread(target=print_letters)\n",
    "\n",
    "t1.start()\n",
    "t2.start()\n",
    "\n",
    "t1.join() \n",
    "t2.join()"
   ]
  },
  {
   "cell_type": "markdown",
   "id": "85c2345d",
   "metadata": {},
   "source": [
    "## 16. Question: What are metaclasses in Python?"
   ]
  },
  {
   "cell_type": "markdown",
   "id": "ff8b1b49",
   "metadata": {},
   "source": [
    "### Ans:\n",
    "A metaclass is a class whose instances are classes. It defines how classes are created and behave, just a class defines how its instances behave.\n",
    "\n",
    "### How Metaclasses Work\n",
    "A class is created by its metaclass, which is called when the class definition is executed.\n",
    "The metaclass can override:\n",
    "\n",
    "__new__(mcs, name, bases, namespace): Creates the class object.\n",
    "\n",
    "__init__(cls, name, bases, namespace): Initializes the class after creation.\n",
    "\n",
    "Other methods like __call__ to control instance creation."
   ]
  },
  {
   "cell_type": "code",
   "execution_count": 2,
   "id": "35044767",
   "metadata": {},
   "outputs": [
    {
     "name": "stdout",
     "output_type": "stream",
     "text": [
      "MYCLASS\n",
      "Hello!\n"
     ]
    }
   ],
   "source": [
    "# Custom metaclass\n",
    "class MyMeta(type):\n",
    "    def __new__(mcs, name, bases, namespace):\n",
    "        # Add a class attribute during creation\n",
    "        namespace['class_id'] = name.upper()\n",
    "        return super().__new__(mcs, name, bases, namespace)\n",
    "\n",
    "# Class using the metaclass\n",
    "class MyClass(metaclass=MyMeta):\n",
    "    def greet(self):\n",
    "        return \"Hello!\"\n",
    "\n",
    "# Test\n",
    "obj = MyClass()\n",
    "print(MyClass.class_id)  # Output: MYCLASS\n",
    "print(obj.greet())       # Output: Hello!"
   ]
  },
  {
   "cell_type": "markdown",
   "id": "c90e803c",
   "metadata": {},
   "source": [
    "## 17. Question: Describe the Global Interpreter Lock (GIL) and its implications."
   ]
  },
  {
   "cell_type": "markdown",
   "id": "00bae7e7",
   "metadata": {},
   "source": [
    "### Ans:\n",
    "GIL is a mutex (or a lock) that allows only one thread to execute Python bytecode at a time in CPython (standard python implemention). This means that even on multi-core systems, only one thread is executed at a time.\n",
    "\n",
    "This can be a bottleneck for CPU-bound programs, but it is not an issue for I/O bound programs."
   ]
  },
  {
   "cell_type": "code",
   "execution_count": 3,
   "id": "ea5726f2",
   "metadata": {},
   "outputs": [],
   "source": [
    "import threading\n",
    "def cpu_bound():\n",
    "    sum(range(1000000))  # GIL limits to one core\n",
    "t1 = threading.Thread(target=cpu_bound)\n",
    "t2 = threading.Thread(target=cpu_bound)\n",
    "t1.start(); t2.start(); t1.join(); t2.join()  # No speedup"
   ]
  },
  {
   "cell_type": "markdown",
   "id": "c91b18a4",
   "metadata": {},
   "source": [
    "## 18. Question: What is the difference between staticmethod, classmethod, and regular instance methods?"
   ]
  },
  {
   "cell_type": "markdown",
   "id": "0300acc9",
   "metadata": {},
   "source": [
    "### Ans:\n",
    "\n",
    "1. @staticmethod:\n",
    "The @staticmethod decorator is used to define a method that doesn't operate on instance of a class (self or cls).\n",
    "\n",
    "2. @classmethod:\n",
    "The @classmethod decorator is used to define a method that operates on the class itself (i.e., cls).\n",
    "\n",
    "3. instance method:\n",
    "It takes the instance (object) as its first parameter (usually self) and operates on it."
   ]
  },
  {
   "cell_type": "markdown",
   "id": "ca6297eb",
   "metadata": {},
   "source": [
    "## 19. Question: How do you sort a dictionary by its values?\n",
    "\n"
   ]
  },
  {
   "cell_type": "code",
   "execution_count": 4,
   "id": "5586e759",
   "metadata": {},
   "outputs": [
    {
     "name": "stdout",
     "output_type": "stream",
     "text": [
      "Sorted Dictionary:  {'banana': 7, 'carrot': 9, 'apple': 10}\n"
     ]
    }
   ],
   "source": [
    "dictionary = {'apple': 10, 'banana':7, 'carrot':9}\n",
    "\n",
    "sorted_dictionary = dict(sorted(dictionary.items(), key=lambda x: x[1]))\n",
    "\n",
    "print('Sorted Dictionary: ', sorted_dictionary)"
   ]
  },
  {
   "cell_type": "markdown",
   "id": "24e49afb",
   "metadata": {},
   "source": [
    "## 20. Question: How is string interpolation done in Python?\n",
    "\n"
   ]
  },
  {
   "cell_type": "markdown",
   "id": "77ba6660",
   "metadata": {},
   "source": [
    "### Ans:\n",
    "There are several ways:\n",
    "\n",
    " - Using % formatting\n",
    " - Using .format() method\n",
    " - Using f-strings"
   ]
  },
  {
   "cell_type": "code",
   "execution_count": 6,
   "id": "2a59a608",
   "metadata": {},
   "outputs": [
    {
     "name": "stdout",
     "output_type": "stream",
     "text": [
      "Hello, Mayank!\n",
      "Hello, Mayank!\n",
      "Hello, Mayank!\n"
     ]
    }
   ],
   "source": [
    "name = 'Mayank'\n",
    "# Using % formatting\n",
    "print(\"Hello, %s!\" % name)\n",
    "\n",
    "# Using .format()\n",
    "print(\"Hello, {}!\".format(name))\n",
    "\n",
    "# Using f-strings\n",
    "print(f\"Hello, {name}!\")\n"
   ]
  },
  {
   "cell_type": "code",
   "execution_count": null,
   "id": "21cb7da4",
   "metadata": {},
   "outputs": [],
   "source": []
  }
 ],
 "metadata": {
  "kernelspec": {
   "display_name": "Python 3",
   "language": "python",
   "name": "python3"
  },
  "language_info": {
   "codemirror_mode": {
    "name": "ipython",
    "version": 3
   },
   "file_extension": ".py",
   "mimetype": "text/x-python",
   "name": "python",
   "nbconvert_exporter": "python",
   "pygments_lexer": "ipython3",
   "version": "3.11.9"
  }
 },
 "nbformat": 4,
 "nbformat_minor": 5
}
