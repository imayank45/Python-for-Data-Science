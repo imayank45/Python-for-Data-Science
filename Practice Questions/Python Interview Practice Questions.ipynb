{
 "cells": [
  {
   "cell_type": "markdown",
   "id": "0d4d12cb",
   "metadata": {},
   "source": [
    "## 1. Question: Write a function that takes a list of numbers and returns the sum."
   ]
  },
  {
   "cell_type": "code",
   "execution_count": 1,
   "id": "2818346b",
   "metadata": {},
   "outputs": [
    {
     "data": {
      "text/plain": [
       "150"
      ]
     },
     "execution_count": 1,
     "metadata": {},
     "output_type": "execute_result"
    }
   ],
   "source": [
    "def sum_numbers(numbers):\n",
    "    \n",
    "    result = sum(numbers)\n",
    "    return result\n",
    "\n",
    "numbers = [10,20,30,40,50]\n",
    "sum_numbers(numbers)"
   ]
  },
  {
   "cell_type": "markdown",
   "id": "50a19de8",
   "metadata": {},
   "source": [
    "## 2. Question: How do you reverse a string in Python?\n",
    "\n"
   ]
  },
  {
   "cell_type": "code",
   "execution_count": 2,
   "id": "0982d92a",
   "metadata": {},
   "outputs": [
    {
     "name": "stdout",
     "output_type": "stream",
     "text": [
      "enahtaK knayaM\n"
     ]
    }
   ],
   "source": [
    "name = \"Mayank Kathane\"\n",
    "print(name[::-1])"
   ]
  },
  {
   "cell_type": "markdown",
   "id": "84c548df",
   "metadata": {},
   "source": [
    "## 3. Question: What is the difference between a tuple and a list?"
   ]
  },
  {
   "cell_type": "markdown",
   "id": "f6ac72e0",
   "metadata": {},
   "source": [
    "### Ans:\n",
    "\n",
    "List are ordered sequences of elements which can hold items of any data type.\n",
    " - lists are mutable\n",
    " - list can contain duplicate items\n",
    " - accessing list can be done directly using thier position (index), starting from 0\n",
    "\n",
    "Tuples are ordered sequences of elements which can hold any data type.\n",
    " - immutable\n",
    " - ordered\n",
    " - heterogenous\n",
    " - fixed sized\n",
    " - iterable"
   ]
  },
  {
   "cell_type": "markdown",
   "id": "152d1f7f",
   "metadata": {},
   "source": [
    "## 4. Question: Write a function that checks if a given word is a palindrome.\n",
    "\n"
   ]
  },
  {
   "cell_type": "code",
   "execution_count": 2,
   "id": "2734603c",
   "metadata": {},
   "outputs": [
    {
     "data": {
      "text/plain": [
       "True"
      ]
     },
     "execution_count": 2,
     "metadata": {},
     "output_type": "execute_result"
    }
   ],
   "source": [
    "def check_palindrome(word):\n",
    "    return word == word[::-1]\n",
    "\n",
    "word = \"pop\"\n",
    "check_palindrome(word)"
   ]
  },
  {
   "cell_type": "markdown",
   "id": "f4dc3fa0",
   "metadata": {},
   "source": [
    "## 5. Question: How can you remove duplicates from a list?\n",
    "\n"
   ]
  },
  {
   "cell_type": "code",
   "execution_count": 3,
   "id": "601fa7a9",
   "metadata": {},
   "outputs": [
    {
     "data": {
      "text/plain": [
       "[1, 2, 3, 4, 5]"
      ]
     },
     "execution_count": 3,
     "metadata": {},
     "output_type": "execute_result"
    }
   ],
   "source": [
    "def remove_duplicates(word):\n",
    "    return list(set(lst))\n",
    "\n",
    "lst = [1,2,2,3,3,4,5]\n",
    "remove_duplicates(lst)"
   ]
  },
  {
   "cell_type": "markdown",
   "id": "15923cfc",
   "metadata": {},
   "source": [
    "## 6. Question: How do you handle exceptions in Python?"
   ]
  },
  {
   "cell_type": "markdown",
   "id": "ad464977",
   "metadata": {},
   "source": [
    "### Ans:\n",
    "\n",
    "Using try and catch blocks."
   ]
  },
  {
   "cell_type": "code",
   "execution_count": 1,
   "id": "658e37d0",
   "metadata": {},
   "outputs": [
    {
     "name": "stdout",
     "output_type": "stream",
     "text": [
      "Cannot divide by zero\n"
     ]
    }
   ],
   "source": [
    "try:\n",
    "    x = 1 / 0\n",
    "\n",
    "except ZeroDivisionError:\n",
    "    print(\"Cannot divide by zero\")"
   ]
  },
  {
   "cell_type": "markdown",
   "id": "87481cf5",
   "metadata": {},
   "source": [
    "## 7. Question: What is a lambda function? Provide an example."
   ]
  },
  {
   "cell_type": "markdown",
   "id": "c3b21115",
   "metadata": {},
   "source": [
    "### Ans:\n",
    "\n",
    "Lambda is a small anonymous function which can take any number of arguments but can only have one expression"
   ]
  },
  {
   "cell_type": "code",
   "execution_count": 2,
   "id": "cef79646",
   "metadata": {},
   "outputs": [
    {
     "name": "stdout",
     "output_type": "stream",
     "text": [
      "110\n"
     ]
    }
   ],
   "source": [
    "multiply = lambda x,y,z: x*y+z\n",
    "print(multiply(10,10,10))"
   ]
  },
  {
   "cell_type": "markdown",
   "id": "b7a5d25f",
   "metadata": {},
   "source": [
    "## 8. Question: Write a function that returns the n-th Fibonacci number using recursion.\n",
    "\n"
   ]
  },
  {
   "cell_type": "code",
   "execution_count": 7,
   "id": "36c03fc3",
   "metadata": {},
   "outputs": [
    {
     "name": "stdout",
     "output_type": "stream",
     "text": [
      "55\n",
      "[0, 1, 1, 2, 3, 5, 8, 13, 21, 34, 55]\n"
     ]
    }
   ],
   "source": [
    "def fibonacci_series(n):\n",
    "    series = []\n",
    "    for i in range(n+1):\n",
    "        series.append(fibonacci(i))\n",
    "    return series\n",
    "\n",
    "def fibonacci(n):\n",
    "    \n",
    "    if n<=1:\n",
    "        return n\n",
    "    else:\n",
    "        return fibonacci(n-1) + fibonacci(n-2)\n",
    "    \n",
    "print(fibonacci(10))\n",
    "print(fibonacci_series(10))"
   ]
  },
  {
   "cell_type": "markdown",
   "id": "b8ffc6a8",
   "metadata": {},
   "source": [
    "## 9. Question: What are decorators in Python and how are they used?"
   ]
  },
  {
   "cell_type": "markdown",
   "id": "55f48730",
   "metadata": {},
   "source": [
    "### Ans:\n",
    "\n",
    "Decorator in python is a powerful and flexible way to modify or extend the behavior of function or method, without changing actual code.\n",
    "\n",
    "A decorator is essentially a function that takes another function as an argument and return a new function with enhanced functionality."
   ]
  },
  {
   "cell_type": "code",
   "execution_count": 12,
   "id": "4b023b82",
   "metadata": {},
   "outputs": [
    {
     "name": "stdout",
     "output_type": "stream",
     "text": [
      "Before calling function\n",
      "Hello all\n",
      "After calling function\n"
     ]
    }
   ],
   "source": [
    "# decorator function\n",
    "def decorator(func):\n",
    "    \n",
    "    def wrapper():\n",
    "        print(\"Before calling function\")\n",
    "        func()\n",
    "        print(\"After calling function\")\\\n",
    "            \n",
    "    return wrapper()\n",
    "\n",
    "@decorator\n",
    "def greet():\n",
    "    print(\"Hello all\")\n",
    "    \n",
    "    "
   ]
  },
  {
   "cell_type": "markdown",
   "id": "749bc244",
   "metadata": {},
   "source": [
    "## 10. Question: How do you deep copy an object in Python?"
   ]
  },
  {
   "cell_type": "markdown",
   "id": "225f5dc8",
   "metadata": {},
   "source": [
    "### Ans:\n",
    "\n",
    "You can use copy module's deepcopy method."
   ]
  },
  {
   "cell_type": "code",
   "execution_count": null,
   "id": "c36bdd1d",
   "metadata": {},
   "outputs": [],
   "source": []
  }
 ],
 "metadata": {
  "kernelspec": {
   "display_name": "Python 3",
   "language": "python",
   "name": "python3"
  },
  "language_info": {
   "codemirror_mode": {
    "name": "ipython",
    "version": 3
   },
   "file_extension": ".py",
   "mimetype": "text/x-python",
   "name": "python",
   "nbconvert_exporter": "python",
   "pygments_lexer": "ipython3",
   "version": "3.11.9"
  }
 },
 "nbformat": 4,
 "nbformat_minor": 5
}
