{
 "cells": [
  {
   "cell_type": "markdown",
   "id": "0d4d12cb",
   "metadata": {},
   "source": [
    "## 1. Question: Write a function that takes a list of numbers and returns the sum."
   ]
  },
  {
   "cell_type": "code",
   "execution_count": 1,
   "id": "2818346b",
   "metadata": {},
   "outputs": [
    {
     "data": {
      "text/plain": [
       "150"
      ]
     },
     "execution_count": 1,
     "metadata": {},
     "output_type": "execute_result"
    }
   ],
   "source": [
    "def sum_numbers(numbers):\n",
    "    \n",
    "    result = sum(numbers)\n",
    "    return result\n",
    "\n",
    "numbers = [10,20,30,40,50]\n",
    "sum_numbers(numbers)"
   ]
  },
  {
   "cell_type": "markdown",
   "id": "50a19de8",
   "metadata": {},
   "source": [
    "## 2. Question: How do you reverse a string in Python?\n",
    "\n"
   ]
  },
  {
   "cell_type": "code",
   "execution_count": 2,
   "id": "0982d92a",
   "metadata": {},
   "outputs": [
    {
     "name": "stdout",
     "output_type": "stream",
     "text": [
      "enahtaK knayaM\n"
     ]
    }
   ],
   "source": [
    "name = \"Mayank Kathane\"\n",
    "print(name[::-1])"
   ]
  },
  {
   "cell_type": "markdown",
   "id": "84c548df",
   "metadata": {},
   "source": [
    "## 3. Question: What is the difference between a tuple and a list?"
   ]
  },
  {
   "cell_type": "markdown",
   "id": "f6ac72e0",
   "metadata": {},
   "source": [
    "### Ans:\n",
    "\n",
    "List are ordered sequences of elements which can hold items of any data type.\n",
    " - lists are mutable\n",
    " - list can contain duplicate items\n",
    " - accessing list can be done directly using thier position (index), starting from 0\n",
    "\n",
    "Tuples are ordered sequences of elements which can hold any data type.\n",
    " - immutable\n",
    " - ordered\n",
    " - heterogenous\n",
    " - fixed sized\n",
    " - iterable"
   ]
  },
  {
   "cell_type": "markdown",
   "id": "152d1f7f",
   "metadata": {},
   "source": [
    "## 4. Question: Write a function that checks if a given word is a palindrome.\n",
    "\n"
   ]
  },
  {
   "cell_type": "code",
   "execution_count": 2,
   "id": "2734603c",
   "metadata": {},
   "outputs": [
    {
     "data": {
      "text/plain": [
       "True"
      ]
     },
     "execution_count": 2,
     "metadata": {},
     "output_type": "execute_result"
    }
   ],
   "source": [
    "def check_palindrome(word):\n",
    "    return word == word[::-1]\n",
    "\n",
    "word = \"pop\"\n",
    "check_palindrome(word)"
   ]
  },
  {
   "cell_type": "markdown",
   "id": "f4dc3fa0",
   "metadata": {},
   "source": [
    "## 5. Question: How can you remove duplicates from a list?\n",
    "\n"
   ]
  },
  {
   "cell_type": "code",
   "execution_count": 3,
   "id": "601fa7a9",
   "metadata": {},
   "outputs": [
    {
     "data": {
      "text/plain": [
       "[1, 2, 3, 4, 5]"
      ]
     },
     "execution_count": 3,
     "metadata": {},
     "output_type": "execute_result"
    }
   ],
   "source": [
    "def remove_duplicates(word):\n",
    "    return list(set(lst))\n",
    "\n",
    "lst = [1,2,2,3,3,4,5]\n",
    "remove_duplicates(lst)"
   ]
  },
  {
   "cell_type": "code",
   "execution_count": null,
   "id": "658e37d0",
   "metadata": {},
   "outputs": [],
   "source": []
  }
 ],
 "metadata": {
  "kernelspec": {
   "display_name": "Python 3",
   "language": "python",
   "name": "python3"
  },
  "language_info": {
   "codemirror_mode": {
    "name": "ipython",
    "version": 3
   },
   "file_extension": ".py",
   "mimetype": "text/x-python",
   "name": "python",
   "nbconvert_exporter": "python",
   "pygments_lexer": "ipython3",
   "version": "3.11.9"
  }
 },
 "nbformat": 4,
 "nbformat_minor": 5
}
