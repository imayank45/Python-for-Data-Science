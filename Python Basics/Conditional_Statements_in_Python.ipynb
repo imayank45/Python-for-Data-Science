{
  "nbformat": 4,
  "nbformat_minor": 0,
  "metadata": {
    "colab": {
      "provenance": []
    },
    "kernelspec": {
      "name": "python3",
      "display_name": "Python 3"
    },
    "language_info": {
      "name": "python"
    }
  },
  "cells": [
    {
      "cell_type": "markdown",
      "source": [
        "## If Conditional Statement in Python\n"
      ],
      "metadata": {
        "id": "urtPJYi0Q0yO"
      }
    },
    {
      "cell_type": "code",
      "execution_count": 1,
      "metadata": {
        "colab": {
          "base_uri": "https://localhost:8080/"
        },
        "id": "ckinuN0kQoo1",
        "outputId": "ded7c4fc-9f26-4a2e-828e-d8243fdfdec2"
      },
      "outputs": [
        {
          "output_type": "stream",
          "name": "stdout",
          "text": [
            "Eligible to vote.\n"
          ]
        }
      ],
      "source": [
        "age = 20\n",
        "\n",
        "if age >= 18:\n",
        "    print(\"Eligible to vote.\")"
      ]
    },
    {
      "cell_type": "markdown",
      "source": [
        "## Short Hand if\n"
      ],
      "metadata": {
        "id": "-lY7E7qyQ6q1"
      }
    },
    {
      "cell_type": "code",
      "source": [
        "age = 18\n",
        "if age > 18: print(\"Eligible to vote.\")"
      ],
      "metadata": {
        "id": "mu4cKHwnQ364"
      },
      "execution_count": 2,
      "outputs": []
    },
    {
      "cell_type": "markdown",
      "source": [
        "## If else Conditional Statements in Python\n"
      ],
      "metadata": {
        "id": "9y0BmJ8qRC_d"
      }
    },
    {
      "cell_type": "code",
      "source": [
        "age = 10\n",
        "\n",
        "if age <= 12:\n",
        "    print(\"Travel for free.\")\n",
        "else:\n",
        "    print(\"Pay for ticket.\")"
      ],
      "metadata": {
        "colab": {
          "base_uri": "https://localhost:8080/"
        },
        "id": "QEoKDo3DRA4d",
        "outputId": "cde79c25-8b53-4a60-e9a9-f052aa9f0afe"
      },
      "execution_count": 3,
      "outputs": [
        {
          "output_type": "stream",
          "name": "stdout",
          "text": [
            "Travel for free.\n"
          ]
        }
      ]
    },
    {
      "cell_type": "markdown",
      "source": [
        "## Short Hand if-else\n"
      ],
      "metadata": {
        "id": "-NlXfCAORK5r"
      }
    },
    {
      "cell_type": "code",
      "source": [
        "marks = 45\n",
        "res = \"Pass\" if marks > 35 else \"Fail\"\n",
        "print(res)"
      ],
      "metadata": {
        "colab": {
          "base_uri": "https://localhost:8080/"
        },
        "id": "TwYTLM0dRHYl",
        "outputId": "7b42d314-b01d-4b61-a81a-27dfcd77e3d6"
      },
      "execution_count": 4,
      "outputs": [
        {
          "output_type": "stream",
          "name": "stdout",
          "text": [
            "Pass\n"
          ]
        }
      ]
    },
    {
      "cell_type": "markdown",
      "source": [
        "## elif Statement\n"
      ],
      "metadata": {
        "id": "1D92MC07RYWv"
      }
    },
    {
      "cell_type": "code",
      "source": [
        "age = 25\n",
        "\n",
        "if age <= 12:\n",
        "    print(\"Child.\")\n",
        "elif age <= 19:\n",
        "    print(\"Teenager.\")\n",
        "elif age <= 35:\n",
        "    print(\"Young adult.\")\n",
        "else:\n",
        "    print(\"Adult.\")"
      ],
      "metadata": {
        "colab": {
          "base_uri": "https://localhost:8080/"
        },
        "id": "rp0kWPcaRWKL",
        "outputId": "616ebee4-2e18-4830-8a46-b694b3c9bdb3"
      },
      "execution_count": 5,
      "outputs": [
        {
          "output_type": "stream",
          "name": "stdout",
          "text": [
            "Young adult.\n"
          ]
        }
      ]
    },
    {
      "cell_type": "markdown",
      "source": [
        "## Nested if..else Conditional Statements in Python\n"
      ],
      "metadata": {
        "id": "XnkMTrXCRfZF"
      }
    },
    {
      "cell_type": "code",
      "source": [
        "age = 70\n",
        "is_member = True\n",
        "\n",
        "if age >= 60:\n",
        "    if is_member:\n",
        "        print(\"30% senior discount!\")\n",
        "    else:\n",
        "        print(\"20% senior discount.\")\n",
        "else:\n",
        "    print(\"Not eligible for a senior discount.\")"
      ],
      "metadata": {
        "colab": {
          "base_uri": "https://localhost:8080/"
        },
        "id": "6K18ltEZRbWw",
        "outputId": "4dabc7d5-36d8-4595-877b-4f42a4f91ff8"
      },
      "execution_count": 6,
      "outputs": [
        {
          "output_type": "stream",
          "name": "stdout",
          "text": [
            "30% senior discount!\n"
          ]
        }
      ]
    },
    {
      "cell_type": "markdown",
      "source": [
        "## Ternary Conditional Statement in Python\n"
      ],
      "metadata": {
        "id": "Hrt03QMoRi8w"
      }
    },
    {
      "cell_type": "code",
      "source": [
        "# Assign a value based on a condition\n",
        "age = 20\n",
        "s = \"Adult\" if age >= 18 else \"Minor\"\n",
        "\n",
        "print(s)"
      ],
      "metadata": {
        "colab": {
          "base_uri": "https://localhost:8080/"
        },
        "id": "WPILjkUvRhCe",
        "outputId": "40da3554-80a0-44ad-d7f6-46261010637c"
      },
      "execution_count": 7,
      "outputs": [
        {
          "output_type": "stream",
          "name": "stdout",
          "text": [
            "Adult\n"
          ]
        }
      ]
    },
    {
      "cell_type": "markdown",
      "source": [
        "## Match-Case Statement in Python\n"
      ],
      "metadata": {
        "id": "tB4eZd4NRxCu"
      }
    },
    {
      "cell_type": "code",
      "source": [
        "number = 2\n",
        "\n",
        "match number:\n",
        "  case 1:\n",
        "    print(\"One\")\n",
        "  case 2 | 3:\n",
        "    print(\"Two or Three\")\n",
        "  case _:\n",
        "    print(\"Other number\")"
      ],
      "metadata": {
        "colab": {
          "base_uri": "https://localhost:8080/"
        },
        "id": "uKOdWA1ERlhx",
        "outputId": "f309a646-3a48-4f35-bac6-cbd680edc20a"
      },
      "execution_count": 8,
      "outputs": [
        {
          "output_type": "stream",
          "name": "stdout",
          "text": [
            "Two or Three\n"
          ]
        }
      ]
    },
    {
      "cell_type": "code",
      "source": [],
      "metadata": {
        "id": "jM0VIu5TSGAh"
      },
      "execution_count": null,
      "outputs": []
    }
  ]
}