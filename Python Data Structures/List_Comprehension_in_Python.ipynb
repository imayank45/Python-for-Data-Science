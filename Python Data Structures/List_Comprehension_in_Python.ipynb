{
  "nbformat": 4,
  "nbformat_minor": 0,
  "metadata": {
    "colab": {
      "provenance": []
    },
    "kernelspec": {
      "name": "python3",
      "display_name": "Python 3"
    },
    "language_info": {
      "name": "python"
    }
  },
  "cells": [
    {
      "cell_type": "code",
      "execution_count": 1,
      "metadata": {
        "colab": {
          "base_uri": "https://localhost:8080/"
        },
        "id": "v74TI-WItPDf",
        "outputId": "e497f789-4162-4743-e984-6c8962e367ae"
      },
      "outputs": [
        {
          "output_type": "stream",
          "name": "stdout",
          "text": [
            "[4, 9, 16, 25]\n"
          ]
        }
      ],
      "source": [
        "a = [2,3,4,5]\n",
        "\n",
        "res = [val ** 2 for val in a]\n",
        "\n",
        "print(res)"
      ]
    },
    {
      "cell_type": "markdown",
      "source": [
        "## Conditional Statements in List Comprehension"
      ],
      "metadata": {
        "id": "O_EEO3Gnt5gV"
      }
    },
    {
      "cell_type": "code",
      "source": [
        "a = [1,2,3,4,5,6]\n",
        "\n",
        "res = [val for val in a if val % 2 == 0]\n",
        "\n",
        "print(res)"
      ],
      "metadata": {
        "colab": {
          "base_uri": "https://localhost:8080/"
        },
        "id": "e5PCBcSFtwmo",
        "outputId": "72bc7454-4ba0-491e-b6f7-c28d603f7a30"
      },
      "execution_count": 2,
      "outputs": [
        {
          "output_type": "stream",
          "name": "stdout",
          "text": [
            "[2, 4, 6]\n"
          ]
        }
      ]
    },
    {
      "cell_type": "code",
      "source": [],
      "metadata": {
        "id": "GJqG30xJt9Az"
      },
      "execution_count": null,
      "outputs": []
    }
  ]
}