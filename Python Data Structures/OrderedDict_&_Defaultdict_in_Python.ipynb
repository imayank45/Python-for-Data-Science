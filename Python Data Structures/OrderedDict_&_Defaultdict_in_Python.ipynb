{
  "nbformat": 4,
  "nbformat_minor": 0,
  "metadata": {
    "colab": {
      "provenance": []
    },
    "kernelspec": {
      "name": "python3",
      "display_name": "Python 3"
    },
    "language_info": {
      "name": "python"
    }
  },
  "cells": [
    {
      "cell_type": "markdown",
      "source": [
        "## OrderedDict vs dict in Python"
      ],
      "metadata": {
        "id": "hS0C0bMmX3kd"
      }
    },
    {
      "cell_type": "code",
      "execution_count": 1,
      "metadata": {
        "colab": {
          "base_uri": "https://localhost:8080/"
        },
        "id": "kofYECKTXnTr",
        "outputId": "283fe8f3-a2e1-46eb-faba-e7cdcf6b6af5"
      },
      "outputs": [
        {
          "output_type": "stream",
          "name": "stdout",
          "text": [
            "dict\n",
            "a 1\n",
            "b 2\n",
            "c 3\n",
            "d 4\n",
            "ordered dict\n",
            "d 4\n",
            "b 2\n",
            "a 1\n",
            "c 3\n"
          ]
        }
      ],
      "source": [
        "from collections import OrderedDict\n",
        "\n",
        "print(\"dict\")\n",
        "d = {}\n",
        "d['a'] = 1\n",
        "d['b'] = 2\n",
        "d['c'] = 3\n",
        "d['d'] = 4\n",
        "\n",
        "for key, val in d.items():\n",
        "    print(key, val)\n",
        "\n",
        "print(\"ordered dict\")\n",
        "od = OrderedDict()\n",
        "od['d'] = 4\n",
        "od['b'] = 2\n",
        "od['a'] = 1\n",
        "od['c'] = 3\n",
        "\n",
        "for key, val in od.items():\n",
        "    print(key, val)"
      ]
    },
    {
      "cell_type": "markdown",
      "source": [
        "## Defaultdict in Python"
      ],
      "metadata": {
        "id": "68SAOdvZX9lD"
      }
    },
    {
      "cell_type": "code",
      "source": [
        "from collections import defaultdict\n",
        "\n",
        "d = defaultdict(list)\n",
        "\n",
        "d['fruits'].append('apple')\n",
        "d['vegetables'].append('carrot')\n",
        "print(d)\n",
        "\n",
        "print(d['juices'])"
      ],
      "metadata": {
        "colab": {
          "base_uri": "https://localhost:8080/"
        },
        "id": "hM4PE2w8Xp8c",
        "outputId": "8f073946-6bdf-4324-b739-e8fd50e34974"
      },
      "execution_count": 2,
      "outputs": [
        {
          "output_type": "stream",
          "name": "stdout",
          "text": [
            "defaultdict(<class 'list'>, {'fruits': ['apple'], 'vegetables': ['carrot']})\n",
            "[]\n"
          ]
        }
      ]
    },
    {
      "cell_type": "code",
      "source": [],
      "metadata": {
        "id": "6p-uGsNSYGTB"
      },
      "execution_count": null,
      "outputs": []
    }
  ]
}