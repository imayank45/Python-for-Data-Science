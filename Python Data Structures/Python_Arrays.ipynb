{
  "nbformat": 4,
  "nbformat_minor": 0,
  "metadata": {
    "colab": {
      "provenance": []
    },
    "kernelspec": {
      "name": "python3",
      "display_name": "Python 3"
    },
    "language_info": {
      "name": "python"
    }
  },
  "cells": [
    {
      "cell_type": "markdown",
      "source": [
        "## Lists as Arrays"
      ],
      "metadata": {
        "id": "UZ2SoT_xniP6"
      }
    },
    {
      "cell_type": "code",
      "execution_count": 1,
      "metadata": {
        "colab": {
          "base_uri": "https://localhost:8080/"
        },
        "id": "KcbM_Lp_ndgE",
        "outputId": "ad687e10-43c1-4a17-a14c-7804ced4a7e9"
      },
      "outputs": [
        {
          "output_type": "stream",
          "name": "stdout",
          "text": [
            "[1, 'Hello', [3.14, 'world'], 2]\n"
          ]
        }
      ],
      "source": [
        "a = [1, \"Hello\", [3.14, \"world\"]]\n",
        "a.append(2)  # Add an integer to the end\n",
        "print(a)"
      ]
    },
    {
      "cell_type": "markdown",
      "source": [
        "## NumPy Arrays"
      ],
      "metadata": {
        "id": "y0xGwCWQnrVY"
      }
    },
    {
      "cell_type": "code",
      "source": [
        "import numpy as np\n",
        "\n",
        "# create a numpy array\n",
        "arr = np.array([1, 2, 3, 4, 5])\n",
        "print(arr)\n",
        "\n",
        "# elementwise operations\n",
        "print(arr*2)\n",
        "\n",
        "# multidimension array\n",
        "arr2 = np.array([[1, 2, 3], [4, 5, 6]])\n",
        "print(arr2)"
      ],
      "metadata": {
        "colab": {
          "base_uri": "https://localhost:8080/"
        },
        "id": "J8z3il0anod0",
        "outputId": "f287acd4-c684-4192-c24d-360553732fe6"
      },
      "execution_count": 2,
      "outputs": [
        {
          "output_type": "stream",
          "name": "stdout",
          "text": [
            "[1 2 3 4 5]\n",
            "[ 2  4  6  8 10]\n",
            "[[1 2 3]\n",
            " [4 5 6]]\n"
          ]
        }
      ]
    },
    {
      "cell_type": "markdown",
      "source": [
        "## Python Arrays"
      ],
      "metadata": {
        "id": "fuhmoh5DoSgi"
      }
    },
    {
      "cell_type": "code",
      "source": [
        "import array as arr\n",
        "a = arr.array('i', [1, 2, 3])\n",
        "print(a)\n",
        "#"
      ],
      "metadata": {
        "colab": {
          "base_uri": "https://localhost:8080/"
        },
        "id": "TyfJtJY1oBR9",
        "outputId": "8a65019d-6b17-490b-f492-4531b574901f"
      },
      "execution_count": 3,
      "outputs": [
        {
          "output_type": "stream",
          "name": "stdout",
          "text": [
            "array('i', [1, 2, 3])\n"
          ]
        }
      ]
    },
    {
      "cell_type": "markdown",
      "source": [
        "## Accessing Array Items"
      ],
      "metadata": {
        "id": "6tRzXpv-oo8F"
      }
    },
    {
      "cell_type": "code",
      "source": [
        "import array as arr\n",
        "a = arr.array('i', [1, 2, 3, 4, 5, 6])\n",
        "\n",
        "print(a[0])\n",
        "print(a[3])\n",
        "\n",
        "b = arr.array('d', [2.5, 3.2, 3.3])\n",
        "print(b[1])\n",
        "print(b[2])"
      ],
      "metadata": {
        "colab": {
          "base_uri": "https://localhost:8080/"
        },
        "id": "mzSE0hvfolMb",
        "outputId": "2aacef23-4060-42a7-ecc3-86922bc3a37a"
      },
      "execution_count": 4,
      "outputs": [
        {
          "output_type": "stream",
          "name": "stdout",
          "text": [
            "1\n",
            "4\n",
            "3.2\n",
            "3.3\n"
          ]
        }
      ]
    },
    {
      "cell_type": "markdown",
      "source": [
        "## Removing Elements from the Array\n"
      ],
      "metadata": {
        "id": "8YX1aDCFoutX"
      }
    },
    {
      "cell_type": "code",
      "source": [
        "import array\n",
        "arr = array.array('i', [1, 2, 3, 1, 5])\n",
        "\n",
        "# using remove() method to remove first occurance of 1\n",
        "arr.remove(1)\n",
        "print(arr)\n",
        "\n",
        "# pop() method - remove item at index 2\n",
        "arr.pop(2)\n",
        "print(arr)"
      ],
      "metadata": {
        "colab": {
          "base_uri": "https://localhost:8080/"
        },
        "id": "tc8WYP54osQN",
        "outputId": "81286231-7896-4b01-d5d1-1afcdac4ba97"
      },
      "execution_count": 5,
      "outputs": [
        {
          "output_type": "stream",
          "name": "stdout",
          "text": [
            "array('i', [2, 3, 1, 5])\n",
            "array('i', [2, 3, 5])\n"
          ]
        }
      ]
    },
    {
      "cell_type": "markdown",
      "source": [
        "## Slicing of an Array"
      ],
      "metadata": {
        "id": "M45rfTmlpfe2"
      }
    },
    {
      "cell_type": "code",
      "source": [
        "import array as arr\n",
        "l = [1, 2, 3, 4, 5, 6, 7, 8, 9, 10]\n",
        "\n",
        "a = arr.array('i', l)\n",
        "\n",
        "\n",
        "Sliced_array = a[3:8]\n",
        "print(Sliced_array)\n",
        "\n",
        "Sliced_array = a[5:]\n",
        "print(Sliced_array)\n",
        "\n",
        "Sliced_array = a[:]\n",
        "print(Sliced_array)"
      ],
      "metadata": {
        "colab": {
          "base_uri": "https://localhost:8080/"
        },
        "id": "_hODZjznoxPr",
        "outputId": "0225e0d1-cdfd-46d1-e16c-160b0026ad26"
      },
      "execution_count": 6,
      "outputs": [
        {
          "output_type": "stream",
          "name": "stdout",
          "text": [
            "array('i', [4, 5, 6, 7, 8])\n",
            "array('i', [6, 7, 8, 9, 10])\n",
            "array('i', [1, 2, 3, 4, 5, 6, 7, 8, 9, 10])\n"
          ]
        }
      ]
    },
    {
      "cell_type": "markdown",
      "source": [
        "## Searching Element in an Array\n"
      ],
      "metadata": {
        "id": "bwYjbwWdpkp_"
      }
    },
    {
      "cell_type": "code",
      "source": [
        "import array\n",
        "arr = array.array('i', [1, 2, 3, 1, 2, 5])\n",
        "\n",
        "# index of 1st occurrence of 2\n",
        "print(arr.index(2))\n",
        "\n",
        "# index of 1st occurrence of 1\n",
        "print(arr.index(1))"
      ],
      "metadata": {
        "colab": {
          "base_uri": "https://localhost:8080/"
        },
        "id": "jFVTvTf2piOR",
        "outputId": "565942cf-93fa-4aca-d713-72d582e64a87"
      },
      "execution_count": 7,
      "outputs": [
        {
          "output_type": "stream",
          "name": "stdout",
          "text": [
            "1\n",
            "0\n"
          ]
        }
      ]
    },
    {
      "cell_type": "markdown",
      "source": [
        "## Updating Elements in an Array"
      ],
      "metadata": {
        "id": "Hsrw4AVBpraV"
      }
    },
    {
      "cell_type": "code",
      "source": [
        "import array\n",
        "arr = array.array('i', [1, 2, 3, 1, 2, 5])\n",
        "\n",
        "# update item at index 2\n",
        "arr[2] = 6\n",
        "print(arr)\n",
        "\n",
        "# update item at index 4\n",
        "arr[4] = 8\n",
        "print(arr)"
      ],
      "metadata": {
        "colab": {
          "base_uri": "https://localhost:8080/"
        },
        "id": "kbPW0oN4poUI",
        "outputId": "90aa033b-bda8-4f97-f986-acc9ff9782de"
      },
      "execution_count": 8,
      "outputs": [
        {
          "output_type": "stream",
          "name": "stdout",
          "text": [
            "array('i', [1, 2, 6, 1, 2, 5])\n",
            "array('i', [1, 2, 6, 1, 8, 5])\n"
          ]
        }
      ]
    },
    {
      "cell_type": "markdown",
      "source": [
        "## Different Operations on Python Arrays\n"
      ],
      "metadata": {
        "id": "AALOgXaGp0iL"
      }
    },
    {
      "cell_type": "markdown",
      "source": [
        "### 1. Counting Elements in an Array\n"
      ],
      "metadata": {
        "id": "raq71AGep2rN"
      }
    },
    {
      "cell_type": "code",
      "source": [
        "import array\n",
        "\n",
        "arr = array.array('i', [1, 2, 3, 4, 2, 5, 2])\n",
        "count = arr.count(2)\n",
        "\n",
        "print(\"Number of occurrences of 2:\", count)"
      ],
      "metadata": {
        "colab": {
          "base_uri": "https://localhost:8080/"
        },
        "id": "q4HaEtLopuFy",
        "outputId": "cc244a42-1a56-4ebb-d27c-e28a846d614c"
      },
      "execution_count": 9,
      "outputs": [
        {
          "output_type": "stream",
          "name": "stdout",
          "text": [
            "Number of occurrences of 2: 3\n"
          ]
        }
      ]
    },
    {
      "cell_type": "markdown",
      "source": [
        "### 3. Reversing Elements in an Array\n"
      ],
      "metadata": {
        "id": "GN58eQkpp9Cj"
      }
    },
    {
      "cell_type": "code",
      "source": [
        "import array\n",
        "arr = array.array('i', [1, 2, 3, 4, 5])\n",
        "\n",
        "arr.reverse()\n",
        "print(\"Reversed array:\", *arr)"
      ],
      "metadata": {
        "colab": {
          "base_uri": "https://localhost:8080/"
        },
        "id": "X2eaDVKBp6xd",
        "outputId": "c76e1e6d-abb3-4a95-eb2f-a676a96a638e"
      },
      "execution_count": 10,
      "outputs": [
        {
          "output_type": "stream",
          "name": "stdout",
          "text": [
            "Reversed array: 5 4 3 2 1\n"
          ]
        }
      ]
    },
    {
      "cell_type": "code",
      "source": [],
      "metadata": {
        "id": "R_2_Jeosp_my"
      },
      "execution_count": null,
      "outputs": []
    }
  ]
}