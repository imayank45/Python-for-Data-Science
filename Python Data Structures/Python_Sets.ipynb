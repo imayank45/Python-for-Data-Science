{
  "nbformat": 4,
  "nbformat_minor": 0,
  "metadata": {
    "colab": {
      "provenance": []
    },
    "kernelspec": {
      "name": "python3",
      "display_name": "Python 3"
    },
    "language_info": {
      "name": "python"
    }
  },
  "cells": [
    {
      "cell_type": "markdown",
      "source": [
        "## Creating a Set in Python"
      ],
      "metadata": {
        "id": "ZXqrUdMPfQxe"
      }
    },
    {
      "cell_type": "code",
      "execution_count": 1,
      "metadata": {
        "colab": {
          "base_uri": "https://localhost:8080/"
        },
        "id": "aTDOyGs-fFzi",
        "outputId": "9e11dc0a-fc18-4eda-ed6f-56e1b2549ee4"
      },
      "outputs": [
        {
          "output_type": "stream",
          "name": "stdout",
          "text": [
            "{1, 2, 3, 4}\n"
          ]
        }
      ],
      "source": [
        "set1 = {1,2,3,4}\n",
        "print(set1)"
      ]
    },
    {
      "cell_type": "markdown",
      "source": [
        "## Using the set() function"
      ],
      "metadata": {
        "id": "WMEX2gzEfjMH"
      }
    },
    {
      "cell_type": "code",
      "source": [
        "set1 = set()\n",
        "print(set1)\n",
        "\n",
        "set1 = set('MayankKathane')\n",
        "print(set1)\n",
        "\n",
        "# create a set with use of list\n",
        "set1 = set(['mayank','kathane'])\n",
        "print(set1)\n",
        "\n",
        "# create a set with use of tuple\n",
        "set1 = set(('mayank','kathane'))\n",
        "print(set1)\n",
        "\n",
        "# create a set with use of dictionary\n",
        "set1 = set({'mayank':1,'kathane':2})\n",
        "print(set1)"
      ],
      "metadata": {
        "colab": {
          "base_uri": "https://localhost:8080/"
        },
        "id": "Q7YSDBdnfejr",
        "outputId": "dc884679-a7f3-473e-e0c1-0ac397428108"
      },
      "execution_count": 5,
      "outputs": [
        {
          "output_type": "stream",
          "name": "stdout",
          "text": [
            "set()\n",
            "{'e', 'a', 'y', 'h', 'k', 'M', 't', 'n', 'K'}\n",
            "{'kathane', 'mayank'}\n",
            "{'kathane', 'mayank'}\n",
            "{'kathane', 'mayank'}\n"
          ]
        }
      ]
    },
    {
      "cell_type": "markdown",
      "source": [
        "## Adding Elements to a Set in Python"
      ],
      "metadata": {
        "id": "zhjUyOd9g0k2"
      }
    },
    {
      "cell_type": "code",
      "source": [
        "# create a set\n",
        "set1 = {1,2,3}\n",
        "\n",
        "# add one item\n",
        "set1.add(4)\n",
        "print(set1)\n",
        "\n",
        "# add multiple items\n",
        "set1.update([5,6,7])\n",
        "print(set1)"
      ],
      "metadata": {
        "colab": {
          "base_uri": "https://localhost:8080/"
        },
        "id": "bJ_zDIIofqCT",
        "outputId": "edbb15f4-49ce-426b-8bbc-c0c0d4cd554c"
      },
      "execution_count": 6,
      "outputs": [
        {
          "output_type": "stream",
          "name": "stdout",
          "text": [
            "{1, 2, 3, 4}\n",
            "{1, 2, 3, 4, 5, 6, 7}\n"
          ]
        }
      ]
    },
    {
      "cell_type": "markdown",
      "source": [
        "## Accessing a Set in Python"
      ],
      "metadata": {
        "id": "6zKn7vPQhGd7"
      }
    },
    {
      "cell_type": "code",
      "source": [
        "set1 = set([1,2,3,4,5])\n",
        "\n",
        "# accessing elements using for loops\n",
        "for i in set1:\n",
        "    print(i, end = ' ')\n",
        "\n",
        "# check element# using in keyword\n",
        "print(1 in set1)"
      ],
      "metadata": {
        "colab": {
          "base_uri": "https://localhost:8080/"
        },
        "id": "pElh66wRg_zK",
        "outputId": "b5ee07da-5de0-49ed-928c-a43b8103ef72"
      },
      "execution_count": 7,
      "outputs": [
        {
          "output_type": "stream",
          "name": "stdout",
          "text": [
            "1 2 3 4 5 True\n"
          ]
        }
      ]
    },
    {
      "cell_type": "markdown",
      "source": [
        "## Removing Elements from the Set in Python"
      ],
      "metadata": {
        "id": "pBwlo0SThaFN"
      }
    },
    {
      "cell_type": "code",
      "source": [
        "# using remove method\n",
        "set1 = {1,2,3,4,5,6}\n",
        "set1.remove(3)\n",
        "print(set1)\n",
        "\n",
        "# using discard method\n",
        "set1.discard(5)\n",
        "print(set1)\n",
        "\n",
        "# using pop method\n",
        "set1.pop()\n",
        "print(set1)"
      ],
      "metadata": {
        "colab": {
          "base_uri": "https://localhost:8080/"
        },
        "id": "Z0KJmcmdhXkW",
        "outputId": "999e0dd6-357e-405b-e7bb-67f333395774"
      },
      "execution_count": 8,
      "outputs": [
        {
          "output_type": "stream",
          "name": "stdout",
          "text": [
            "{1, 2, 4, 5, 6}\n",
            "{1, 2, 4, 6}\n",
            "{2, 4, 6}\n"
          ]
        }
      ]
    },
    {
      "cell_type": "markdown",
      "source": [
        "## Frozen Sets in Python"
      ],
      "metadata": {
        "id": "wPffKhfih7P2"
      }
    },
    {
      "cell_type": "code",
      "source": [
        "# creating a frozenset from list\n",
        "fset = frozenset([1,2,3,4])\n",
        "print(fset)\n",
        "\n",
        "# creating frozenset from set\n",
        "fset = frozenset({1,2,3,4})\n",
        "print(fset)"
      ],
      "metadata": {
        "colab": {
          "base_uri": "https://localhost:8080/"
        },
        "id": "JisZDehoh0fH",
        "outputId": "1bba5422-74fc-4e3e-d5c6-f26136f9713c"
      },
      "execution_count": 9,
      "outputs": [
        {
          "output_type": "stream",
          "name": "stdout",
          "text": [
            "frozenset({1, 2, 3, 4})\n",
            "frozenset({1, 2, 3, 4})\n"
          ]
        }
      ]
    },
    {
      "cell_type": "code",
      "source": [],
      "metadata": {
        "id": "JmmsE-pEiM22"
      },
      "execution_count": null,
      "outputs": []
    }
  ]
}