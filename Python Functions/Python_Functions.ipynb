{
  "nbformat": 4,
  "nbformat_minor": 0,
  "metadata": {
    "colab": {
      "provenance": []
    },
    "kernelspec": {
      "name": "python3",
      "display_name": "Python 3"
    },
    "language_info": {
      "name": "python"
    }
  },
  "cells": [
    {
      "cell_type": "markdown",
      "source": [
        "## Python def Keyword"
      ],
      "metadata": {
        "id": "Rd0mM_eO7Nu-"
      }
    },
    {
      "cell_type": "code",
      "execution_count": null,
      "metadata": {
        "colab": {
          "base_uri": "https://localhost:8080/"
        },
        "id": "4sbs8WGy7GkK",
        "outputId": "27eb74c1-adb9-4443-8726-974c058391b9"
      },
      "outputs": [
        {
          "output_type": "stream",
          "name": "stdout",
          "text": [
            "Hello\n"
          ]
        }
      ],
      "source": [
        "# defining function\n",
        "def func():\n",
        "  print(\"Hello\")\n",
        "\n",
        "# calling function\n",
        "func()"
      ]
    },
    {
      "cell_type": "markdown",
      "source": [
        "## Create function with the first 10 prime numbers"
      ],
      "metadata": {
        "id": "uepjuiqI9b4s"
      }
    },
    {
      "cell_type": "code",
      "source": [
        "def fun(n):\n",
        "\n",
        "  count = 0\n",
        "  x = 2\n",
        "\n",
        "  while count < n:\n",
        "\n",
        "    for i in range(2, int(x ** 0.5) + 1):\n",
        "      if x % i == 0:\n",
        "        break\n",
        "    else:\n",
        "      print(x)\n",
        "      count += 1\n",
        "    x += 1\n",
        "\n",
        "fun(10)"
      ],
      "metadata": {
        "colab": {
          "base_uri": "https://localhost:8080/"
        },
        "id": "ZKJu_3YS7fir",
        "outputId": "fc525825-0b6b-4afe-eb26-6259972f851c"
      },
      "execution_count": null,
      "outputs": [
        {
          "output_type": "stream",
          "name": "stdout",
          "text": [
            "2\n",
            "3\n",
            "5\n",
            "7\n",
            "11\n",
            "13\n",
            "17\n",
            "19\n",
            "23\n",
            "29\n"
          ]
        }
      ]
    },
    {
      "cell_type": "markdown",
      "source": [
        "## Passing Function as an Argument\n"
      ],
      "metadata": {
        "id": "y-Z7bxBw-Lqy"
      }
    },
    {
      "cell_type": "code",
      "source": [
        "def fun(func, arg):\n",
        "  return func(arg)\n",
        "\n",
        "def square(x):\n",
        "  return x**2\n",
        "\n",
        "print(fun(square, 3))"
      ],
      "metadata": {
        "colab": {
          "base_uri": "https://localhost:8080/"
        },
        "id": "Afp0GhsY95fO",
        "outputId": "27a47b52-3a3f-450b-beac-33d17e50f769"
      },
      "execution_count": null,
      "outputs": [
        {
          "output_type": "stream",
          "name": "stdout",
          "text": [
            "9\n"
          ]
        }
      ]
    },
    {
      "cell_type": "markdown",
      "source": [
        "## Python def keyword example with *args\n"
      ],
      "metadata": {
        "id": "LzekaWhsKv_T"
      }
    },
    {
      "cell_type": "code",
      "source": [
        "def fun(*args):\n",
        "    for arg in args:\n",
        "        print(arg)\n",
        "\n",
        "# Calling the function with multiple arguments\n",
        "fun(1, 2, 3, 4, 5)"
      ],
      "metadata": {
        "colab": {
          "base_uri": "https://localhost:8080/"
        },
        "id": "zLqRQfMo-j2J",
        "outputId": "deb2071e-5b73-471b-d052-9c2a48ab2afe"
      },
      "execution_count": null,
      "outputs": [
        {
          "output_type": "stream",
          "name": "stdout",
          "text": [
            "1\n",
            "2\n",
            "3\n",
            "4\n",
            "5\n"
          ]
        }
      ]
    },
    {
      "cell_type": "markdown",
      "source": [
        "## Python def keyword example with **kwargs"
      ],
      "metadata": {
        "id": "xzTr58C7K1kw"
      }
    },
    {
      "cell_type": "code",
      "source": [
        "def fun(**kwargs):\n",
        "    for k, val in kwargs.items():\n",
        "        print(f\"{k}: {val}\")\n",
        "\n",
        "# Calling the function with keyword arguments\n",
        "fun(name=\"Alice\", age=30, city=\"New York\")"
      ],
      "metadata": {
        "colab": {
          "base_uri": "https://localhost:8080/"
        },
        "id": "ggu8AxrcKz38",
        "outputId": "8a0d0e20-ca53-46e8-ea02-2e8c14e7d40f"
      },
      "execution_count": null,
      "outputs": [
        {
          "output_type": "stream",
          "name": "stdout",
          "text": [
            "name: Alice\n",
            "age: 30\n",
            "city: New York\n"
          ]
        }
      ]
    },
    {
      "cell_type": "markdown",
      "source": [
        "## Python Local Variables"
      ],
      "metadata": {
        "id": "AJyq0dw4QxPJ"
      }
    },
    {
      "cell_type": "code",
      "source": [
        "def greet():\n",
        "    msg = \"Hello from inside the function!\"\n",
        "    print(msg)\n",
        "\n",
        "greet()"
      ],
      "metadata": {
        "colab": {
          "base_uri": "https://localhost:8080/"
        },
        "id": "R-bM6wLPK5pS",
        "outputId": "758daefa-dbee-4044-b04f-829cd2422e8b"
      },
      "execution_count": null,
      "outputs": [
        {
          "output_type": "stream",
          "name": "stdout",
          "text": [
            "Hello from inside the function!\n"
          ]
        }
      ]
    },
    {
      "cell_type": "markdown",
      "source": [
        "## Python Global Variables"
      ],
      "metadata": {
        "id": "TM7almqwQ2uD"
      }
    },
    {
      "cell_type": "code",
      "source": [
        "msg = \"Python is awesome!\"\n",
        "\n",
        "def display():\n",
        "    print(\"Inside function:\", msg)\n",
        "\n",
        "display()\n",
        "print(\"Outside function:\", msg)"
      ],
      "metadata": {
        "colab": {
          "base_uri": "https://localhost:8080/"
        },
        "id": "qu0xqfLKQ0St",
        "outputId": "cda953e7-b355-438e-963b-f3f6339b5f14"
      },
      "execution_count": null,
      "outputs": [
        {
          "output_type": "stream",
          "name": "stdout",
          "text": [
            "Inside function: Python is awesome!\n",
            "Outside function: Python is awesome!\n"
          ]
        }
      ]
    },
    {
      "cell_type": "markdown",
      "source": [
        "## Recursion in Python\n"
      ],
      "metadata": {
        "id": "YH3MVlO1RItk"
      }
    },
    {
      "cell_type": "code",
      "source": [
        "def factorial(n):\n",
        "    if n == 0:\n",
        "        return 1\n",
        "    else:\n",
        "        return n * factorial(n-1)\n",
        "\n",
        "print(factorial(5))"
      ],
      "metadata": {
        "colab": {
          "base_uri": "https://localhost:8080/"
        },
        "id": "wqPSblA-Q45X",
        "outputId": "de19dd59-aa9d-4c7a-bd3d-a605ca020ef2"
      },
      "execution_count": null,
      "outputs": [
        {
          "output_type": "stream",
          "name": "stdout",
          "text": [
            "120\n"
          ]
        }
      ]
    },
    {
      "cell_type": "markdown",
      "source": [
        "## First Class functions in Python"
      ],
      "metadata": {
        "id": "OvoRovjjcXbs"
      }
    },
    {
      "cell_type": "markdown",
      "source": [
        "### 1. Assigning Functions to Variables"
      ],
      "metadata": {
        "id": "JOSHRsPzccGo"
      }
    },
    {
      "cell_type": "code",
      "source": [
        "def msg(name):\n",
        "    return f\"Hello, {name}!\"\n",
        "\n",
        "# Assigning the function to a variable\n",
        "f = msg\n",
        "\n",
        "# Calling the function using the variable\n",
        "print(f(\"Anurag\"))"
      ],
      "metadata": {
        "id": "tgT_DIA9RKVo",
        "colab": {
          "base_uri": "https://localhost:8080/"
        },
        "outputId": "8e022cd8-a5c2-4576-ba1e-378228b99a1b"
      },
      "execution_count": null,
      "outputs": [
        {
          "output_type": "stream",
          "name": "stdout",
          "text": [
            "Hello, Anurag!\n"
          ]
        }
      ]
    },
    {
      "cell_type": "markdown",
      "source": [
        "### 2. Passing Functions as Arguments\n"
      ],
      "metadata": {
        "id": "-ppjt4o8coBU"
      }
    },
    {
      "cell_type": "code",
      "source": [
        "def msg(name):\n",
        "    return f\"Hello, {name}!\"\n",
        "\n",
        "def fun1(fun2, name):\n",
        "    return fun2(name)\n",
        "\n",
        "# Passing the greet function as an argument\n",
        "print(fun1(msg, \"Bob\"))"
      ],
      "metadata": {
        "colab": {
          "base_uri": "https://localhost:8080/"
        },
        "id": "G0PCwGbCcmC6",
        "outputId": "4195e033-5168-45e2-cec9-ef4c1e510765"
      },
      "execution_count": null,
      "outputs": [
        {
          "output_type": "stream",
          "name": "stdout",
          "text": [
            "Hello, Bob!\n"
          ]
        }
      ]
    },
    {
      "cell_type": "markdown",
      "source": [
        "### 3. Returning Functions from Other Functions\n"
      ],
      "metadata": {
        "id": "o4u6SzJLcxzE"
      }
    },
    {
      "cell_type": "code",
      "source": [
        "def fun1(msg):\n",
        "    def fun2():\n",
        "        return f\"Message: {msg}\"\n",
        "    return fun2\n",
        "\n",
        "# Getting the inner function\n",
        "func = fun1(\"Hello, World!\")\n",
        "print(func())"
      ],
      "metadata": {
        "colab": {
          "base_uri": "https://localhost:8080/"
        },
        "id": "IU-7Suj_cup1",
        "outputId": "33f87d6c-3d61-4589-c0d9-5fcb3feef411"
      },
      "execution_count": null,
      "outputs": [
        {
          "output_type": "stream",
          "name": "stdout",
          "text": [
            "Message: Hello, World!\n"
          ]
        }
      ]
    },
    {
      "cell_type": "markdown",
      "source": [
        "### 4. Storing Functions in Data Structures\n"
      ],
      "metadata": {
        "id": "159fX6qhc7ep"
      }
    },
    {
      "cell_type": "code",
      "source": [
        "def add(x, y):\n",
        "    return x + y\n",
        "\n",
        "def subtract(x, y):\n",
        "    return x - y\n",
        "\n",
        "# Storing functions in a dictionary\n",
        "d = {\n",
        "    \"add\": add,\n",
        "    \"subtract\": subtract\n",
        "}\n",
        "\n",
        "# Calling functions from the dictionary\n",
        "print(d[\"add\"](5, 3))\n",
        "print(d[\"subtract\"](5, 3))"
      ],
      "metadata": {
        "colab": {
          "base_uri": "https://localhost:8080/"
        },
        "id": "HHbM74wXcqxD",
        "outputId": "c5163938-fcb7-44ff-dd3d-b8685e3bfd9c"
      },
      "execution_count": null,
      "outputs": [
        {
          "output_type": "stream",
          "name": "stdout",
          "text": [
            "8\n",
            "2\n"
          ]
        }
      ]
    },
    {
      "cell_type": "markdown",
      "source": [
        "##  Python Lambda Functions"
      ],
      "metadata": {
        "id": "5KNhKFfne9kt"
      }
    },
    {
      "cell_type": "code",
      "source": [
        "a = 'mayank kathane'\n",
        "b = lambda func: func.upper()\n",
        "print(b(a))"
      ],
      "metadata": {
        "colab": {
          "base_uri": "https://localhost:8080/"
        },
        "id": "06TD-hD-c9qi",
        "outputId": "1d2fc165-d257-4fd6-8bfc-49ebedec65c4"
      },
      "execution_count": null,
      "outputs": [
        {
          "output_type": "stream",
          "name": "stdout",
          "text": [
            "MAYANK KATHANE\n"
          ]
        }
      ]
    },
    {
      "cell_type": "markdown",
      "source": [
        "## Python map() function\n"
      ],
      "metadata": {
        "id": "-nvaZYdDhd-J"
      }
    },
    {
      "cell_type": "code",
      "source": [
        "def square(num):\n",
        "  return num*num\n",
        "\n",
        "numbers = [1,2,3,4,5]\n",
        "result = map(square, numbers)\n",
        "print(list(result))"
      ],
      "metadata": {
        "colab": {
          "base_uri": "https://localhost:8080/"
        },
        "id": "CZnw8kdMfPaj",
        "outputId": "e2d8666f-0447-4aa7-f0fa-a1a6dfaff7b0"
      },
      "execution_count": null,
      "outputs": [
        {
          "output_type": "stream",
          "name": "stdout",
          "text": [
            "[1, 4, 9, 16, 25]\n"
          ]
        }
      ]
    },
    {
      "cell_type": "markdown",
      "source": [
        "##reduce() in Python\n"
      ],
      "metadata": {
        "id": "178LHUBhrU0a"
      }
    },
    {
      "cell_type": "code",
      "source": [
        "from functools import reduce\n",
        "numbers = [1,2,3,4]\n",
        "result = reduce(lambda x,y: x+y, numbers)\n",
        "print(result)\n"
      ],
      "metadata": {
        "colab": {
          "base_uri": "https://localhost:8080/"
        },
        "id": "O2LY3bJxhs0z",
        "outputId": "8422d94d-930a-41e8-99ad-6ca66ba6bbf5"
      },
      "execution_count": null,
      "outputs": [
        {
          "output_type": "stream",
          "name": "stdout",
          "text": [
            "10\n"
          ]
        }
      ]
    },
    {
      "cell_type": "code",
      "source": [
        "from functools import reduce\n",
        "\n",
        "numbers = [1, 2, 3, 4]\n",
        "result = reduce(lambda x, y: x + y, numbers, 10)\n",
        "print(result)  # Output: 20 (10 + 1 + 2 + 3 + 4)"
      ],
      "metadata": {
        "colab": {
          "base_uri": "https://localhost:8080/"
        },
        "id": "96tiPVwvrmYl",
        "outputId": "f634d400-7ece-4e09-dec3-23f57e6be5e9"
      },
      "execution_count": null,
      "outputs": [
        {
          "output_type": "stream",
          "name": "stdout",
          "text": [
            "20\n"
          ]
        }
      ]
    },
    {
      "cell_type": "code",
      "source": [
        "numbers = [1, 2, 3, 4]\n",
        "result = reduce(lambda x,y: x if x>y else y, numbers)\n",
        "print(result)\n"
      ],
      "metadata": {
        "colab": {
          "base_uri": "https://localhost:8080/"
        },
        "id": "vGhvB_Jvrs9n",
        "outputId": "72739dc4-1df9-4932-a0ca-1fad5a0aafe8"
      },
      "execution_count": null,
      "outputs": [
        {
          "output_type": "stream",
          "name": "stdout",
          "text": [
            "4\n"
          ]
        }
      ]
    },
    {
      "cell_type": "markdown",
      "source": [
        "## filter() in python"
      ],
      "metadata": {
        "id": "Nu-Wx_0du7gX"
      }
    },
    {
      "cell_type": "code",
      "source": [
        "def even(n):\n",
        "  return n%2 == 0\n",
        "\n",
        "a = [1,2,3,4,5,6]\n",
        "result = filter(even, a)\n",
        "print(list(result))"
      ],
      "metadata": {
        "colab": {
          "base_uri": "https://localhost:8080/"
        },
        "id": "CZ6NbaFPsBfH",
        "outputId": "4a04278f-04a8-4208-dcff-0eeff67e8f6e"
      },
      "execution_count": null,
      "outputs": [
        {
          "output_type": "stream",
          "name": "stdout",
          "text": [
            "[2, 4, 6]\n"
          ]
        }
      ]
    },
    {
      "cell_type": "code",
      "source": [
        "result = filter(lambda x: x>3, a)\n",
        "print(list(result))"
      ],
      "metadata": {
        "colab": {
          "base_uri": "https://localhost:8080/"
        },
        "id": "aQQYy9K4vFBl",
        "outputId": "ad34e821-6260-43e6-8ee4-01c5d507472e"
      },
      "execution_count": null,
      "outputs": [
        {
          "output_type": "stream",
          "name": "stdout",
          "text": [
            "[4, 5, 6]\n"
          ]
        }
      ]
    },
    {
      "cell_type": "markdown",
      "source": [
        "## Python Inner Functions"
      ],
      "metadata": {
        "id": "TCOqGHZdzqJU"
      }
    },
    {
      "cell_type": "code",
      "source": [
        "def func1(msg):\n",
        "  def func2():\n",
        "    print(msg)\n",
        "\n",
        "  func2()\n",
        "\n",
        "func1(\"Hello\")"
      ],
      "metadata": {
        "id": "9OXc7KsjvPOe",
        "colab": {
          "base_uri": "https://localhost:8080/"
        },
        "outputId": "bfebbeaf-4b41-404f-9e48-550edc4b5a42"
      },
      "execution_count": 4,
      "outputs": [
        {
          "output_type": "stream",
          "name": "stdout",
          "text": [
            "Hello\n"
          ]
        }
      ]
    },
    {
      "cell_type": "code",
      "source": [
        "def fun1(): # outer function\n",
        "    msg = \"Geeks for geeks\"\n",
        "\n",
        "    def fun2(): # inner function\n",
        "        print(msg)  # accessing outer function's variable\n",
        "\n",
        "    fun2()\n",
        "fun1()"
      ],
      "metadata": {
        "colab": {
          "base_uri": "https://localhost:8080/"
        },
        "id": "4cxWxME20CnF",
        "outputId": "00fa44ad-5eb0-479a-d163-3ea29879137c"
      },
      "execution_count": 5,
      "outputs": [
        {
          "output_type": "stream",
          "name": "stdout",
          "text": [
            "Geeks for geeks\n"
          ]
        }
      ]
    },
    {
      "cell_type": "code",
      "source": [],
      "metadata": {
        "id": "H_b9rfP70Po9"
      },
      "execution_count": null,
      "outputs": []
    }
  ]
}