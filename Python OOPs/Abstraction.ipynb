{
  "nbformat": 4,
  "nbformat_minor": 0,
  "metadata": {
    "colab": {
      "provenance": []
    },
    "kernelspec": {
      "name": "python3",
      "display_name": "Python 3"
    },
    "language_info": {
      "name": "python"
    }
  },
  "cells": [
    {
      "cell_type": "markdown",
      "source": [
        "## 1. Abstract Base Classes (ABCs)"
      ],
      "metadata": {
        "id": "13bO86TG6GHa"
      }
    },
    {
      "cell_type": "code",
      "execution_count": 1,
      "metadata": {
        "colab": {
          "base_uri": "https://localhost:8080/"
        },
        "id": "oEB_8LbQ5_qw",
        "outputId": "ee3d264f-a794-40fb-9463-44d5e802f113"
      },
      "outputs": [
        {
          "output_type": "stream",
          "name": "stdout",
          "text": [
            "12\n",
            "14\n"
          ]
        }
      ],
      "source": [
        "from abc import ABC, abstractmethod\n",
        "\n",
        "class Shape(ABC):\n",
        "  @abstractmethod\n",
        "  def area(self):\n",
        "    pass\n",
        "\n",
        "  @abstractmethod\n",
        "  def perimeter(self):\n",
        "    pass\n",
        "\n",
        "class Rectangle(Shape):\n",
        "  def __init__(self, width, height):\n",
        "    self.width = width\n",
        "    self.height = height\n",
        "\n",
        "  def area(self):\n",
        "    return self.width * self.height\n",
        "\n",
        "  def perimeter(self):\n",
        "    return 2 * (self.width + self.height)\n",
        "\n",
        "rect = Rectangle(4,3)\n",
        "print(rect.area())\n",
        "print(rect.perimeter())"
      ]
    },
    {
      "cell_type": "markdown",
      "source": [
        "## 2. Encapsulation for Abstraction"
      ],
      "metadata": {
        "id": "nzuJ8Dzb-IlH"
      }
    },
    {
      "cell_type": "code",
      "source": [
        "class BankAccount:\n",
        "  def __init__(self, owner, balance):\n",
        "    self.owner = owner\n",
        "    self.__balance = balance # private attribute\n",
        "\n",
        "  @property\n",
        "  def balance(self): # public interface to access balance\n",
        "    return self.__balance\n",
        "\n",
        "  def deposit(self, amount):\n",
        "    if amount > 0:\n",
        "      self.__balance += amount\n",
        "      return f\"Deposited {amount}\"\n",
        "    return \"Invalid amount\"\n",
        "\n",
        "  def withdraw(self, amount):\n",
        "    if 0 < amount <= self.__balance:\n",
        "      self.__balance -= amount\n",
        "      return f\"Withdrew {amount}\"\n",
        "    return \"Insufficient funds\"\n",
        "\n",
        "account = BankAccount(\"John Doe\", 1000)\n",
        "print(account.balance)\n",
        "print(account.deposit(500))\n",
        "print(account.withdraw(200))\n",
        "print(account.balance)"
      ],
      "metadata": {
        "colab": {
          "base_uri": "https://localhost:8080/"
        },
        "id": "42VFTuZr7jJG",
        "outputId": "2211daf5-cb49-4c38-c021-589ca2b3e567"
      },
      "execution_count": 2,
      "outputs": [
        {
          "output_type": "stream",
          "name": "stdout",
          "text": [
            "1000\n",
            "Deposited 500\n",
            "Withdrew 200\n",
            "1300\n"
          ]
        }
      ]
    },
    {
      "cell_type": "markdown",
      "source": [
        "## 3. Interfaces via Abstract Methods"
      ],
      "metadata": {
        "id": "7b07Dxc0DWlb"
      }
    },
    {
      "cell_type": "code",
      "source": [
        "from abc import ABC, abstractmethod\n",
        "\n",
        "class Worker(ABC):\n",
        "    @abstractmethod\n",
        "    def do_work(self):\n",
        "        pass\n",
        "\n",
        "class Developer(Worker):\n",
        "    def do_work(self):\n",
        "        return \"Writing code\"\n",
        "\n",
        "class Designer(Worker):\n",
        "    def do_work(self):\n",
        "        return \"Creating designs\"\n",
        "\n",
        "workers = [Developer(), Designer()]\n",
        "for worker in workers:\n",
        "    print(worker.do_work())  # Output: Writing code, Creating designs"
      ],
      "metadata": {
        "colab": {
          "base_uri": "https://localhost:8080/"
        },
        "id": "7aXCDZrCDP5g",
        "outputId": "b9bd646e-a582-439f-eb88-f3312588ed1f"
      },
      "execution_count": 3,
      "outputs": [
        {
          "output_type": "stream",
          "name": "stdout",
          "text": [
            "Writing code\n",
            "Creating designs\n"
          ]
        }
      ]
    },
    {
      "cell_type": "code",
      "source": [],
      "metadata": {
        "id": "88FEzaLODbd6"
      },
      "execution_count": null,
      "outputs": []
    }
  ]
}