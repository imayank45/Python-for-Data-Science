{
  "nbformat": 4,
  "nbformat_minor": 0,
  "metadata": {
    "colab": {
      "provenance": []
    },
    "kernelspec": {
      "name": "python3",
      "display_name": "Python 3"
    },
    "language_info": {
      "name": "python"
    }
  },
  "cells": [
    {
      "cell_type": "markdown",
      "source": [
        "## 1. Public Attributes and Methods"
      ],
      "metadata": {
        "id": "ZrtxyIdyfdvh"
      }
    },
    {
      "cell_type": "code",
      "execution_count": 1,
      "metadata": {
        "colab": {
          "base_uri": "https://localhost:8080/"
        },
        "id": "d4cQ68sGfTxJ",
        "outputId": "7257cc1d-a32c-4928-e6d1-91140ee6081a"
      },
      "outputs": [
        {
          "output_type": "stream",
          "name": "stdout",
          "text": [
            "Alice\n",
            "Hello, my name is Alice.\n"
          ]
        }
      ],
      "source": [
        "class Person:\n",
        "  def __init__(self, name):\n",
        "    self.name = name\n",
        "\n",
        "  def introduce(self):\n",
        "    return f\"Hello, my name is {self.name}.\"\n",
        "\n",
        "person = Person(\"Alice\")\n",
        "print(person.name)\n",
        "print(person.introduce())"
      ]
    },
    {
      "cell_type": "markdown",
      "source": [
        "## 2. Protected Attributes and Methods"
      ],
      "metadata": {
        "id": "PqoJ5J0IiH5Y"
      }
    },
    {
      "cell_type": "code",
      "source": [
        "class Car:\n",
        "  def __init__(self, model):\n",
        "    self._model = model # protected attribute\n",
        "\n",
        "  def _get_info(self): # protected method\n",
        "    return f\"Model: {self._model}\"\n",
        "\n",
        "class SportsCar(Car):\n",
        "  def show_info(self):\n",
        "    return self._get_info()\n",
        "\n",
        "car = Car('Toyota')\n",
        "sports = SportsCar('Ferrari')\n",
        "print(car._model)\n",
        "print(sports.show_info())"
      ],
      "metadata": {
        "colab": {
          "base_uri": "https://localhost:8080/"
        },
        "id": "eWih1sqVf5lR",
        "outputId": "bfe93087-c9d5-47f9-e00b-be9d9c0404b5"
      },
      "execution_count": 2,
      "outputs": [
        {
          "output_type": "stream",
          "name": "stdout",
          "text": [
            "Toyota\n",
            "Model: Ferrari\n"
          ]
        }
      ]
    },
    {
      "cell_type": "markdown",
      "source": [
        "## 3. Private Attributes and Methods"
      ],
      "metadata": {
        "id": "WLYs1hv-mTFC"
      }
    },
    {
      "cell_type": "code",
      "source": [
        "class BankAccount:\n",
        "    def __init__(self, owner, balance):\n",
        "        self.owner = owner\n",
        "        self.__balance = balance  # Private attribute\n",
        "\n",
        "    def __adjust_balance(self, amount):  # Private method\n",
        "        self.__balance += amount\n",
        "\n",
        "    def deposit(self, amount):  # Public interface\n",
        "        if amount > 0:\n",
        "            self.__adjust_balance(amount)\n",
        "            return f\"Deposited {amount}\"\n",
        "        return \"Invalid amount\"\n",
        "\n",
        "    def get_balance(self):  # Public interface\n",
        "        return self.__balance\n",
        "\n",
        "account = BankAccount(\"Bob\", 1000)\n",
        "print(account.deposit(500))    # Output: Deposited 500\n",
        "print(account.get_balance())   # Output: 1500\n",
        "print(account.__balance)"
      ],
      "metadata": {
        "colab": {
          "base_uri": "https://localhost:8080/",
          "height": 211
        },
        "id": "vta8GtnWjT4D",
        "outputId": "913bc470-bcb5-4d00-8e39-dddf07c301e6"
      },
      "execution_count": 3,
      "outputs": [
        {
          "output_type": "stream",
          "name": "stdout",
          "text": [
            "Deposited 500\n",
            "1500\n"
          ]
        },
        {
          "output_type": "error",
          "ename": "AttributeError",
          "evalue": "'BankAccount' object has no attribute '__balance'",
          "traceback": [
            "\u001b[0;31m---------------------------------------------------------------------------\u001b[0m",
            "\u001b[0;31mAttributeError\u001b[0m                            Traceback (most recent call last)",
            "\u001b[0;32m<ipython-input-3-1645268644>\u001b[0m in \u001b[0;36m<cell line: 0>\u001b[0;34m()\u001b[0m\n\u001b[1;32m     19\u001b[0m \u001b[0mprint\u001b[0m\u001b[0;34m(\u001b[0m\u001b[0maccount\u001b[0m\u001b[0;34m.\u001b[0m\u001b[0mdeposit\u001b[0m\u001b[0;34m(\u001b[0m\u001b[0;36m500\u001b[0m\u001b[0;34m)\u001b[0m\u001b[0;34m)\u001b[0m    \u001b[0;31m# Output: Deposited 500\u001b[0m\u001b[0;34m\u001b[0m\u001b[0;34m\u001b[0m\u001b[0m\n\u001b[1;32m     20\u001b[0m \u001b[0mprint\u001b[0m\u001b[0;34m(\u001b[0m\u001b[0maccount\u001b[0m\u001b[0;34m.\u001b[0m\u001b[0mget_balance\u001b[0m\u001b[0;34m(\u001b[0m\u001b[0;34m)\u001b[0m\u001b[0;34m)\u001b[0m   \u001b[0;31m# Output: 1500\u001b[0m\u001b[0;34m\u001b[0m\u001b[0;34m\u001b[0m\u001b[0m\n\u001b[0;32m---> 21\u001b[0;31m \u001b[0mprint\u001b[0m\u001b[0;34m(\u001b[0m\u001b[0maccount\u001b[0m\u001b[0;34m.\u001b[0m\u001b[0m__balance\u001b[0m\u001b[0;34m)\u001b[0m\u001b[0;34m\u001b[0m\u001b[0;34m\u001b[0m\u001b[0m\n\u001b[0m",
            "\u001b[0;31mAttributeError\u001b[0m: 'BankAccount' object has no attribute '__balance'"
          ]
        }
      ]
    },
    {
      "cell_type": "code",
      "source": [],
      "metadata": {
        "id": "TFaeqjG-mN4u"
      },
      "execution_count": null,
      "outputs": []
    }
  ]
}