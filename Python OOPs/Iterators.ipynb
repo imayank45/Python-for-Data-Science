{
  "nbformat": 4,
  "nbformat_minor": 0,
  "metadata": {
    "colab": {
      "provenance": []
    },
    "kernelspec": {
      "name": "python3",
      "display_name": "Python 3"
    },
    "language_info": {
      "name": "python"
    }
  },
  "cells": [
    {
      "cell_type": "markdown",
      "source": [
        "## Python iter() Example"
      ],
      "metadata": {
        "id": "Peh3MFwYPQXf"
      }
    },
    {
      "cell_type": "code",
      "execution_count": 2,
      "metadata": {
        "colab": {
          "base_uri": "https://localhost:8080/"
        },
        "id": "dOFFW6RuPHHt",
        "outputId": "4b347695-b2f1-4563-ae65-2c4685fde87b"
      },
      "outputs": [
        {
          "output_type": "stream",
          "name": "stdout",
          "text": [
            "m\n",
            "a\n",
            "y\n",
            "a\n",
            "n\n",
            "k\n"
          ]
        }
      ],
      "source": [
        "s = 'mayank'\n",
        "it = iter(s)\n",
        "print(next(it))\n",
        "print(next(it))\n",
        "print(next(it))\n",
        "print(next(it))\n",
        "print(next(it))\n",
        "print(next(it))\n"
      ]
    },
    {
      "cell_type": "markdown",
      "source": [
        "## Creating an iterator"
      ],
      "metadata": {
        "id": "4vTFEfJOPf7h"
      }
    },
    {
      "cell_type": "code",
      "source": [
        "class EvenNumbers:\n",
        "\n",
        "  def __iter__(self):\n",
        "    self.n = 2\n",
        "    return self\n",
        "\n",
        "  def __next__(self):\n",
        "    n = self.n\n",
        "    self.n += 2\n",
        "    return n\n",
        "\n",
        "# create an instance of EvenNumbers\n",
        "even = EvenNumbers()\n",
        "it = iter(even)\n",
        "print(next(it))\n",
        "print(next(it))\n",
        "print(next(it))\n",
        "print(next(it))\n",
        "print(next(it))"
      ],
      "metadata": {
        "colab": {
          "base_uri": "https://localhost:8080/"
        },
        "id": "IP4ZbSWbPbCP",
        "outputId": "5ff80504-8101-4597-c4e3-d6be76150f83"
      },
      "execution_count": 4,
      "outputs": [
        {
          "output_type": "stream",
          "name": "stdout",
          "text": [
            "2\n",
            "4\n",
            "6\n",
            "8\n",
            "10\n"
          ]
        }
      ]
    },
    {
      "cell_type": "code",
      "source": [],
      "metadata": {
        "id": "yL5NgbUHQPj4"
      },
      "execution_count": null,
      "outputs": []
    }
  ]
}