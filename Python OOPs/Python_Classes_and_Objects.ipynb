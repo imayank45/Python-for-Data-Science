{
  "nbformat": 4,
  "nbformat_minor": 0,
  "metadata": {
    "colab": {
      "provenance": []
    },
    "kernelspec": {
      "name": "python3",
      "display_name": "Python 3"
    },
    "language_info": {
      "name": "python"
    }
  },
  "cells": [
    {
      "cell_type": "markdown",
      "source": [
        "## Create a class and object"
      ],
      "metadata": {
        "id": "GZ4jdx8VkiIG"
      }
    },
    {
      "cell_type": "code",
      "execution_count": null,
      "metadata": {
        "colab": {
          "base_uri": "https://localhost:8080/",
          "height": 35
        },
        "id": "PbEiei1-kbjJ",
        "outputId": "59dd3549-33d6-4ace-e70e-d22cddf8455c"
      },
      "outputs": [
        {
          "output_type": "execute_result",
          "data": {
            "text/plain": [
              "'bark'"
            ],
            "application/vnd.google.colaboratory.intrinsic+json": {
              "type": "string"
            }
          },
          "metadata": {},
          "execution_count": 1
        }
      ],
      "source": [
        "# create a class\n",
        "class Dog:\n",
        "  sound = \"bark\"\n",
        "\n",
        "# create an object from class\n",
        "dog = Dog()\n",
        "dog.sound"
      ]
    },
    {
      "cell_type": "markdown",
      "source": [
        "## Using __init__() Function"
      ],
      "metadata": {
        "id": "0FekxPrrCV7X"
      }
    },
    {
      "cell_type": "code",
      "source": [
        "class Dog:\n",
        "  species = 'Canine'\n",
        "\n",
        "  def __init__(self, name, age):\n",
        "    self.age = age\n",
        "    self.name = name\n",
        "\n",
        "# create an object of Dog class\n",
        "dog = Dog('Tom', 6)\n",
        "\n",
        "print(dog.name, dog.age)\n",
        "print(dog.species)"
      ],
      "metadata": {
        "id": "Ys1Bn4Esk6k8",
        "colab": {
          "base_uri": "https://localhost:8080/"
        },
        "outputId": "c2057282-e3db-4d16-dd8b-8028b514e309"
      },
      "execution_count": 3,
      "outputs": [
        {
          "output_type": "stream",
          "name": "stdout",
          "text": [
            "Tom 6\n",
            "Canine\n"
          ]
        }
      ]
    },
    {
      "cell_type": "markdown",
      "source": [
        "## Self Parameter"
      ],
      "metadata": {
        "id": "BynyxCOnF2Gr"
      }
    },
    {
      "cell_type": "code",
      "source": [
        "class Dog:\n",
        "\n",
        "  def __init__(self, name, age):\n",
        "    self.age = age\n",
        "    self.name = name\n",
        "\n",
        "  def get_name(self):\n",
        "    print(f\"{self.name} is barking\")\n",
        "\n",
        "# create an instance of Dog\n",
        "dog = Dog('Tom', 6)\n",
        "\n",
        "dog.get_name()"
      ],
      "metadata": {
        "colab": {
          "base_uri": "https://localhost:8080/"
        },
        "id": "atZF4HusDRxZ",
        "outputId": "f9242639-8c00-414e-b497-efa5836bc2c8"
      },
      "execution_count": 4,
      "outputs": [
        {
          "output_type": "stream",
          "name": "stdout",
          "text": [
            "Tom is barking\n"
          ]
        }
      ]
    },
    {
      "cell_type": "markdown",
      "source": [
        "## __str__ Method"
      ],
      "metadata": {
        "id": "TLfh-r7-GbJc"
      }
    },
    {
      "cell_type": "code",
      "source": [
        "class Dog:\n",
        "\n",
        "  def __init__(self, name, age):\n",
        "    self.age = age\n",
        "    self.name = name\n",
        "\n",
        "  def __str__(self):\n",
        "    return f\"{self.name} is {self.age} years old\"\n",
        "\n",
        "dog1 = Dog('Tom', 6)\n",
        "print(dog1)\n",
        "\n",
        "dog2 = Dog('Fletcher', 7)\n",
        "print(dog2)"
      ],
      "metadata": {
        "colab": {
          "base_uri": "https://localhost:8080/"
        },
        "id": "kwoFBSaUGLwr",
        "outputId": "a5fca9dc-1bd2-4242-897b-fbb833b02d52"
      },
      "execution_count": 6,
      "outputs": [
        {
          "output_type": "stream",
          "name": "stdout",
          "text": [
            "Tom is 6 years old\n",
            "Fletcher is 7 years old\n"
          ]
        }
      ]
    },
    {
      "cell_type": "markdown",
      "source": [
        "## Class and Instance Variables in Python\n"
      ],
      "metadata": {
        "id": "UHxjyW75HKLm"
      }
    },
    {
      "cell_type": "code",
      "source": [
        "class Dog:\n",
        "\n",
        "  # class variable\n",
        "  species = 'Canine'\n",
        "\n",
        "  def __init__(self, name, age):\n",
        "    # instance variable\n",
        "    self.age = age\n",
        "    self.name = name\n",
        "\n",
        "# creating objects\n",
        "dog1 = Dog('Tom', 6)\n",
        "dog2 = Dog('Fletcher', 7)\n",
        "\n",
        "# access class and instance variables\n",
        "print(dog1.name, dog1.age, dog1.species)\n",
        "print(dog2.name, dog2.age, dog2.species)\n",
        "\n",
        "\n",
        "# modify instance variable\n",
        "dog1.name = 'Max'\n",
        "print(dog1.name, dog1.age, dog1.species)\n",
        "\n",
        "# modify class variable\n",
        "Dog.species = 'Felis catus'\n",
        "print(dog1.name, dog1.age, dog1.species)\n",
        "print(dog2.name, dog2.age, dog2.species)"
      ],
      "metadata": {
        "colab": {
          "base_uri": "https://localhost:8080/"
        },
        "id": "nVvJqULBGj4M",
        "outputId": "db647343-1f27-4349-cb47-7a87775936c6"
      },
      "execution_count": 10,
      "outputs": [
        {
          "output_type": "stream",
          "name": "stdout",
          "text": [
            "Tom 6 Canine\n",
            "Fletcher 7 Canine\n",
            "Max 6 Canine\n",
            "Max 6 Felis catus\n",
            "Fletcher 7 Felis catus\n"
          ]
        }
      ]
    },
    {
      "cell_type": "code",
      "source": [],
      "metadata": {
        "id": "YgUhx2oOIMwo"
      },
      "execution_count": null,
      "outputs": []
    }
  ]
}