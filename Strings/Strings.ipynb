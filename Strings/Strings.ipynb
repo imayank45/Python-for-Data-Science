{
  "nbformat": 4,
  "nbformat_minor": 0,
  "metadata": {
    "colab": {
      "provenance": []
    },
    "kernelspec": {
      "name": "python3",
      "display_name": "Python 3"
    },
    "language_info": {
      "name": "python"
    }
  },
  "cells": [
    {
      "cell_type": "markdown",
      "source": [
        "# String Reversal"
      ],
      "metadata": {
        "id": "twTJ7oj7NFSj"
      }
    },
    {
      "cell_type": "markdown",
      "source": [
        "## 1. Slicing"
      ],
      "metadata": {
        "id": "aX1gUZnvNIu2"
      }
    },
    {
      "cell_type": "code",
      "execution_count": null,
      "metadata": {
        "colab": {
          "base_uri": "https://localhost:8080/"
        },
        "id": "dfpchVYANCHK",
        "outputId": "a55b5a06-1869-4061-d35f-20f1083ad2f5"
      },
      "outputs": [
        {
          "output_type": "stream",
          "name": "stdout",
          "text": [
            "knayam\n"
          ]
        }
      ],
      "source": [
        "s = 'mayank'\n",
        "reverse_s = s[::-1]\n",
        "print(reverse_s)"
      ]
    },
    {
      "cell_type": "markdown",
      "source": [
        "## 2. Append characters from end"
      ],
      "metadata": {
        "id": "nLL-0BF0NZAm"
      }
    },
    {
      "cell_type": "code",
      "source": [
        "s = 'mayank'\n",
        "reverse_s = ''\n",
        "\n",
        "for i in range(len(s)-1, -1, -1):\n",
        "  reverse_s += s[i]\n",
        "\n",
        "print(reverse_s)"
      ],
      "metadata": {
        "colab": {
          "base_uri": "https://localhost:8080/"
        },
        "id": "_LhrdK7tNYTb",
        "outputId": "a07c5d5e-6394-40ed-a77f-0ea7254a7a1c"
      },
      "execution_count": null,
      "outputs": [
        {
          "output_type": "stream",
          "name": "stdout",
          "text": [
            "knayam\n"
          ]
        }
      ]
    },
    {
      "cell_type": "markdown",
      "source": [
        "## 3. Prepend characters"
      ],
      "metadata": {
        "id": "fynPFwUPOD-I"
      }
    },
    {
      "cell_type": "code",
      "source": [
        "s = 'mayank'\n",
        "reverse_s = ''\n",
        "\n",
        "for char in s:\n",
        "  reverse_s = char + reverse_s\n",
        "\n",
        "print(reverse_s)"
      ],
      "metadata": {
        "colab": {
          "base_uri": "https://localhost:8080/"
        },
        "id": "O9ooD_BFN3gj",
        "outputId": "d85020ce-1d4c-4644-ec9a-4d3c0b687310"
      },
      "execution_count": null,
      "outputs": [
        {
          "output_type": "stream",
          "name": "stdout",
          "text": [
            "knayam\n"
          ]
        }
      ]
    },
    {
      "cell_type": "markdown",
      "source": [
        "## 4. Convert to list (swap with two pointers)"
      ],
      "metadata": {
        "id": "CC9IvAusOd3l"
      }
    },
    {
      "cell_type": "code",
      "source": [
        "s = 'mayank'\n",
        "s_list = list(s)\n",
        "left, right = 0, len(s) - 1\n",
        "\n",
        "while left < right:\n",
        "  s_list[left], s_list[right] = s_list[right], s_list[left]\n",
        "  left += 1\n",
        "  right -= 1\n",
        "\n",
        "s_reverse = ''.join(s_list)\n",
        "print(s_reverse)"
      ],
      "metadata": {
        "colab": {
          "base_uri": "https://localhost:8080/"
        },
        "id": "MZxYfSp5OUnG",
        "outputId": "583dcbd4-c46a-47df-ff92-1f2b79125213"
      },
      "execution_count": null,
      "outputs": [
        {
          "output_type": "stream",
          "name": "stdout",
          "text": [
            "knayam\n"
          ]
        }
      ]
    },
    {
      "cell_type": "markdown",
      "source": [
        "# Palindrome Check"
      ],
      "metadata": {
        "id": "dSMSSYmcPWtx"
      }
    },
    {
      "cell_type": "code",
      "source": [
        "def check_palindrome(s):\n",
        "  return s == s[::-1]\n",
        "\n",
        "s = 'mayank'\n",
        "print(check_palindrome(s))"
      ],
      "metadata": {
        "colab": {
          "base_uri": "https://localhost:8080/"
        },
        "id": "3Tf0UD6-PJXG",
        "outputId": "09219e1b-230e-4aa7-c924-45e631fe469a"
      },
      "execution_count": null,
      "outputs": [
        {
          "output_type": "stream",
          "name": "stdout",
          "text": [
            "False\n"
          ]
        }
      ]
    },
    {
      "cell_type": "markdown",
      "source": [
        "# Anagrams"
      ],
      "metadata": {
        "id": "77PvkTCYQJS5"
      }
    },
    {
      "cell_type": "markdown",
      "source": [
        "## 1. Using Counter from collections"
      ],
      "metadata": {
        "id": "0EHGWr2CQSYT"
      }
    },
    {
      "cell_type": "code",
      "source": [
        "from collections import Counter\n",
        "\n",
        "def is_anagram(s1, s2):\n",
        "  return Counter(s1) == Counter(s2)\n",
        "\n",
        "print(is_anagram('listen', 'silent'))\n",
        "print(is_anagram(\"hello\", \"world\"))"
      ],
      "metadata": {
        "colab": {
          "base_uri": "https://localhost:8080/"
        },
        "id": "zR0EYpIePoDo",
        "outputId": "19544405-36fa-427e-f3c8-087fc0180aa5"
      },
      "execution_count": null,
      "outputs": [
        {
          "output_type": "stream",
          "name": "stdout",
          "text": [
            "True\n",
            "False\n"
          ]
        }
      ]
    },
    {
      "cell_type": "markdown",
      "source": [
        "## 2. Sorting Method"
      ],
      "metadata": {
        "id": "lKl372GpQyua"
      }
    },
    {
      "cell_type": "code",
      "source": [
        "def is_anagrams(s1, s2):\n",
        "  return sorted(s1) == sorted(s2)\n",
        "\n",
        "print(is_anagrams('listen', 'silent'))\n",
        "print(is_anagrams(\"hello\", \"world\"))"
      ],
      "metadata": {
        "colab": {
          "base_uri": "https://localhost:8080/"
        },
        "id": "DBWfneiWQqmH",
        "outputId": "56778889-8b0c-42aa-f445-bccf7a91070f"
      },
      "execution_count": null,
      "outputs": [
        {
          "output_type": "stream",
          "name": "stdout",
          "text": [
            "True\n",
            "False\n"
          ]
        }
      ]
    },
    {
      "cell_type": "code",
      "source": [],
      "metadata": {
        "id": "5xruVVSVRKp3"
      },
      "execution_count": null,
      "outputs": []
    }
  ]
}