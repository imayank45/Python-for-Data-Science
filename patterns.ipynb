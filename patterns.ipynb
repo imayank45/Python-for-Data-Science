{
 "cells": [
  {
   "cell_type": "markdown",
   "id": "47c1f49f",
   "metadata": {},
   "source": [
    "## 1. Traingle"
   ]
  },
  {
   "cell_type": "code",
   "execution_count": 2,
   "id": "d4c766d5",
   "metadata": {},
   "outputs": [
    {
     "name": "stdout",
     "output_type": "stream",
     "text": [
      "    *\n",
      "   ***\n",
      "  *****\n",
      " *******\n",
      "*********\n"
     ]
    }
   ],
   "source": [
    "rows = 5\n",
    "for i in range(1, rows + 1):\n",
    "    print(\" \" * (rows - i) + \"*\" * (2*i - 1))"
   ]
  },
  {
   "cell_type": "markdown",
   "id": "f721aa40",
   "metadata": {},
   "source": [
    "## 2. Reverse Triangle"
   ]
  },
  {
   "cell_type": "code",
   "execution_count": 4,
   "id": "6e26e7ae",
   "metadata": {},
   "outputs": [
    {
     "name": "stdout",
     "output_type": "stream",
     "text": [
      "*********\n",
      " *******\n",
      "  *****\n",
      "   ***\n",
      "    *\n"
     ]
    }
   ],
   "source": [
    "rows = 5\n",
    "for i in range(rows, 0, -1):\n",
    "    print(\" \" * (rows - i) + \"*\" * (2*i - 1))"
   ]
  },
  {
   "cell_type": "markdown",
   "id": "89061ee6",
   "metadata": {},
   "source": [
    "## 3. Diamond"
   ]
  },
  {
   "cell_type": "code",
   "execution_count": 7,
   "id": "f44509d2",
   "metadata": {},
   "outputs": [
    {
     "name": "stdout",
     "output_type": "stream",
     "text": [
      "    *\n",
      "   ***\n",
      "  *****\n",
      " *******\n",
      "*********\n",
      " *******\n",
      "  *****\n",
      "   ***\n",
      "    *\n"
     ]
    }
   ],
   "source": [
    "rows = 5\n",
    "for i in range(1, rows + 1):\n",
    "    print(\" \" * (rows - i) + \"*\" * (2*i - 1))\n",
    "\n",
    "for i in range(rows -1 , 0, -1):\n",
    "    print(\" \" * (rows - i) + \"*\" * (2*i - 1))"
   ]
  },
  {
   "cell_type": "markdown",
   "id": "1b194504",
   "metadata": {},
   "source": [
    "## 4. Pascal Triangle"
   ]
  },
  {
   "cell_type": "code",
   "execution_count": 9,
   "id": "d10fbf84",
   "metadata": {},
   "outputs": [
    {
     "name": "stdout",
     "output_type": "stream",
     "text": [
      "     1 \n",
      "    1 1 \n",
      "   1 2 1 \n",
      "  1 3 3 1 \n",
      " 1 4 6 4 1 \n"
     ]
    }
   ],
   "source": [
    "rows = 5\n",
    "\n",
    "for i in range(rows):\n",
    "    \n",
    "    # spaces\n",
    "    print(\" \" * (rows - i), end = \"\")\n",
    "    \n",
    "    num = 1\n",
    "    for j in range(i+1):\n",
    "        print(num, end=\" \")\n",
    "        num = num * (i-j) // (j+1) # formula for next number in a row\n",
    "        \n",
    "    print()\n",
    "        "
   ]
  },
  {
   "cell_type": "code",
   "execution_count": null,
   "id": "38c8e602",
   "metadata": {},
   "outputs": [],
   "source": []
  }
 ],
 "metadata": {
  "kernelspec": {
   "display_name": "base",
   "language": "python",
   "name": "python3"
  },
  "language_info": {
   "codemirror_mode": {
    "name": "ipython",
    "version": 3
   },
   "file_extension": ".py",
   "mimetype": "text/x-python",
   "name": "python",
   "nbconvert_exporter": "python",
   "pygments_lexer": "ipython3",
   "version": "3.12.7"
  }
 },
 "nbformat": 4,
 "nbformat_minor": 5
}
